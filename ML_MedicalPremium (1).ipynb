{
 "cells": [
  {
   "cell_type": "code",
   "execution_count": 1,
   "metadata": {
    "_cell_guid": "b1076dfc-b9ad-4769-8c92-a6c4dae69d19",
    "_uuid": "8f2839f25d086af736a60e9eeb907d3b93b6e0e5",
    "execution": {
     "iopub.execute_input": "2021-09-13T08:45:17.267392Z",
     "iopub.status.busy": "2021-09-13T08:45:17.266391Z",
     "iopub.status.idle": "2021-09-13T08:45:18.210512Z",
     "shell.execute_reply": "2021-09-13T08:45:18.209610Z",
     "shell.execute_reply.started": "2021-09-13T08:22:23.425927Z"
    },
    "papermill": {
     "duration": 0.993431,
     "end_time": "2021-09-13T08:45:18.210747",
     "exception": false,
     "start_time": "2021-09-13T08:45:17.217316",
     "status": "completed"
    },
    "tags": []
   },
   "outputs": [],
   "source": [
    "import numpy as np # linear algebra\n",
    "import pandas as pd # data processing\n",
    "import matplotlib.pyplot as plt\n",
    "import seaborn as sns\n",
    "sns.set_theme(style='darkgrid')\n",
    "import sweetviz "
   ]
  },
  {
   "cell_type": "code",
   "execution_count": 2,
   "metadata": {
    "execution": {
     "iopub.execute_input": "2021-09-13T08:45:18.288319Z",
     "iopub.status.busy": "2021-09-13T08:45:18.287655Z",
     "iopub.status.idle": "2021-09-13T08:45:18.302876Z",
     "shell.execute_reply": "2021-09-13T08:45:18.302275Z",
     "shell.execute_reply.started": "2021-09-13T08:22:23.484772Z"
    },
    "papermill": {
     "duration": 0.055573,
     "end_time": "2021-09-13T08:45:18.303042",
     "exception": false,
     "start_time": "2021-09-13T08:45:18.247469",
     "status": "completed"
    },
    "tags": []
   },
   "outputs": [],
   "source": [
    "df=pd.read_csv('Medicalpremium.csv')"
   ]
  },
  {
   "cell_type": "markdown",
   "metadata": {
    "papermill": {
     "duration": 0.03651,
     "end_time": "2021-09-13T08:45:18.375619",
     "exception": false,
     "start_time": "2021-09-13T08:45:18.339109",
     "status": "completed"
    },
    "tags": []
   },
   "source": [
    "# Exploring dataset"
   ]
  },
  {
   "cell_type": "code",
   "execution_count": 3,
   "metadata": {
    "execution": {
     "iopub.execute_input": "2021-09-13T08:45:18.460883Z",
     "iopub.status.busy": "2021-09-13T08:45:18.460212Z",
     "iopub.status.idle": "2021-09-13T08:45:18.478668Z",
     "shell.execute_reply": "2021-09-13T08:45:18.479214Z",
     "shell.execute_reply.started": "2021-09-13T08:22:23.533351Z"
    },
    "papermill": {
     "duration": 0.067706,
     "end_time": "2021-09-13T08:45:18.479389",
     "exception": false,
     "start_time": "2021-09-13T08:45:18.411683",
     "status": "completed"
    },
    "tags": []
   },
   "outputs": [
    {
     "data": {
      "text/html": [
       "<div>\n",
       "<style scoped>\n",
       "    .dataframe tbody tr th:only-of-type {\n",
       "        vertical-align: middle;\n",
       "    }\n",
       "\n",
       "    .dataframe tbody tr th {\n",
       "        vertical-align: top;\n",
       "    }\n",
       "\n",
       "    .dataframe thead th {\n",
       "        text-align: right;\n",
       "    }\n",
       "</style>\n",
       "<table border=\"1\" class=\"dataframe\">\n",
       "  <thead>\n",
       "    <tr style=\"text-align: right;\">\n",
       "      <th></th>\n",
       "      <th>Age</th>\n",
       "      <th>Diabetes</th>\n",
       "      <th>BloodPressureProblems</th>\n",
       "      <th>AnyTransplants</th>\n",
       "      <th>AnyChronicDiseases</th>\n",
       "      <th>Height</th>\n",
       "      <th>Weight</th>\n",
       "      <th>KnownAllergies</th>\n",
       "      <th>HistoryOfCancerInFamily</th>\n",
       "      <th>NumberOfMajorSurgeries</th>\n",
       "      <th>PremiumPrice</th>\n",
       "    </tr>\n",
       "  </thead>\n",
       "  <tbody>\n",
       "    <tr>\n",
       "      <th>0</th>\n",
       "      <td>45</td>\n",
       "      <td>0</td>\n",
       "      <td>0</td>\n",
       "      <td>0</td>\n",
       "      <td>0</td>\n",
       "      <td>155</td>\n",
       "      <td>57</td>\n",
       "      <td>0</td>\n",
       "      <td>0</td>\n",
       "      <td>0</td>\n",
       "      <td>25000</td>\n",
       "    </tr>\n",
       "    <tr>\n",
       "      <th>1</th>\n",
       "      <td>60</td>\n",
       "      <td>1</td>\n",
       "      <td>0</td>\n",
       "      <td>0</td>\n",
       "      <td>0</td>\n",
       "      <td>180</td>\n",
       "      <td>73</td>\n",
       "      <td>0</td>\n",
       "      <td>0</td>\n",
       "      <td>0</td>\n",
       "      <td>29000</td>\n",
       "    </tr>\n",
       "    <tr>\n",
       "      <th>2</th>\n",
       "      <td>36</td>\n",
       "      <td>1</td>\n",
       "      <td>1</td>\n",
       "      <td>0</td>\n",
       "      <td>0</td>\n",
       "      <td>158</td>\n",
       "      <td>59</td>\n",
       "      <td>0</td>\n",
       "      <td>0</td>\n",
       "      <td>1</td>\n",
       "      <td>23000</td>\n",
       "    </tr>\n",
       "    <tr>\n",
       "      <th>3</th>\n",
       "      <td>52</td>\n",
       "      <td>1</td>\n",
       "      <td>1</td>\n",
       "      <td>0</td>\n",
       "      <td>1</td>\n",
       "      <td>183</td>\n",
       "      <td>93</td>\n",
       "      <td>0</td>\n",
       "      <td>0</td>\n",
       "      <td>2</td>\n",
       "      <td>28000</td>\n",
       "    </tr>\n",
       "    <tr>\n",
       "      <th>4</th>\n",
       "      <td>38</td>\n",
       "      <td>0</td>\n",
       "      <td>0</td>\n",
       "      <td>0</td>\n",
       "      <td>1</td>\n",
       "      <td>166</td>\n",
       "      <td>88</td>\n",
       "      <td>0</td>\n",
       "      <td>0</td>\n",
       "      <td>1</td>\n",
       "      <td>23000</td>\n",
       "    </tr>\n",
       "  </tbody>\n",
       "</table>\n",
       "</div>"
      ],
      "text/plain": [
       "   Age  Diabetes  BloodPressureProblems  AnyTransplants  AnyChronicDiseases  \\\n",
       "0   45         0                      0               0                   0   \n",
       "1   60         1                      0               0                   0   \n",
       "2   36         1                      1               0                   0   \n",
       "3   52         1                      1               0                   1   \n",
       "4   38         0                      0               0                   1   \n",
       "\n",
       "   Height  Weight  KnownAllergies  HistoryOfCancerInFamily  \\\n",
       "0     155      57               0                        0   \n",
       "1     180      73               0                        0   \n",
       "2     158      59               0                        0   \n",
       "3     183      93               0                        0   \n",
       "4     166      88               0                        0   \n",
       "\n",
       "   NumberOfMajorSurgeries  PremiumPrice  \n",
       "0                       0         25000  \n",
       "1                       0         29000  \n",
       "2                       1         23000  \n",
       "3                       2         28000  \n",
       "4                       1         23000  "
      ]
     },
     "execution_count": 3,
     "metadata": {},
     "output_type": "execute_result"
    }
   ],
   "source": [
    "df.head()"
   ]
  },
  {
   "cell_type": "code",
   "execution_count": 4,
   "metadata": {
    "execution": {
     "iopub.execute_input": "2021-09-13T08:45:18.557164Z",
     "iopub.status.busy": "2021-09-13T08:45:18.556470Z",
     "iopub.status.idle": "2021-09-13T08:45:18.601393Z",
     "shell.execute_reply": "2021-09-13T08:45:18.601900Z",
     "shell.execute_reply.started": "2021-09-13T08:22:23.573211Z"
    },
    "papermill": {
     "duration": 0.085147,
     "end_time": "2021-09-13T08:45:18.602094",
     "exception": false,
     "start_time": "2021-09-13T08:45:18.516947",
     "status": "completed"
    },
    "tags": []
   },
   "outputs": [
    {
     "data": {
      "text/html": [
       "<div>\n",
       "<style scoped>\n",
       "    .dataframe tbody tr th:only-of-type {\n",
       "        vertical-align: middle;\n",
       "    }\n",
       "\n",
       "    .dataframe tbody tr th {\n",
       "        vertical-align: top;\n",
       "    }\n",
       "\n",
       "    .dataframe thead th {\n",
       "        text-align: right;\n",
       "    }\n",
       "</style>\n",
       "<table border=\"1\" class=\"dataframe\">\n",
       "  <thead>\n",
       "    <tr style=\"text-align: right;\">\n",
       "      <th></th>\n",
       "      <th>Age</th>\n",
       "      <th>Diabetes</th>\n",
       "      <th>BloodPressureProblems</th>\n",
       "      <th>AnyTransplants</th>\n",
       "      <th>AnyChronicDiseases</th>\n",
       "      <th>Height</th>\n",
       "      <th>Weight</th>\n",
       "      <th>KnownAllergies</th>\n",
       "      <th>HistoryOfCancerInFamily</th>\n",
       "      <th>NumberOfMajorSurgeries</th>\n",
       "      <th>PremiumPrice</th>\n",
       "    </tr>\n",
       "  </thead>\n",
       "  <tbody>\n",
       "    <tr>\n",
       "      <th>count</th>\n",
       "      <td>986.000000</td>\n",
       "      <td>986.000000</td>\n",
       "      <td>986.000000</td>\n",
       "      <td>986.000000</td>\n",
       "      <td>986.000000</td>\n",
       "      <td>986.000000</td>\n",
       "      <td>986.000000</td>\n",
       "      <td>986.000000</td>\n",
       "      <td>986.000000</td>\n",
       "      <td>986.000000</td>\n",
       "      <td>986.000000</td>\n",
       "    </tr>\n",
       "    <tr>\n",
       "      <th>mean</th>\n",
       "      <td>41.745436</td>\n",
       "      <td>0.419878</td>\n",
       "      <td>0.468560</td>\n",
       "      <td>0.055781</td>\n",
       "      <td>0.180527</td>\n",
       "      <td>168.182556</td>\n",
       "      <td>76.950304</td>\n",
       "      <td>0.215010</td>\n",
       "      <td>0.117647</td>\n",
       "      <td>0.667343</td>\n",
       "      <td>24336.713996</td>\n",
       "    </tr>\n",
       "    <tr>\n",
       "      <th>std</th>\n",
       "      <td>13.963371</td>\n",
       "      <td>0.493789</td>\n",
       "      <td>0.499264</td>\n",
       "      <td>0.229615</td>\n",
       "      <td>0.384821</td>\n",
       "      <td>10.098155</td>\n",
       "      <td>14.265096</td>\n",
       "      <td>0.411038</td>\n",
       "      <td>0.322353</td>\n",
       "      <td>0.749205</td>\n",
       "      <td>6248.184382</td>\n",
       "    </tr>\n",
       "    <tr>\n",
       "      <th>min</th>\n",
       "      <td>18.000000</td>\n",
       "      <td>0.000000</td>\n",
       "      <td>0.000000</td>\n",
       "      <td>0.000000</td>\n",
       "      <td>0.000000</td>\n",
       "      <td>145.000000</td>\n",
       "      <td>51.000000</td>\n",
       "      <td>0.000000</td>\n",
       "      <td>0.000000</td>\n",
       "      <td>0.000000</td>\n",
       "      <td>15000.000000</td>\n",
       "    </tr>\n",
       "    <tr>\n",
       "      <th>25%</th>\n",
       "      <td>30.000000</td>\n",
       "      <td>0.000000</td>\n",
       "      <td>0.000000</td>\n",
       "      <td>0.000000</td>\n",
       "      <td>0.000000</td>\n",
       "      <td>161.000000</td>\n",
       "      <td>67.000000</td>\n",
       "      <td>0.000000</td>\n",
       "      <td>0.000000</td>\n",
       "      <td>0.000000</td>\n",
       "      <td>21000.000000</td>\n",
       "    </tr>\n",
       "    <tr>\n",
       "      <th>50%</th>\n",
       "      <td>42.000000</td>\n",
       "      <td>0.000000</td>\n",
       "      <td>0.000000</td>\n",
       "      <td>0.000000</td>\n",
       "      <td>0.000000</td>\n",
       "      <td>168.000000</td>\n",
       "      <td>75.000000</td>\n",
       "      <td>0.000000</td>\n",
       "      <td>0.000000</td>\n",
       "      <td>1.000000</td>\n",
       "      <td>23000.000000</td>\n",
       "    </tr>\n",
       "    <tr>\n",
       "      <th>75%</th>\n",
       "      <td>53.000000</td>\n",
       "      <td>1.000000</td>\n",
       "      <td>1.000000</td>\n",
       "      <td>0.000000</td>\n",
       "      <td>0.000000</td>\n",
       "      <td>176.000000</td>\n",
       "      <td>87.000000</td>\n",
       "      <td>0.000000</td>\n",
       "      <td>0.000000</td>\n",
       "      <td>1.000000</td>\n",
       "      <td>28000.000000</td>\n",
       "    </tr>\n",
       "    <tr>\n",
       "      <th>max</th>\n",
       "      <td>66.000000</td>\n",
       "      <td>1.000000</td>\n",
       "      <td>1.000000</td>\n",
       "      <td>1.000000</td>\n",
       "      <td>1.000000</td>\n",
       "      <td>188.000000</td>\n",
       "      <td>132.000000</td>\n",
       "      <td>1.000000</td>\n",
       "      <td>1.000000</td>\n",
       "      <td>3.000000</td>\n",
       "      <td>40000.000000</td>\n",
       "    </tr>\n",
       "  </tbody>\n",
       "</table>\n",
       "</div>"
      ],
      "text/plain": [
       "              Age    Diabetes  BloodPressureProblems  AnyTransplants  \\\n",
       "count  986.000000  986.000000             986.000000      986.000000   \n",
       "mean    41.745436    0.419878               0.468560        0.055781   \n",
       "std     13.963371    0.493789               0.499264        0.229615   \n",
       "min     18.000000    0.000000               0.000000        0.000000   \n",
       "25%     30.000000    0.000000               0.000000        0.000000   \n",
       "50%     42.000000    0.000000               0.000000        0.000000   \n",
       "75%     53.000000    1.000000               1.000000        0.000000   \n",
       "max     66.000000    1.000000               1.000000        1.000000   \n",
       "\n",
       "       AnyChronicDiseases      Height      Weight  KnownAllergies  \\\n",
       "count          986.000000  986.000000  986.000000      986.000000   \n",
       "mean             0.180527  168.182556   76.950304        0.215010   \n",
       "std              0.384821   10.098155   14.265096        0.411038   \n",
       "min              0.000000  145.000000   51.000000        0.000000   \n",
       "25%              0.000000  161.000000   67.000000        0.000000   \n",
       "50%              0.000000  168.000000   75.000000        0.000000   \n",
       "75%              0.000000  176.000000   87.000000        0.000000   \n",
       "max              1.000000  188.000000  132.000000        1.000000   \n",
       "\n",
       "       HistoryOfCancerInFamily  NumberOfMajorSurgeries  PremiumPrice  \n",
       "count               986.000000              986.000000    986.000000  \n",
       "mean                  0.117647                0.667343  24336.713996  \n",
       "std                   0.322353                0.749205   6248.184382  \n",
       "min                   0.000000                0.000000  15000.000000  \n",
       "25%                   0.000000                0.000000  21000.000000  \n",
       "50%                   0.000000                1.000000  23000.000000  \n",
       "75%                   0.000000                1.000000  28000.000000  \n",
       "max                   1.000000                3.000000  40000.000000  "
      ]
     },
     "execution_count": 4,
     "metadata": {},
     "output_type": "execute_result"
    }
   ],
   "source": [
    "df.describe()"
   ]
  },
  {
   "cell_type": "code",
   "execution_count": 5,
   "metadata": {
    "execution": {
     "iopub.execute_input": "2021-09-13T08:45:18.679533Z",
     "iopub.status.busy": "2021-09-13T08:45:18.678913Z",
     "iopub.status.idle": "2021-09-13T08:45:18.686709Z",
     "shell.execute_reply": "2021-09-13T08:45:18.686182Z",
     "shell.execute_reply.started": "2021-09-13T08:22:23.619258Z"
    },
    "papermill": {
     "duration": 0.047398,
     "end_time": "2021-09-13T08:45:18.686842",
     "exception": false,
     "start_time": "2021-09-13T08:45:18.639444",
     "status": "completed"
    },
    "tags": []
   },
   "outputs": [
    {
     "data": {
      "text/plain": [
       "Age                        0\n",
       "Diabetes                   0\n",
       "BloodPressureProblems      0\n",
       "AnyTransplants             0\n",
       "AnyChronicDiseases         0\n",
       "Height                     0\n",
       "Weight                     0\n",
       "KnownAllergies             0\n",
       "HistoryOfCancerInFamily    0\n",
       "NumberOfMajorSurgeries     0\n",
       "PremiumPrice               0\n",
       "dtype: int64"
      ]
     },
     "execution_count": 5,
     "metadata": {},
     "output_type": "execute_result"
    }
   ],
   "source": [
    "df.isnull().sum()"
   ]
  },
  {
   "cell_type": "markdown",
   "metadata": {
    "papermill": {
     "duration": 0.037324,
     "end_time": "2021-09-13T08:45:18.761326",
     "exception": false,
     "start_time": "2021-09-13T08:45:18.724002",
     "status": "completed"
    },
    "tags": []
   },
   "source": [
    "# Performing EDA to see the distribution of data"
   ]
  },
  {
   "cell_type": "code",
   "execution_count": 6,
   "metadata": {},
   "outputs": [
    {
     "data": {
      "application/vnd.jupyter.widget-view+json": {
       "model_id": "44812ec49ddb48a99bbdc28bf9606c5f",
       "version_major": 2,
       "version_minor": 0
      },
      "text/plain": [
       "HBox(children=(HTML(value=''), FloatProgress(value=0.0, layout=Layout(flex='2'), max=12.0), HTML(value='')), l…"
      ]
     },
     "metadata": {},
     "output_type": "display_data"
    },
    {
     "name": "stdout",
     "output_type": "stream",
     "text": [
      "\n",
      "Report Report.html was generated! NOTEBOOK/COLAB USERS: the web browser MAY not pop up, regardless, the report IS saved in your notebook/colab files.\n"
     ]
    }
   ],
   "source": [
    "my_report=sweetviz.analyze([df,'train'],target_feat='PremiumPrice')\n",
    "my_report.show_html('Report.html')"
   ]
  },
  {
   "cell_type": "markdown",
   "metadata": {
    "papermill": {
     "duration": 0.040315,
     "end_time": "2021-09-13T08:45:19.985522",
     "exception": false,
     "start_time": "2021-09-13T08:45:19.945207",
     "status": "completed"
    },
    "tags": []
   },
   "source": [
    "## Creating salary-bins to visualize distribution of Premium Price and Age"
   ]
  },
  {
   "cell_type": "code",
   "execution_count": 7,
   "metadata": {
    "execution": {
     "iopub.execute_input": "2021-09-13T08:45:20.076813Z",
     "iopub.status.busy": "2021-09-13T08:45:20.076067Z",
     "iopub.status.idle": "2021-09-13T08:45:20.079413Z",
     "shell.execute_reply": "2021-09-13T08:45:20.078855Z",
     "shell.execute_reply.started": "2021-09-13T08:22:24.441990Z"
    },
    "papermill": {
     "duration": 0.052825,
     "end_time": "2021-09-13T08:45:20.079566",
     "exception": false,
     "start_time": "2021-09-13T08:45:20.026741",
     "status": "completed"
    },
    "tags": []
   },
   "outputs": [],
   "source": [
    "pr_lab=['Low','Basic','Average','High','SuperHigh']\n",
    "df['PremiumLabel']=pr_bins=pd.cut(df['PremiumPrice'],bins=5,labels=pr_lab,precision=0)"
   ]
  },
  {
   "cell_type": "code",
   "execution_count": 8,
   "metadata": {
    "execution": {
     "iopub.execute_input": "2021-09-13T08:45:20.165361Z",
     "iopub.status.busy": "2021-09-13T08:45:20.164752Z",
     "iopub.status.idle": "2021-09-13T08:45:20.168441Z",
     "shell.execute_reply": "2021-09-13T08:45:20.167850Z",
     "shell.execute_reply.started": "2021-09-13T08:22:24.454159Z"
    },
    "papermill": {
     "duration": 0.048882,
     "end_time": "2021-09-13T08:45:20.168600",
     "exception": false,
     "start_time": "2021-09-13T08:45:20.119718",
     "status": "completed"
    },
    "tags": []
   },
   "outputs": [
    {
     "data": {
      "text/plain": [
       "Index(['Age', 'Diabetes', 'BloodPressureProblems', 'AnyTransplants',\n",
       "       'AnyChronicDiseases', 'Height', 'Weight', 'KnownAllergies',\n",
       "       'HistoryOfCancerInFamily', 'NumberOfMajorSurgeries', 'PremiumPrice',\n",
       "       'PremiumLabel'],\n",
       "      dtype='object')"
      ]
     },
     "execution_count": 8,
     "metadata": {},
     "output_type": "execute_result"
    }
   ],
   "source": [
    "df.columns"
   ]
  },
  {
   "cell_type": "code",
   "execution_count": 9,
   "metadata": {
    "execution": {
     "iopub.execute_input": "2021-09-13T08:45:20.262807Z",
     "iopub.status.busy": "2021-09-13T08:45:20.262132Z",
     "iopub.status.idle": "2021-09-13T08:45:20.266298Z",
     "shell.execute_reply": "2021-09-13T08:45:20.266793Z",
     "shell.execute_reply.started": "2021-09-13T08:22:24.471687Z"
    },
    "papermill": {
     "duration": 0.058492,
     "end_time": "2021-09-13T08:45:20.266964",
     "exception": false,
     "start_time": "2021-09-13T08:45:20.208472",
     "status": "completed"
    },
    "tags": []
   },
   "outputs": [
    {
     "data": {
      "text/html": [
       "<div>\n",
       "<style scoped>\n",
       "    .dataframe tbody tr th:only-of-type {\n",
       "        vertical-align: middle;\n",
       "    }\n",
       "\n",
       "    .dataframe tbody tr th {\n",
       "        vertical-align: top;\n",
       "    }\n",
       "\n",
       "    .dataframe thead th {\n",
       "        text-align: right;\n",
       "    }\n",
       "</style>\n",
       "<table border=\"1\" class=\"dataframe\">\n",
       "  <thead>\n",
       "    <tr style=\"text-align: right;\">\n",
       "      <th></th>\n",
       "      <th>Age</th>\n",
       "      <th>Diabetes</th>\n",
       "      <th>BloodPressureProblems</th>\n",
       "      <th>AnyTransplants</th>\n",
       "      <th>AnyChronicDiseases</th>\n",
       "      <th>Height</th>\n",
       "      <th>Weight</th>\n",
       "      <th>KnownAllergies</th>\n",
       "      <th>HistoryOfCancerInFamily</th>\n",
       "      <th>NumberOfMajorSurgeries</th>\n",
       "      <th>PremiumPrice</th>\n",
       "      <th>PremiumLabel</th>\n",
       "    </tr>\n",
       "  </thead>\n",
       "  <tbody>\n",
       "    <tr>\n",
       "      <th>0</th>\n",
       "      <td>45</td>\n",
       "      <td>0</td>\n",
       "      <td>0</td>\n",
       "      <td>0</td>\n",
       "      <td>0</td>\n",
       "      <td>155</td>\n",
       "      <td>57</td>\n",
       "      <td>0</td>\n",
       "      <td>0</td>\n",
       "      <td>0</td>\n",
       "      <td>25000</td>\n",
       "      <td>Basic</td>\n",
       "    </tr>\n",
       "    <tr>\n",
       "      <th>1</th>\n",
       "      <td>60</td>\n",
       "      <td>1</td>\n",
       "      <td>0</td>\n",
       "      <td>0</td>\n",
       "      <td>0</td>\n",
       "      <td>180</td>\n",
       "      <td>73</td>\n",
       "      <td>0</td>\n",
       "      <td>0</td>\n",
       "      <td>0</td>\n",
       "      <td>29000</td>\n",
       "      <td>Average</td>\n",
       "    </tr>\n",
       "    <tr>\n",
       "      <th>2</th>\n",
       "      <td>36</td>\n",
       "      <td>1</td>\n",
       "      <td>1</td>\n",
       "      <td>0</td>\n",
       "      <td>0</td>\n",
       "      <td>158</td>\n",
       "      <td>59</td>\n",
       "      <td>0</td>\n",
       "      <td>0</td>\n",
       "      <td>1</td>\n",
       "      <td>23000</td>\n",
       "      <td>Basic</td>\n",
       "    </tr>\n",
       "    <tr>\n",
       "      <th>3</th>\n",
       "      <td>52</td>\n",
       "      <td>1</td>\n",
       "      <td>1</td>\n",
       "      <td>0</td>\n",
       "      <td>1</td>\n",
       "      <td>183</td>\n",
       "      <td>93</td>\n",
       "      <td>0</td>\n",
       "      <td>0</td>\n",
       "      <td>2</td>\n",
       "      <td>28000</td>\n",
       "      <td>Average</td>\n",
       "    </tr>\n",
       "    <tr>\n",
       "      <th>4</th>\n",
       "      <td>38</td>\n",
       "      <td>0</td>\n",
       "      <td>0</td>\n",
       "      <td>0</td>\n",
       "      <td>1</td>\n",
       "      <td>166</td>\n",
       "      <td>88</td>\n",
       "      <td>0</td>\n",
       "      <td>0</td>\n",
       "      <td>1</td>\n",
       "      <td>23000</td>\n",
       "      <td>Basic</td>\n",
       "    </tr>\n",
       "  </tbody>\n",
       "</table>\n",
       "</div>"
      ],
      "text/plain": [
       "   Age  Diabetes  BloodPressureProblems  AnyTransplants  AnyChronicDiseases  \\\n",
       "0   45         0                      0               0                   0   \n",
       "1   60         1                      0               0                   0   \n",
       "2   36         1                      1               0                   0   \n",
       "3   52         1                      1               0                   1   \n",
       "4   38         0                      0               0                   1   \n",
       "\n",
       "   Height  Weight  KnownAllergies  HistoryOfCancerInFamily  \\\n",
       "0     155      57               0                        0   \n",
       "1     180      73               0                        0   \n",
       "2     158      59               0                        0   \n",
       "3     183      93               0                        0   \n",
       "4     166      88               0                        0   \n",
       "\n",
       "   NumberOfMajorSurgeries  PremiumPrice PremiumLabel  \n",
       "0                       0         25000        Basic  \n",
       "1                       0         29000      Average  \n",
       "2                       1         23000        Basic  \n",
       "3                       2         28000      Average  \n",
       "4                       1         23000        Basic  "
      ]
     },
     "execution_count": 9,
     "metadata": {},
     "output_type": "execute_result"
    }
   ],
   "source": [
    "df.head()"
   ]
  },
  {
   "cell_type": "code",
   "execution_count": 10,
   "metadata": {
    "execution": {
     "iopub.execute_input": "2021-09-13T08:45:20.381348Z",
     "iopub.status.busy": "2021-09-13T08:45:20.380695Z",
     "iopub.status.idle": "2021-09-13T08:45:20.721038Z",
     "shell.execute_reply": "2021-09-13T08:45:20.720378Z",
     "shell.execute_reply.started": "2021-09-13T08:22:24.492388Z"
    },
    "papermill": {
     "duration": 0.413174,
     "end_time": "2021-09-13T08:45:20.721175",
     "exception": false,
     "start_time": "2021-09-13T08:45:20.308001",
     "status": "completed"
    },
    "tags": []
   },
   "outputs": [
    {
     "data": {
      "text/plain": [
       "<AxesSubplot:xlabel='PremiumLabel', ylabel='Age'>"
      ]
     },
     "execution_count": 10,
     "metadata": {},
     "output_type": "execute_result"
    },
    {
     "data": {
      "image/png": "[encoded data removed]",
      "text/plain": [
       "<Figure size 1200x600 with 1 Axes>"
      ]
     },
     "metadata": {},
     "output_type": "display_data"
    }
   ],
   "source": [
    "fig,ax=plt.subplots(figsize=(12,6))\n",
    "sns.barplot(y='Age',x='PremiumLabel',data=df,ax=ax)"
   ]
  },
  {
   "cell_type": "markdown",
   "metadata": {
    "papermill": {
     "duration": 0.052563,
     "end_time": "2021-09-13T08:45:25.459640",
     "exception": false,
     "start_time": "2021-09-13T08:45:25.407077",
     "status": "completed"
    },
    "tags": []
   },
   "source": [
    "# Converting new categorical columns to numeric ones(One hot encoding)"
   ]
  },
  {
   "cell_type": "code",
   "execution_count": 11,
   "metadata": {
    "execution": {
     "iopub.execute_input": "2021-09-13T08:45:25.574865Z",
     "iopub.status.busy": "2021-09-13T08:45:25.573865Z",
     "iopub.status.idle": "2021-09-13T08:45:25.578189Z",
     "shell.execute_reply": "2021-09-13T08:45:25.577649Z",
     "shell.execute_reply.started": "2021-09-13T08:22:29.030490Z"
    },
    "papermill": {
     "duration": 0.065573,
     "end_time": "2021-09-13T08:45:25.578327",
     "exception": false,
     "start_time": "2021-09-13T08:45:25.512754",
     "status": "completed"
    },
    "tags": []
   },
   "outputs": [],
   "source": [
    "df=pd.get_dummies(data=df,columns=['Age','PremiumLabel'])"
   ]
  },
  {
   "cell_type": "code",
   "execution_count": 12,
   "metadata": {
    "execution": {
     "iopub.execute_input": "2021-09-13T08:45:25.686772Z",
     "iopub.status.busy": "2021-09-13T08:45:25.686062Z",
     "iopub.status.idle": "2021-09-13T08:45:25.691528Z",
     "shell.execute_reply": "2021-09-13T08:45:25.692059Z",
     "shell.execute_reply.started": "2021-09-13T08:22:29.042760Z"
    },
    "papermill": {
     "duration": 0.061265,
     "end_time": "2021-09-13T08:45:25.692225",
     "exception": false,
     "start_time": "2021-09-13T08:45:25.630960",
     "status": "completed"
    },
    "tags": []
   },
   "outputs": [
    {
     "data": {
      "text/plain": [
       "Index(['Diabetes', 'BloodPressureProblems', 'AnyTransplants',\n",
       "       'AnyChronicDiseases', 'Height', 'Weight', 'KnownAllergies',\n",
       "       'HistoryOfCancerInFamily', 'NumberOfMajorSurgeries', 'PremiumPrice',\n",
       "       'Age_18', 'Age_19', 'Age_20', 'Age_21', 'Age_22', 'Age_23', 'Age_24',\n",
       "       'Age_25', 'Age_26', 'Age_27', 'Age_28', 'Age_29', 'Age_30', 'Age_31',\n",
       "       'Age_32', 'Age_33', 'Age_34', 'Age_35', 'Age_36', 'Age_37', 'Age_38',\n",
       "       'Age_39', 'Age_40', 'Age_41', 'Age_42', 'Age_43', 'Age_44', 'Age_45',\n",
       "       'Age_46', 'Age_47', 'Age_48', 'Age_49', 'Age_50', 'Age_51', 'Age_52',\n",
       "       'Age_53', 'Age_54', 'Age_55', 'Age_56', 'Age_57', 'Age_58', 'Age_59',\n",
       "       'Age_60', 'Age_61', 'Age_62', 'Age_63', 'Age_64', 'Age_65', 'Age_66',\n",
       "       'PremiumLabel_Low', 'PremiumLabel_Basic', 'PremiumLabel_Average',\n",
       "       'PremiumLabel_High', 'PremiumLabel_SuperHigh'],\n",
       "      dtype='object')"
      ]
     },
     "execution_count": 12,
     "metadata": {},
     "output_type": "execute_result"
    }
   ],
   "source": [
    "df.columns"
   ]
  },
  {
   "cell_type": "code",
   "execution_count": 13,
   "metadata": {
    "execution": {
     "iopub.execute_input": "2021-09-13T08:45:25.801830Z",
     "iopub.status.busy": "2021-09-13T08:45:25.801131Z",
     "iopub.status.idle": "2021-09-13T08:45:25.875117Z",
     "shell.execute_reply": "2021-09-13T08:45:25.875609Z",
     "shell.execute_reply.started": "2021-09-13T08:22:29.059234Z"
    },
    "papermill": {
     "duration": 0.130244,
     "end_time": "2021-09-13T08:45:25.875782",
     "exception": false,
     "start_time": "2021-09-13T08:45:25.745538",
     "status": "completed"
    },
    "tags": []
   },
   "outputs": [
    {
     "data": {
      "text/html": [
       "<div>\n",
       "<style scoped>\n",
       "    .dataframe tbody tr th:only-of-type {\n",
       "        vertical-align: middle;\n",
       "    }\n",
       "\n",
       "    .dataframe tbody tr th {\n",
       "        vertical-align: top;\n",
       "    }\n",
       "\n",
       "    .dataframe thead th {\n",
       "        text-align: right;\n",
       "    }\n",
       "</style>\n",
       "<table border=\"1\" class=\"dataframe\">\n",
       "  <thead>\n",
       "    <tr style=\"text-align: right;\">\n",
       "      <th></th>\n",
       "      <th>Diabetes</th>\n",
       "      <th>BloodPressureProblems</th>\n",
       "      <th>AnyTransplants</th>\n",
       "      <th>AnyChronicDiseases</th>\n",
       "      <th>Height</th>\n",
       "      <th>Weight</th>\n",
       "      <th>KnownAllergies</th>\n",
       "      <th>HistoryOfCancerInFamily</th>\n",
       "      <th>NumberOfMajorSurgeries</th>\n",
       "      <th>PremiumPrice</th>\n",
       "      <th>...</th>\n",
       "      <th>Age_62</th>\n",
       "      <th>Age_63</th>\n",
       "      <th>Age_64</th>\n",
       "      <th>Age_65</th>\n",
       "      <th>Age_66</th>\n",
       "      <th>PremiumLabel_Low</th>\n",
       "      <th>PremiumLabel_Basic</th>\n",
       "      <th>PremiumLabel_Average</th>\n",
       "      <th>PremiumLabel_High</th>\n",
       "      <th>PremiumLabel_SuperHigh</th>\n",
       "    </tr>\n",
       "  </thead>\n",
       "  <tbody>\n",
       "    <tr>\n",
       "      <th>count</th>\n",
       "      <td>986.000000</td>\n",
       "      <td>986.000000</td>\n",
       "      <td>986.000000</td>\n",
       "      <td>986.000000</td>\n",
       "      <td>986.000000</td>\n",
       "      <td>986.000000</td>\n",
       "      <td>986.000000</td>\n",
       "      <td>986.000000</td>\n",
       "      <td>986.000000</td>\n",
       "      <td>986.000000</td>\n",
       "      <td>...</td>\n",
       "      <td>986.000000</td>\n",
       "      <td>986.000000</td>\n",
       "      <td>986.000000</td>\n",
       "      <td>986.000000</td>\n",
       "      <td>986.000000</td>\n",
       "      <td>986.000000</td>\n",
       "      <td>986.000000</td>\n",
       "      <td>986.000000</td>\n",
       "      <td>986.000000</td>\n",
       "      <td>986.000000</td>\n",
       "    </tr>\n",
       "    <tr>\n",
       "      <th>mean</th>\n",
       "      <td>0.419878</td>\n",
       "      <td>0.468560</td>\n",
       "      <td>0.055781</td>\n",
       "      <td>0.180527</td>\n",
       "      <td>168.182556</td>\n",
       "      <td>76.950304</td>\n",
       "      <td>0.215010</td>\n",
       "      <td>0.117647</td>\n",
       "      <td>0.667343</td>\n",
       "      <td>24336.713996</td>\n",
       "      <td>...</td>\n",
       "      <td>0.021298</td>\n",
       "      <td>0.019270</td>\n",
       "      <td>0.022312</td>\n",
       "      <td>0.017241</td>\n",
       "      <td>0.023327</td>\n",
       "      <td>0.227181</td>\n",
       "      <td>0.388438</td>\n",
       "      <td>0.262677</td>\n",
       "      <td>0.079108</td>\n",
       "      <td>0.042596</td>\n",
       "    </tr>\n",
       "    <tr>\n",
       "      <th>std</th>\n",
       "      <td>0.493789</td>\n",
       "      <td>0.499264</td>\n",
       "      <td>0.229615</td>\n",
       "      <td>0.384821</td>\n",
       "      <td>10.098155</td>\n",
       "      <td>14.265096</td>\n",
       "      <td>0.411038</td>\n",
       "      <td>0.322353</td>\n",
       "      <td>0.749205</td>\n",
       "      <td>6248.184382</td>\n",
       "      <td>...</td>\n",
       "      <td>0.144450</td>\n",
       "      <td>0.137541</td>\n",
       "      <td>0.147772</td>\n",
       "      <td>0.130236</td>\n",
       "      <td>0.151015</td>\n",
       "      <td>0.419223</td>\n",
       "      <td>0.487642</td>\n",
       "      <td>0.440312</td>\n",
       "      <td>0.270043</td>\n",
       "      <td>0.202048</td>\n",
       "    </tr>\n",
       "    <tr>\n",
       "      <th>min</th>\n",
       "      <td>0.000000</td>\n",
       "      <td>0.000000</td>\n",
       "      <td>0.000000</td>\n",
       "      <td>0.000000</td>\n",
       "      <td>145.000000</td>\n",
       "      <td>51.000000</td>\n",
       "      <td>0.000000</td>\n",
       "      <td>0.000000</td>\n",
       "      <td>0.000000</td>\n",
       "      <td>15000.000000</td>\n",
       "      <td>...</td>\n",
       "      <td>0.000000</td>\n",
       "      <td>0.000000</td>\n",
       "      <td>0.000000</td>\n",
       "      <td>0.000000</td>\n",
       "      <td>0.000000</td>\n",
       "      <td>0.000000</td>\n",
       "      <td>0.000000</td>\n",
       "      <td>0.000000</td>\n",
       "      <td>0.000000</td>\n",
       "      <td>0.000000</td>\n",
       "    </tr>\n",
       "    <tr>\n",
       "      <th>25%</th>\n",
       "      <td>0.000000</td>\n",
       "      <td>0.000000</td>\n",
       "      <td>0.000000</td>\n",
       "      <td>0.000000</td>\n",
       "      <td>161.000000</td>\n",
       "      <td>67.000000</td>\n",
       "      <td>0.000000</td>\n",
       "      <td>0.000000</td>\n",
       "      <td>0.000000</td>\n",
       "      <td>21000.000000</td>\n",
       "      <td>...</td>\n",
       "      <td>0.000000</td>\n",
       "      <td>0.000000</td>\n",
       "      <td>0.000000</td>\n",
       "      <td>0.000000</td>\n",
       "      <td>0.000000</td>\n",
       "      <td>0.000000</td>\n",
       "      <td>0.000000</td>\n",
       "      <td>0.000000</td>\n",
       "      <td>0.000000</td>\n",
       "      <td>0.000000</td>\n",
       "    </tr>\n",
       "    <tr>\n",
       "      <th>50%</th>\n",
       "      <td>0.000000</td>\n",
       "      <td>0.000000</td>\n",
       "      <td>0.000000</td>\n",
       "      <td>0.000000</td>\n",
       "      <td>168.000000</td>\n",
       "      <td>75.000000</td>\n",
       "      <td>0.000000</td>\n",
       "      <td>0.000000</td>\n",
       "      <td>1.000000</td>\n",
       "      <td>23000.000000</td>\n",
       "      <td>...</td>\n",
       "      <td>0.000000</td>\n",
       "      <td>0.000000</td>\n",
       "      <td>0.000000</td>\n",
       "      <td>0.000000</td>\n",
       "      <td>0.000000</td>\n",
       "      <td>0.000000</td>\n",
       "      <td>0.000000</td>\n",
       "      <td>0.000000</td>\n",
       "      <td>0.000000</td>\n",
       "      <td>0.000000</td>\n",
       "    </tr>\n",
       "    <tr>\n",
       "      <th>75%</th>\n",
       "      <td>1.000000</td>\n",
       "      <td>1.000000</td>\n",
       "      <td>0.000000</td>\n",
       "      <td>0.000000</td>\n",
       "      <td>176.000000</td>\n",
       "      <td>87.000000</td>\n",
       "      <td>0.000000</td>\n",
       "      <td>0.000000</td>\n",
       "      <td>1.000000</td>\n",
       "      <td>28000.000000</td>\n",
       "      <td>...</td>\n",
       "      <td>0.000000</td>\n",
       "      <td>0.000000</td>\n",
       "      <td>0.000000</td>\n",
       "      <td>0.000000</td>\n",
       "      <td>0.000000</td>\n",
       "      <td>0.000000</td>\n",
       "      <td>1.000000</td>\n",
       "      <td>1.000000</td>\n",
       "      <td>0.000000</td>\n",
       "      <td>0.000000</td>\n",
       "    </tr>\n",
       "    <tr>\n",
       "      <th>max</th>\n",
       "      <td>1.000000</td>\n",
       "      <td>1.000000</td>\n",
       "      <td>1.000000</td>\n",
       "      <td>1.000000</td>\n",
       "      <td>188.000000</td>\n",
       "      <td>132.000000</td>\n",
       "      <td>1.000000</td>\n",
       "      <td>1.000000</td>\n",
       "      <td>3.000000</td>\n",
       "      <td>40000.000000</td>\n",
       "      <td>...</td>\n",
       "      <td>1.000000</td>\n",
       "      <td>1.000000</td>\n",
       "      <td>1.000000</td>\n",
       "      <td>1.000000</td>\n",
       "      <td>1.000000</td>\n",
       "      <td>1.000000</td>\n",
       "      <td>1.000000</td>\n",
       "      <td>1.000000</td>\n",
       "      <td>1.000000</td>\n",
       "      <td>1.000000</td>\n",
       "    </tr>\n",
       "  </tbody>\n",
       "</table>\n",
       "<p>8 rows × 64 columns</p>\n",
       "</div>"
      ],
      "text/plain": [
       "         Diabetes  BloodPressureProblems  AnyTransplants  AnyChronicDiseases  \\\n",
       "count  986.000000             986.000000      986.000000          986.000000   \n",
       "mean     0.419878               0.468560        0.055781            0.180527   \n",
       "std      0.493789               0.499264        0.229615            0.384821   \n",
       "min      0.000000               0.000000        0.000000            0.000000   \n",
       "25%      0.000000               0.000000        0.000000            0.000000   \n",
       "50%      0.000000               0.000000        0.000000            0.000000   \n",
       "75%      1.000000               1.000000        0.000000            0.000000   \n",
       "max      1.000000               1.000000        1.000000            1.000000   \n",
       "\n",
       "           Height      Weight  KnownAllergies  HistoryOfCancerInFamily  \\\n",
       "count  986.000000  986.000000      986.000000               986.000000   \n",
       "mean   168.182556   76.950304        0.215010                 0.117647   \n",
       "std     10.098155   14.265096        0.411038                 0.322353   \n",
       "min    145.000000   51.000000        0.000000                 0.000000   \n",
       "25%    161.000000   67.000000        0.000000                 0.000000   \n",
       "50%    168.000000   75.000000        0.000000                 0.000000   \n",
       "75%    176.000000   87.000000        0.000000                 0.000000   \n",
       "max    188.000000  132.000000        1.000000                 1.000000   \n",
       "\n",
       "       NumberOfMajorSurgeries  PremiumPrice  ...      Age_62      Age_63  \\\n",
       "count              986.000000    986.000000  ...  986.000000  986.000000   \n",
       "mean                 0.667343  24336.713996  ...    0.021298    0.019270   \n",
       "std                  0.749205   6248.184382  ...    0.144450    0.137541   \n",
       "min                  0.000000  15000.000000  ...    0.000000    0.000000   \n",
       "25%                  0.000000  21000.000000  ...    0.000000    0.000000   \n",
       "50%                  1.000000  23000.000000  ...    0.000000    0.000000   \n",
       "75%                  1.000000  28000.000000  ...    0.000000    0.000000   \n",
       "max                  3.000000  40000.000000  ...    1.000000    1.000000   \n",
       "\n",
       "           Age_64      Age_65      Age_66  PremiumLabel_Low  \\\n",
       "count  986.000000  986.000000  986.000000        986.000000   \n",
       "mean     0.022312    0.017241    0.023327          0.227181   \n",
       "std      0.147772    0.130236    0.151015          0.419223   \n",
       "min      0.000000    0.000000    0.000000          0.000000   \n",
       "25%      0.000000    0.000000    0.000000          0.000000   \n",
       "50%      0.000000    0.000000    0.000000          0.000000   \n",
       "75%      0.000000    0.000000    0.000000          0.000000   \n",
       "max      1.000000    1.000000    1.000000          1.000000   \n",
       "\n",
       "       PremiumLabel_Basic  PremiumLabel_Average  PremiumLabel_High  \\\n",
       "count          986.000000            986.000000         986.000000   \n",
       "mean             0.388438              0.262677           0.079108   \n",
       "std              0.487642              0.440312           0.270043   \n",
       "min              0.000000              0.000000           0.000000   \n",
       "25%              0.000000              0.000000           0.000000   \n",
       "50%              0.000000              0.000000           0.000000   \n",
       "75%              1.000000              1.000000           0.000000   \n",
       "max              1.000000              1.000000           1.000000   \n",
       "\n",
       "       PremiumLabel_SuperHigh  \n",
       "count              986.000000  \n",
       "mean                 0.042596  \n",
       "std                  0.202048  \n",
       "min                  0.000000  \n",
       "25%                  0.000000  \n",
       "50%                  0.000000  \n",
       "75%                  0.000000  \n",
       "max                  1.000000  \n",
       "\n",
       "[8 rows x 64 columns]"
      ]
     },
     "execution_count": 13,
     "metadata": {},
     "output_type": "execute_result"
    }
   ],
   "source": [
    "df.describe()"
   ]
  },
  {
   "cell_type": "markdown",
   "metadata": {
    "papermill": {
     "duration": 0.05444,
     "end_time": "2021-09-13T08:45:25.984257",
     "exception": false,
     "start_time": "2021-09-13T08:45:25.929817",
     "status": "completed"
    },
    "tags": []
   },
   "source": [
    "# New Dataset"
   ]
  },
  {
   "cell_type": "code",
   "execution_count": 14,
   "metadata": {
    "execution": {
     "iopub.execute_input": "2021-09-13T08:45:26.096661Z",
     "iopub.status.busy": "2021-09-13T08:45:26.095950Z",
     "iopub.status.idle": "2021-09-13T08:45:26.114195Z",
     "shell.execute_reply": "2021-09-13T08:45:26.113647Z",
     "shell.execute_reply.started": "2021-09-13T08:22:29.146822Z"
    },
    "papermill": {
     "duration": 0.075552,
     "end_time": "2021-09-13T08:45:26.114336",
     "exception": false,
     "start_time": "2021-09-13T08:45:26.038784",
     "status": "completed"
    },
    "tags": []
   },
   "outputs": [
    {
     "data": {
      "text/html": [
       "<div>\n",
       "<style scoped>\n",
       "    .dataframe tbody tr th:only-of-type {\n",
       "        vertical-align: middle;\n",
       "    }\n",
       "\n",
       "    .dataframe tbody tr th {\n",
       "        vertical-align: top;\n",
       "    }\n",
       "\n",
       "    .dataframe thead th {\n",
       "        text-align: right;\n",
       "    }\n",
       "</style>\n",
       "<table border=\"1\" class=\"dataframe\">\n",
       "  <thead>\n",
       "    <tr style=\"text-align: right;\">\n",
       "      <th></th>\n",
       "      <th>Diabetes</th>\n",
       "      <th>BloodPressureProblems</th>\n",
       "      <th>AnyTransplants</th>\n",
       "      <th>AnyChronicDiseases</th>\n",
       "      <th>Height</th>\n",
       "      <th>Weight</th>\n",
       "      <th>KnownAllergies</th>\n",
       "      <th>HistoryOfCancerInFamily</th>\n",
       "      <th>NumberOfMajorSurgeries</th>\n",
       "      <th>PremiumPrice</th>\n",
       "      <th>...</th>\n",
       "      <th>Age_62</th>\n",
       "      <th>Age_63</th>\n",
       "      <th>Age_64</th>\n",
       "      <th>Age_65</th>\n",
       "      <th>Age_66</th>\n",
       "      <th>PremiumLabel_Low</th>\n",
       "      <th>PremiumLabel_Basic</th>\n",
       "      <th>PremiumLabel_Average</th>\n",
       "      <th>PremiumLabel_High</th>\n",
       "      <th>PremiumLabel_SuperHigh</th>\n",
       "    </tr>\n",
       "  </thead>\n",
       "  <tbody>\n",
       "    <tr>\n",
       "      <th>0</th>\n",
       "      <td>0</td>\n",
       "      <td>0</td>\n",
       "      <td>0</td>\n",
       "      <td>0</td>\n",
       "      <td>155</td>\n",
       "      <td>57</td>\n",
       "      <td>0</td>\n",
       "      <td>0</td>\n",
       "      <td>0</td>\n",
       "      <td>25000</td>\n",
       "      <td>...</td>\n",
       "      <td>0</td>\n",
       "      <td>0</td>\n",
       "      <td>0</td>\n",
       "      <td>0</td>\n",
       "      <td>0</td>\n",
       "      <td>0</td>\n",
       "      <td>1</td>\n",
       "      <td>0</td>\n",
       "      <td>0</td>\n",
       "      <td>0</td>\n",
       "    </tr>\n",
       "    <tr>\n",
       "      <th>1</th>\n",
       "      <td>1</td>\n",
       "      <td>0</td>\n",
       "      <td>0</td>\n",
       "      <td>0</td>\n",
       "      <td>180</td>\n",
       "      <td>73</td>\n",
       "      <td>0</td>\n",
       "      <td>0</td>\n",
       "      <td>0</td>\n",
       "      <td>29000</td>\n",
       "      <td>...</td>\n",
       "      <td>0</td>\n",
       "      <td>0</td>\n",
       "      <td>0</td>\n",
       "      <td>0</td>\n",
       "      <td>0</td>\n",
       "      <td>0</td>\n",
       "      <td>0</td>\n",
       "      <td>1</td>\n",
       "      <td>0</td>\n",
       "      <td>0</td>\n",
       "    </tr>\n",
       "    <tr>\n",
       "      <th>2</th>\n",
       "      <td>1</td>\n",
       "      <td>1</td>\n",
       "      <td>0</td>\n",
       "      <td>0</td>\n",
       "      <td>158</td>\n",
       "      <td>59</td>\n",
       "      <td>0</td>\n",
       "      <td>0</td>\n",
       "      <td>1</td>\n",
       "      <td>23000</td>\n",
       "      <td>...</td>\n",
       "      <td>0</td>\n",
       "      <td>0</td>\n",
       "      <td>0</td>\n",
       "      <td>0</td>\n",
       "      <td>0</td>\n",
       "      <td>0</td>\n",
       "      <td>1</td>\n",
       "      <td>0</td>\n",
       "      <td>0</td>\n",
       "      <td>0</td>\n",
       "    </tr>\n",
       "    <tr>\n",
       "      <th>3</th>\n",
       "      <td>1</td>\n",
       "      <td>1</td>\n",
       "      <td>0</td>\n",
       "      <td>1</td>\n",
       "      <td>183</td>\n",
       "      <td>93</td>\n",
       "      <td>0</td>\n",
       "      <td>0</td>\n",
       "      <td>2</td>\n",
       "      <td>28000</td>\n",
       "      <td>...</td>\n",
       "      <td>0</td>\n",
       "      <td>0</td>\n",
       "      <td>0</td>\n",
       "      <td>0</td>\n",
       "      <td>0</td>\n",
       "      <td>0</td>\n",
       "      <td>0</td>\n",
       "      <td>1</td>\n",
       "      <td>0</td>\n",
       "      <td>0</td>\n",
       "    </tr>\n",
       "    <tr>\n",
       "      <th>4</th>\n",
       "      <td>0</td>\n",
       "      <td>0</td>\n",
       "      <td>0</td>\n",
       "      <td>1</td>\n",
       "      <td>166</td>\n",
       "      <td>88</td>\n",
       "      <td>0</td>\n",
       "      <td>0</td>\n",
       "      <td>1</td>\n",
       "      <td>23000</td>\n",
       "      <td>...</td>\n",
       "      <td>0</td>\n",
       "      <td>0</td>\n",
       "      <td>0</td>\n",
       "      <td>0</td>\n",
       "      <td>0</td>\n",
       "      <td>0</td>\n",
       "      <td>1</td>\n",
       "      <td>0</td>\n",
       "      <td>0</td>\n",
       "      <td>0</td>\n",
       "    </tr>\n",
       "  </tbody>\n",
       "</table>\n",
       "<p>5 rows × 64 columns</p>\n",
       "</div>"
      ],
      "text/plain": [
       "   Diabetes  BloodPressureProblems  AnyTransplants  AnyChronicDiseases  \\\n",
       "0         0                      0               0                   0   \n",
       "1         1                      0               0                   0   \n",
       "2         1                      1               0                   0   \n",
       "3         1                      1               0                   1   \n",
       "4         0                      0               0                   1   \n",
       "\n",
       "   Height  Weight  KnownAllergies  HistoryOfCancerInFamily  \\\n",
       "0     155      57               0                        0   \n",
       "1     180      73               0                        0   \n",
       "2     158      59               0                        0   \n",
       "3     183      93               0                        0   \n",
       "4     166      88               0                        0   \n",
       "\n",
       "   NumberOfMajorSurgeries  PremiumPrice  ...  Age_62  Age_63  Age_64  Age_65  \\\n",
       "0                       0         25000  ...       0       0       0       0   \n",
       "1                       0         29000  ...       0       0       0       0   \n",
       "2                       1         23000  ...       0       0       0       0   \n",
       "3                       2         28000  ...       0       0       0       0   \n",
       "4                       1         23000  ...       0       0       0       0   \n",
       "\n",
       "   Age_66  PremiumLabel_Low  PremiumLabel_Basic  PremiumLabel_Average  \\\n",
       "0       0                 0                   1                     0   \n",
       "1       0                 0                   0                     1   \n",
       "2       0                 0                   1                     0   \n",
       "3       0                 0                   0                     1   \n",
       "4       0                 0                   1                     0   \n",
       "\n",
       "   PremiumLabel_High  PremiumLabel_SuperHigh  \n",
       "0                  0                       0  \n",
       "1                  0                       0  \n",
       "2                  0                       0  \n",
       "3                  0                       0  \n",
       "4                  0                       0  \n",
       "\n",
       "[5 rows x 64 columns]"
      ]
     },
     "execution_count": 14,
     "metadata": {},
     "output_type": "execute_result"
    }
   ],
   "source": [
    "df.head()"
   ]
  },
  {
   "cell_type": "code",
   "execution_count": 15,
   "metadata": {
    "execution": {
     "iopub.execute_input": "2021-09-13T08:45:26.230837Z",
     "iopub.status.busy": "2021-09-13T08:45:26.229823Z",
     "iopub.status.idle": "2021-09-13T08:45:26.234286Z",
     "shell.execute_reply": "2021-09-13T08:45:26.233731Z",
     "shell.execute_reply.started": "2021-09-13T08:22:29.170665Z"
    },
    "papermill": {
     "duration": 0.065538,
     "end_time": "2021-09-13T08:45:26.234432",
     "exception": false,
     "start_time": "2021-09-13T08:45:26.168894",
     "status": "completed"
    },
    "tags": []
   },
   "outputs": [
    {
     "data": {
      "text/plain": [
       "(986, 64)"
      ]
     },
     "execution_count": 15,
     "metadata": {},
     "output_type": "execute_result"
    }
   ],
   "source": [
    "df.shape"
   ]
  },
  {
   "cell_type": "markdown",
   "metadata": {
    "papermill": {
     "duration": 0.054307,
     "end_time": "2021-09-13T08:45:26.344190",
     "exception": false,
     "start_time": "2021-09-13T08:45:26.289883",
     "status": "completed"
    },
    "tags": []
   },
   "source": [
    "# Getting Features and Target datasets"
   ]
  },
  {
   "cell_type": "code",
   "execution_count": 16,
   "metadata": {
    "execution": {
     "iopub.execute_input": "2021-09-13T08:45:26.461093Z",
     "iopub.status.busy": "2021-09-13T08:45:26.459723Z",
     "iopub.status.idle": "2021-09-13T08:45:26.463062Z",
     "shell.execute_reply": "2021-09-13T08:45:26.462404Z",
     "shell.execute_reply.started": "2021-09-13T08:22:29.183689Z"
    },
    "papermill": {
     "duration": 0.064031,
     "end_time": "2021-09-13T08:45:26.463201",
     "exception": false,
     "start_time": "2021-09-13T08:45:26.399170",
     "status": "completed"
    },
    "tags": []
   },
   "outputs": [],
   "source": [
    "x=df.drop('PremiumPrice',axis=1)\n",
    "y=df['PremiumPrice']"
   ]
  },
  {
   "cell_type": "code",
   "execution_count": 17,
   "metadata": {
    "execution": {
     "iopub.execute_input": "2021-09-13T08:45:26.580630Z",
     "iopub.status.busy": "2021-09-13T08:45:26.579706Z",
     "iopub.status.idle": "2021-09-13T08:45:26.585519Z",
     "shell.execute_reply": "2021-09-13T08:45:26.584931Z",
     "shell.execute_reply.started": "2021-09-13T08:27:46.597720Z"
    },
    "papermill": {
     "duration": 0.067334,
     "end_time": "2021-09-13T08:45:26.585697",
     "exception": false,
     "start_time": "2021-09-13T08:45:26.518363",
     "status": "completed"
    },
    "tags": []
   },
   "outputs": [
    {
     "data": {
      "text/plain": [
       "Index(['Diabetes', 'BloodPressureProblems', 'AnyTransplants',\n",
       "       'AnyChronicDiseases', 'Height', 'Weight', 'KnownAllergies',\n",
       "       'HistoryOfCancerInFamily', 'NumberOfMajorSurgeries', 'Age_18', 'Age_19',\n",
       "       'Age_20', 'Age_21', 'Age_22', 'Age_23', 'Age_24', 'Age_25', 'Age_26',\n",
       "       'Age_27', 'Age_28', 'Age_29', 'Age_30', 'Age_31', 'Age_32', 'Age_33',\n",
       "       'Age_34', 'Age_35', 'Age_36', 'Age_37', 'Age_38', 'Age_39', 'Age_40',\n",
       "       'Age_41', 'Age_42', 'Age_43', 'Age_44', 'Age_45', 'Age_46', 'Age_47',\n",
       "       'Age_48', 'Age_49', 'Age_50', 'Age_51', 'Age_52', 'Age_53', 'Age_54',\n",
       "       'Age_55', 'Age_56', 'Age_57', 'Age_58', 'Age_59', 'Age_60', 'Age_61',\n",
       "       'Age_62', 'Age_63', 'Age_64', 'Age_65', 'Age_66', 'PremiumLabel_Low',\n",
       "       'PremiumLabel_Basic', 'PremiumLabel_Average', 'PremiumLabel_High',\n",
       "       'PremiumLabel_SuperHigh'],\n",
       "      dtype='object')"
      ]
     },
     "execution_count": 17,
     "metadata": {},
     "output_type": "execute_result"
    }
   ],
   "source": [
    "x.columns"
   ]
  },
  {
   "cell_type": "markdown",
   "metadata": {
    "papermill": {
     "duration": 0.054222,
     "end_time": "2021-09-13T08:45:26.694923",
     "exception": false,
     "start_time": "2021-09-13T08:45:26.640701",
     "status": "completed"
    },
    "tags": []
   },
   "source": [
    "## Scalling the dataset"
   ]
  },
  {
   "cell_type": "code",
   "execution_count": 18,
   "metadata": {
    "execution": {
     "iopub.execute_input": "2021-09-13T08:45:26.808733Z",
     "iopub.status.busy": "2021-09-13T08:45:26.808046Z",
     "iopub.status.idle": "2021-09-13T08:45:26.928994Z",
     "shell.execute_reply": "2021-09-13T08:45:26.928298Z",
     "shell.execute_reply.started": "2021-09-13T08:22:34.795447Z"
    },
    "papermill": {
     "duration": 0.179574,
     "end_time": "2021-09-13T08:45:26.929143",
     "exception": false,
     "start_time": "2021-09-13T08:45:26.749569",
     "status": "completed"
    },
    "tags": []
   },
   "outputs": [],
   "source": [
    "from sklearn.preprocessing import StandardScaler\n",
    "sc=StandardScaler()\n",
    "xsc=sc.fit_transform(x)"
   ]
  },
  {
   "cell_type": "code",
   "execution_count": 19,
   "metadata": {
    "execution": {
     "iopub.execute_input": "2021-09-13T08:45:27.046982Z",
     "iopub.status.busy": "2021-09-13T08:45:27.046275Z",
     "iopub.status.idle": "2021-09-13T08:45:27.049568Z",
     "shell.execute_reply": "2021-09-13T08:45:27.049070Z",
     "shell.execute_reply.started": "2021-09-13T08:29:16.634270Z"
    },
    "papermill": {
     "duration": 0.063829,
     "end_time": "2021-09-13T08:45:27.049728",
     "exception": false,
     "start_time": "2021-09-13T08:45:26.985899",
     "status": "completed"
    },
    "tags": []
   },
   "outputs": [],
   "source": [
    "xsc=pd.DataFrame(xsc,columns=x.columns)"
   ]
  },
  {
   "cell_type": "markdown",
   "metadata": {
    "papermill": {
     "duration": 0.05656,
     "end_time": "2021-09-13T08:45:28.033315",
     "exception": false,
     "start_time": "2021-09-13T08:45:27.976755",
     "status": "completed"
    },
    "tags": []
   },
   "source": [
    "# Splitting into Test and Train datasets"
   ]
  },
  {
   "cell_type": "code",
   "execution_count": 20,
   "metadata": {
    "execution": {
     "iopub.execute_input": "2021-09-13T08:45:28.150998Z",
     "iopub.status.busy": "2021-09-13T08:45:28.150277Z",
     "iopub.status.idle": "2021-09-13T08:45:28.152875Z",
     "shell.execute_reply": "2021-09-13T08:45:28.152198Z",
     "shell.execute_reply.started": "2021-09-13T08:33:48.630785Z"
    },
    "papermill": {
     "duration": 0.063196,
     "end_time": "2021-09-13T08:45:28.153017",
     "exception": false,
     "start_time": "2021-09-13T08:45:28.089821",
     "status": "completed"
    },
    "tags": []
   },
   "outputs": [],
   "source": [
    "from sklearn.model_selection import train_test_split"
   ]
  },
  {
   "cell_type": "markdown",
   "metadata": {
    "papermill": {
     "duration": 0.055477,
     "end_time": "2021-09-13T08:45:28.265200",
     "exception": false,
     "start_time": "2021-09-13T08:45:28.209723",
     "status": "completed"
    },
    "tags": []
   },
   "source": [
    "## SPLITTING dataset"
   ]
  },
  {
   "cell_type": "code",
   "execution_count": 21,
   "metadata": {
    "execution": {
     "iopub.execute_input": "2021-09-13T08:45:28.379592Z",
     "iopub.status.busy": "2021-09-13T08:45:28.378933Z",
     "iopub.status.idle": "2021-09-13T08:45:28.385859Z",
     "shell.execute_reply": "2021-09-13T08:45:28.385333Z",
     "shell.execute_reply.started": "2021-09-13T08:33:51.532145Z"
    },
    "papermill": {
     "duration": 0.065181,
     "end_time": "2021-09-13T08:45:28.386003",
     "exception": false,
     "start_time": "2021-09-13T08:45:28.320822",
     "status": "completed"
    },
    "tags": []
   },
   "outputs": [],
   "source": [
    "xtr,xte,ytr,yte=train_test_split(xsc,y,random_state=33,test_size=0.3)"
   ]
  },
  {
   "cell_type": "markdown",
   "metadata": {
    "papermill": {
     "duration": 0.05598,
     "end_time": "2021-09-13T08:45:28.497651",
     "exception": false,
     "start_time": "2021-09-13T08:45:28.441671",
     "status": "completed"
    },
    "tags": []
   },
   "source": [
    "# Building ML model"
   ]
  },
  {
   "cell_type": "code",
   "execution_count": 22,
   "metadata": {
    "execution": {
     "iopub.execute_input": "2021-09-13T08:45:28.613668Z",
     "iopub.status.busy": "2021-09-13T08:45:28.612897Z",
     "iopub.status.idle": "2021-09-13T08:45:28.665327Z",
     "shell.execute_reply": "2021-09-13T08:45:28.664659Z",
     "shell.execute_reply.started": "2021-09-13T08:33:54.350678Z"
    },
    "papermill": {
     "duration": 0.112004,
     "end_time": "2021-09-13T08:45:28.665464",
     "exception": false,
     "start_time": "2021-09-13T08:45:28.553460",
     "status": "completed"
    },
    "tags": []
   },
   "outputs": [],
   "source": [
    "from sklearn.ensemble import RandomForestRegressor\n",
    "from sklearn.model_selection import GridSearchCV"
   ]
  },
  {
   "cell_type": "code",
   "execution_count": 23,
   "metadata": {},
   "outputs": [],
   "source": [
    "rfg=RandomForestRegressor(n_jobs=-1,verbose=2)\n",
    "param_grid={'n_estimators':[60,50,55],\n",
    "            'criterion':['mse','mae'],\n",
    "            'max_depth':[7],'min_samples_split':[3],\n",
    "            'max_features':['auto']}"
   ]
  },
  {
   "cell_type": "code",
   "execution_count": 24,
   "metadata": {
    "execution": {
     "iopub.execute_input": "2021-09-13T08:45:28.780380Z",
     "iopub.status.busy": "2021-09-13T08:45:28.779368Z",
     "iopub.status.idle": "2021-09-13T08:45:28.786015Z",
     "shell.execute_reply": "2021-09-13T08:45:28.785338Z",
     "shell.execute_reply.started": "2021-09-13T08:41:57.705198Z"
    },
    "papermill": {
     "duration": 0.064954,
     "end_time": "2021-09-13T08:45:28.786152",
     "exception": false,
     "start_time": "2021-09-13T08:45:28.721198",
     "status": "completed"
    },
    "tags": []
   },
   "outputs": [
    {
     "name": "stdout",
     "output_type": "stream",
     "text": [
      "Test Score : 0.9857\n",
      "Best Parameters : {'max_depth': 7}\n",
      "Best CV Score : 0.9900\n"
     ]
    }
   ],
   "source": [
    "from xgboost import XGBRegressor\n",
    "scores = []\n",
    "param_grid = {'max_depth' : [2, 3, 4, 5, 6, 7, 8, 9]}\n",
    "model = XGBRegressor()\n",
    "gs = GridSearchCV(model, param_grid, cv=5)\n",
    "gs.fit(xtr, ytr)\n",
    "gb_score = gs.score(xte,yte)\n",
    "print('Test Score : {:.4f}'.format(gb_score))\n",
    "print('Best Parameters :', gs.best_params_)\n",
    "print('Best CV Score : {:.4f}'.format(gs.best_score_))\n",
    "scores.append(gb_score)\n",
    "\n",
    "\n",
    "gs=GridSearchCV(model,param_grid=param_grid,cv=3,n_jobs=-1,verbose=1)"
   ]
  },
  {
   "cell_type": "code",
   "execution_count": 25,
   "metadata": {
    "execution": {
     "iopub.execute_input": "2021-09-13T08:45:28.903341Z",
     "iopub.status.busy": "2021-09-13T08:45:28.902657Z",
     "iopub.status.idle": "2021-09-13T08:45:33.870866Z",
     "shell.execute_reply": "2021-09-13T08:45:33.871306Z",
     "shell.execute_reply.started": "2021-09-13T08:42:00.360022Z"
    },
    "papermill": {
     "duration": 5.029413,
     "end_time": "2021-09-13T08:45:33.871474",
     "exception": false,
     "start_time": "2021-09-13T08:45:28.842061",
     "status": "completed"
    },
    "tags": []
   },
   "outputs": [
    {
     "name": "stdout",
     "output_type": "stream",
     "text": [
      "Fitting 3 folds for each of 8 candidates, totalling 24 fits\n"
     ]
    },
    {
     "data": {
      "text/plain": [
       "GridSearchCV(cv=3,\n",
       "             estimator=XGBRegressor(base_score=None, booster=None,\n",
       "                                    colsample_bylevel=None,\n",
       "                                    colsample_bynode=None,\n",
       "                                    colsample_bytree=None, gamma=None,\n",
       "                                    gpu_id=None, importance_type='gain',\n",
       "                                    interaction_constraints=None,\n",
       "                                    learning_rate=None, max_delta_step=None,\n",
       "                                    max_depth=None, min_child_weight=None,\n",
       "                                    missing=nan, monotone_constraints=None,\n",
       "                                    n_estimators=100, n_jobs=None,\n",
       "                                    num_parallel_tree=None, random_state=None,\n",
       "                                    reg_alpha=None, reg_lambda=None,\n",
       "                                    scale_pos_weight=None, subsample=None,\n",
       "                                    tree_method=None, validate_parameters=None,\n",
       "                                    verbosity=None),\n",
       "             n_jobs=-1, param_grid={'max_depth': [2, 3, 4, 5, 6, 7, 8, 9]},\n",
       "             verbose=1)"
      ]
     },
     "execution_count": 25,
     "metadata": {},
     "output_type": "execute_result"
    }
   ],
   "source": [
    "gs.fit(xtr,ytr)"
   ]
  },
  {
   "cell_type": "code",
   "execution_count": 26,
   "metadata": {},
   "outputs": [],
   "source": [
    "#rfg.fit(xtr,ytr)"
   ]
  },
  {
   "cell_type": "code",
   "execution_count": 27,
   "metadata": {
    "execution": {
     "iopub.execute_input": "2021-09-13T08:45:33.993878Z",
     "iopub.status.busy": "2021-09-13T08:45:33.993010Z",
     "iopub.status.idle": "2021-09-13T08:45:33.996209Z",
     "shell.execute_reply": "2021-09-13T08:45:33.996698Z",
     "shell.execute_reply.started": "2021-09-13T08:42:17.775955Z"
    },
    "papermill": {
     "duration": 0.067605,
     "end_time": "2021-09-13T08:45:33.996868",
     "exception": false,
     "start_time": "2021-09-13T08:45:33.929263",
     "status": "completed"
    },
    "tags": []
   },
   "outputs": [
    {
     "data": {
      "text/plain": [
       "{'max_depth': 5}"
      ]
     },
     "execution_count": 27,
     "metadata": {},
     "output_type": "execute_result"
    }
   ],
   "source": [
    "gs.best_params_"
   ]
  },
  {
   "cell_type": "code",
   "execution_count": 28,
   "metadata": {
    "execution": {
     "iopub.execute_input": "2021-09-13T08:45:34.117295Z",
     "iopub.status.busy": "2021-09-13T08:45:34.116680Z",
     "iopub.status.idle": "2021-09-13T08:45:34.123332Z",
     "shell.execute_reply": "2021-09-13T08:45:34.122646Z",
     "shell.execute_reply.started": "2021-09-13T08:42:23.956336Z"
    },
    "papermill": {
     "duration": 0.068703,
     "end_time": "2021-09-13T08:45:34.123476",
     "exception": false,
     "start_time": "2021-09-13T08:45:34.054773",
     "status": "completed"
    },
    "tags": []
   },
   "outputs": [
    {
     "data": {
      "text/plain": [
       "0.9886738959698277"
      ]
     },
     "execution_count": 28,
     "metadata": {},
     "output_type": "execute_result"
    }
   ],
   "source": [
    "gs.best_score_"
   ]
  },
  {
   "cell_type": "code",
   "execution_count": 29,
   "metadata": {
    "execution": {
     "iopub.execute_input": "2021-09-13T08:45:34.248199Z",
     "iopub.status.busy": "2021-09-13T08:45:34.247134Z",
     "iopub.status.idle": "2021-09-13T08:45:34.353674Z",
     "shell.execute_reply": "2021-09-13T08:45:34.353023Z",
     "shell.execute_reply.started": "2021-09-13T08:42:26.285857Z"
    },
    "papermill": {
     "duration": 0.17252,
     "end_time": "2021-09-13T08:45:34.353812",
     "exception": false,
     "start_time": "2021-09-13T08:45:34.181292",
     "status": "completed"
    },
    "tags": []
   },
   "outputs": [],
   "source": [
    "predicted_y=gs.predict(xte)\n"
   ]
  },
  {
   "cell_type": "markdown",
   "metadata": {
    "papermill": {
     "duration": 0.057374,
     "end_time": "2021-09-13T08:45:34.469248",
     "exception": false,
     "start_time": "2021-09-13T08:45:34.411874",
     "status": "completed"
    },
    "tags": []
   },
   "source": [
    "# Testing the accuracy of model"
   ]
  },
  {
   "cell_type": "code",
   "execution_count": 30,
   "metadata": {
    "execution": {
     "iopub.execute_input": "2021-09-13T08:45:34.589912Z",
     "iopub.status.busy": "2021-09-13T08:45:34.589253Z",
     "iopub.status.idle": "2021-09-13T08:45:34.592392Z",
     "shell.execute_reply": "2021-09-13T08:45:34.591790Z",
     "shell.execute_reply.started": "2021-09-13T08:39:04.773262Z"
    },
    "papermill": {
     "duration": 0.065554,
     "end_time": "2021-09-13T08:45:34.592530",
     "exception": false,
     "start_time": "2021-09-13T08:45:34.526976",
     "status": "completed"
    },
    "tags": []
   },
   "outputs": [],
   "source": [
    "from sklearn.metrics import r2_score"
   ]
  },
  {
   "cell_type": "code",
   "execution_count": 31,
   "metadata": {
    "execution": {
     "iopub.execute_input": "2021-09-13T08:45:34.715125Z",
     "iopub.status.busy": "2021-09-13T08:45:34.714211Z",
     "iopub.status.idle": "2021-09-13T08:45:34.717880Z",
     "shell.execute_reply": "2021-09-13T08:45:34.718332Z",
     "shell.execute_reply.started": "2021-09-13T08:42:30.618743Z"
    },
    "papermill": {
     "duration": 0.067768,
     "end_time": "2021-09-13T08:45:34.718507",
     "exception": false,
     "start_time": "2021-09-13T08:45:34.650739",
     "status": "completed"
    },
    "tags": []
   },
   "outputs": [
    {
     "data": {
      "text/plain": [
       "0.9875989593103343"
      ]
     },
     "execution_count": 31,
     "metadata": {},
     "output_type": "execute_result"
    }
   ],
   "source": [
    "r2_score(yte,predicted_y)"
   ]
  }
 ],
 "metadata": {
  "kernelspec": {
   "display_name": "Python 3",
   "language": "python",
   "name": "python3"
  },
  "language_info": {
   "codemirror_mode": {
    "name": "ipython",
    "version": 3
   },
   "file_extension": ".py",
   "mimetype": "text/x-python",
   "name": "python",
   "nbconvert_exporter": "python",
   "pygments_lexer": "ipython3",
   "version": "3.8.5"
  },
  "papermill": {
   "default_parameters": {},
   "duration": 26.802502,
   "end_time": "2021-09-13T08:45:36.470051",
   "environment_variables": {},
   "exception": null,
   "input_path": "__notebook__.ipynb",
   "output_path": "__notebook__.ipynb",
   "parameters": {},
   "start_time": "2021-09-13T08:45:09.667549",
   "version": "2.3.3"
  }
 },
 "nbformat": 4,
 "nbformat_minor": 5
}
