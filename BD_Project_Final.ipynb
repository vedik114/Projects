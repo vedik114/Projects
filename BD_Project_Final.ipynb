{
 "cells": [
  {
   "cell_type": "markdown",
   "metadata": {},
   "source": [
    "## Importing libraries - "
   ]
  },
  {
   "cell_type": "code",
   "execution_count": 1,
   "metadata": {},
   "outputs": [],
   "source": [
    "import pandas as pd\n",
    "import numpy as np\n",
    "import pymongo\n",
    "from pymongo import MongoClient\n",
    "import dask.dataframe as dd\n",
    "import time"
   ]
  },
  {
   "cell_type": "markdown",
   "metadata": {},
   "source": [
    "## Loading data from MongoDB in Python - "
   ]
  },
  {
   "cell_type": "code",
   "execution_count": 2,
   "metadata": {},
   "outputs": [],
   "source": [
    "cnx_string = \"mongodb://127.0.0.1:27017\"\n",
    "client = MongoClient(cnx_string)"
   ]
  },
  {
   "cell_type": "code",
   "execution_count": 3,
   "metadata": {},
   "outputs": [],
   "source": [
    "db = client['bd_project']\n",
    "#select the collection within the database\n",
    "test = db.winemag_data\n",
    "#convert entire collection to Pandas dataframe\n",
    "test = pd.DataFrame(list(test.find()))"
   ]
  },
  {
   "cell_type": "code",
   "execution_count": 4,
   "metadata": {},
   "outputs": [
    {
     "data": {
      "text/plain": [
       "(129971, 11)"
      ]
     },
     "execution_count": 4,
     "metadata": {},
     "output_type": "execute_result"
    }
   ],
   "source": [
    "test.shape"
   ]
  },
  {
   "cell_type": "code",
   "execution_count": 5,
   "metadata": {},
   "outputs": [
    {
     "data": {
      "text/html": [
       "<div>\n",
       "<style scoped>\n",
       "    .dataframe tbody tr th:only-of-type {\n",
       "        vertical-align: middle;\n",
       "    }\n",
       "\n",
       "    .dataframe tbody tr th {\n",
       "        vertical-align: top;\n",
       "    }\n",
       "\n",
       "    .dataframe thead th {\n",
       "        text-align: right;\n",
       "    }\n",
       "</style>\n",
       "<table border=\"1\" class=\"dataframe\">\n",
       "  <thead>\n",
       "    <tr style=\"text-align: right;\">\n",
       "      <th></th>\n",
       "      <th>_id</th>\n",
       "      <th></th>\n",
       "      <th>country</th>\n",
       "      <th>description</th>\n",
       "      <th>points</th>\n",
       "      <th>price</th>\n",
       "      <th>province</th>\n",
       "      <th>region_1</th>\n",
       "      <th>taster_name</th>\n",
       "      <th>variety</th>\n",
       "      <th>winery</th>\n",
       "    </tr>\n",
       "  </thead>\n",
       "  <tbody>\n",
       "    <tr>\n",
       "      <th>0</th>\n",
       "      <td>6233800a96e1e2f67c153bca</td>\n",
       "      <td>0</td>\n",
       "      <td>Italy</td>\n",
       "      <td>Aromas include tropical fruit, broom, brimston...</td>\n",
       "      <td>87</td>\n",
       "      <td></td>\n",
       "      <td>Sicily &amp; Sardinia</td>\n",
       "      <td>Etna</td>\n",
       "      <td>Kerin O’Keefe</td>\n",
       "      <td>White Blend</td>\n",
       "      <td>Nicosia</td>\n",
       "    </tr>\n",
       "    <tr>\n",
       "      <th>1</th>\n",
       "      <td>6233800a96e1e2f67c153bcb</td>\n",
       "      <td>1</td>\n",
       "      <td>Portugal</td>\n",
       "      <td>This is ripe and fruity, a wine that is smooth...</td>\n",
       "      <td>87</td>\n",
       "      <td>15</td>\n",
       "      <td>Douro</td>\n",
       "      <td></td>\n",
       "      <td>Roger Voss</td>\n",
       "      <td>Portuguese Red</td>\n",
       "      <td>Quinta dos Avidagos</td>\n",
       "    </tr>\n",
       "    <tr>\n",
       "      <th>2</th>\n",
       "      <td>6233800a96e1e2f67c153bcc</td>\n",
       "      <td>2</td>\n",
       "      <td>US</td>\n",
       "      <td>Tart and snappy, the flavors of lime flesh and...</td>\n",
       "      <td>87</td>\n",
       "      <td>14</td>\n",
       "      <td>Oregon</td>\n",
       "      <td>Willamette Valley</td>\n",
       "      <td>Paul Gregutt</td>\n",
       "      <td>Pinot Gris</td>\n",
       "      <td>Rainstorm</td>\n",
       "    </tr>\n",
       "    <tr>\n",
       "      <th>3</th>\n",
       "      <td>6233800a96e1e2f67c153bcd</td>\n",
       "      <td>4</td>\n",
       "      <td>US</td>\n",
       "      <td>Much like the regular bottling from 2012, this...</td>\n",
       "      <td>87</td>\n",
       "      <td>65</td>\n",
       "      <td>Oregon</td>\n",
       "      <td>Willamette Valley</td>\n",
       "      <td>Paul Gregutt</td>\n",
       "      <td>Pinot Noir</td>\n",
       "      <td>Sweet Cheeks</td>\n",
       "    </tr>\n",
       "    <tr>\n",
       "      <th>4</th>\n",
       "      <td>6233800a96e1e2f67c153bce</td>\n",
       "      <td>5</td>\n",
       "      <td>Spain</td>\n",
       "      <td>Blackberry and raspberry aromas show a typical...</td>\n",
       "      <td>87</td>\n",
       "      <td>15</td>\n",
       "      <td>Northern Spain</td>\n",
       "      <td>Navarra</td>\n",
       "      <td>Michael Schachner</td>\n",
       "      <td>Tempranillo-Merlot</td>\n",
       "      <td>Tandem</td>\n",
       "    </tr>\n",
       "  </tbody>\n",
       "</table>\n",
       "</div>"
      ],
      "text/plain": [
       "                        _id      country  \\\n",
       "0  6233800a96e1e2f67c153bca  0     Italy   \n",
       "1  6233800a96e1e2f67c153bcb  1  Portugal   \n",
       "2  6233800a96e1e2f67c153bcc  2        US   \n",
       "3  6233800a96e1e2f67c153bcd  4        US   \n",
       "4  6233800a96e1e2f67c153bce  5     Spain   \n",
       "\n",
       "                                         description  points price  \\\n",
       "0  Aromas include tropical fruit, broom, brimston...      87         \n",
       "1  This is ripe and fruity, a wine that is smooth...      87    15   \n",
       "2  Tart and snappy, the flavors of lime flesh and...      87    14   \n",
       "3  Much like the regular bottling from 2012, this...      87    65   \n",
       "4  Blackberry and raspberry aromas show a typical...      87    15   \n",
       "\n",
       "            province           region_1        taster_name  \\\n",
       "0  Sicily & Sardinia               Etna      Kerin O’Keefe   \n",
       "1              Douro                            Roger Voss   \n",
       "2             Oregon  Willamette Valley       Paul Gregutt   \n",
       "3             Oregon  Willamette Valley       Paul Gregutt   \n",
       "4     Northern Spain            Navarra  Michael Schachner   \n",
       "\n",
       "              variety               winery  \n",
       "0         White Blend              Nicosia  \n",
       "1      Portuguese Red  Quinta dos Avidagos  \n",
       "2          Pinot Gris            Rainstorm  \n",
       "3          Pinot Noir         Sweet Cheeks  \n",
       "4  Tempranillo-Merlot               Tandem  "
      ]
     },
     "execution_count": 5,
     "metadata": {},
     "output_type": "execute_result"
    }
   ],
   "source": [
    "test.head()"
   ]
  },
  {
   "cell_type": "markdown",
   "metadata": {},
   "source": [
    "## Basic data preprocessing - "
   ]
  },
  {
   "cell_type": "code",
   "execution_count": 6,
   "metadata": {},
   "outputs": [
    {
     "data": {
      "text/html": [
       "<div>\n",
       "<style scoped>\n",
       "    .dataframe tbody tr th:only-of-type {\n",
       "        vertical-align: middle;\n",
       "    }\n",
       "\n",
       "    .dataframe tbody tr th {\n",
       "        vertical-align: top;\n",
       "    }\n",
       "\n",
       "    .dataframe thead th {\n",
       "        text-align: right;\n",
       "    }\n",
       "</style>\n",
       "<table border=\"1\" class=\"dataframe\">\n",
       "  <thead>\n",
       "    <tr style=\"text-align: right;\">\n",
       "      <th></th>\n",
       "      <th></th>\n",
       "      <th>country</th>\n",
       "      <th>description</th>\n",
       "      <th>points</th>\n",
       "      <th>price</th>\n",
       "      <th>province</th>\n",
       "      <th>region_1</th>\n",
       "      <th>taster_name</th>\n",
       "      <th>variety</th>\n",
       "      <th>winery</th>\n",
       "    </tr>\n",
       "  </thead>\n",
       "  <tbody>\n",
       "    <tr>\n",
       "      <th>0</th>\n",
       "      <td>0</td>\n",
       "      <td>Italy</td>\n",
       "      <td>Aromas include tropical fruit, broom, brimston...</td>\n",
       "      <td>87</td>\n",
       "      <td></td>\n",
       "      <td>Sicily &amp; Sardinia</td>\n",
       "      <td>Etna</td>\n",
       "      <td>Kerin O’Keefe</td>\n",
       "      <td>White Blend</td>\n",
       "      <td>Nicosia</td>\n",
       "    </tr>\n",
       "    <tr>\n",
       "      <th>1</th>\n",
       "      <td>1</td>\n",
       "      <td>Portugal</td>\n",
       "      <td>This is ripe and fruity, a wine that is smooth...</td>\n",
       "      <td>87</td>\n",
       "      <td>15</td>\n",
       "      <td>Douro</td>\n",
       "      <td></td>\n",
       "      <td>Roger Voss</td>\n",
       "      <td>Portuguese Red</td>\n",
       "      <td>Quinta dos Avidagos</td>\n",
       "    </tr>\n",
       "    <tr>\n",
       "      <th>2</th>\n",
       "      <td>2</td>\n",
       "      <td>US</td>\n",
       "      <td>Tart and snappy, the flavors of lime flesh and...</td>\n",
       "      <td>87</td>\n",
       "      <td>14</td>\n",
       "      <td>Oregon</td>\n",
       "      <td>Willamette Valley</td>\n",
       "      <td>Paul Gregutt</td>\n",
       "      <td>Pinot Gris</td>\n",
       "      <td>Rainstorm</td>\n",
       "    </tr>\n",
       "    <tr>\n",
       "      <th>3</th>\n",
       "      <td>4</td>\n",
       "      <td>US</td>\n",
       "      <td>Much like the regular bottling from 2012, this...</td>\n",
       "      <td>87</td>\n",
       "      <td>65</td>\n",
       "      <td>Oregon</td>\n",
       "      <td>Willamette Valley</td>\n",
       "      <td>Paul Gregutt</td>\n",
       "      <td>Pinot Noir</td>\n",
       "      <td>Sweet Cheeks</td>\n",
       "    </tr>\n",
       "    <tr>\n",
       "      <th>4</th>\n",
       "      <td>5</td>\n",
       "      <td>Spain</td>\n",
       "      <td>Blackberry and raspberry aromas show a typical...</td>\n",
       "      <td>87</td>\n",
       "      <td>15</td>\n",
       "      <td>Northern Spain</td>\n",
       "      <td>Navarra</td>\n",
       "      <td>Michael Schachner</td>\n",
       "      <td>Tempranillo-Merlot</td>\n",
       "      <td>Tandem</td>\n",
       "    </tr>\n",
       "  </tbody>\n",
       "</table>\n",
       "</div>"
      ],
      "text/plain": [
       "       country                                        description  points  \\\n",
       "0  0     Italy  Aromas include tropical fruit, broom, brimston...      87   \n",
       "1  1  Portugal  This is ripe and fruity, a wine that is smooth...      87   \n",
       "2  2        US  Tart and snappy, the flavors of lime flesh and...      87   \n",
       "3  4        US  Much like the regular bottling from 2012, this...      87   \n",
       "4  5     Spain  Blackberry and raspberry aromas show a typical...      87   \n",
       "\n",
       "  price           province           region_1        taster_name  \\\n",
       "0        Sicily & Sardinia               Etna      Kerin O’Keefe   \n",
       "1    15              Douro                            Roger Voss   \n",
       "2    14             Oregon  Willamette Valley       Paul Gregutt   \n",
       "3    65             Oregon  Willamette Valley       Paul Gregutt   \n",
       "4    15     Northern Spain            Navarra  Michael Schachner   \n",
       "\n",
       "              variety               winery  \n",
       "0         White Blend              Nicosia  \n",
       "1      Portuguese Red  Quinta dos Avidagos  \n",
       "2          Pinot Gris            Rainstorm  \n",
       "3          Pinot Noir         Sweet Cheeks  \n",
       "4  Tempranillo-Merlot               Tandem  "
      ]
     },
     "execution_count": 6,
     "metadata": {},
     "output_type": "execute_result"
    }
   ],
   "source": [
    "test.drop(['_id'], axis = 1, inplace = True)\n",
    "test.head()"
   ]
  },
  {
   "cell_type": "code",
   "execution_count": 7,
   "metadata": {},
   "outputs": [
    {
     "data": {
      "text/html": [
       "<div>\n",
       "<style scoped>\n",
       "    .dataframe tbody tr th:only-of-type {\n",
       "        vertical-align: middle;\n",
       "    }\n",
       "\n",
       "    .dataframe tbody tr th {\n",
       "        vertical-align: top;\n",
       "    }\n",
       "\n",
       "    .dataframe thead th {\n",
       "        text-align: right;\n",
       "    }\n",
       "</style>\n",
       "<table border=\"1\" class=\"dataframe\">\n",
       "  <thead>\n",
       "    <tr style=\"text-align: right;\">\n",
       "      <th></th>\n",
       "      <th>id</th>\n",
       "      <th>country</th>\n",
       "      <th>description</th>\n",
       "      <th>points</th>\n",
       "      <th>price</th>\n",
       "      <th>province</th>\n",
       "      <th>region_1</th>\n",
       "      <th>taster_name</th>\n",
       "      <th>variety</th>\n",
       "      <th>winery</th>\n",
       "    </tr>\n",
       "  </thead>\n",
       "  <tbody>\n",
       "    <tr>\n",
       "      <th>0</th>\n",
       "      <td>0</td>\n",
       "      <td>Italy</td>\n",
       "      <td>Aromas include tropical fruit, broom, brimston...</td>\n",
       "      <td>87</td>\n",
       "      <td></td>\n",
       "      <td>Sicily &amp; Sardinia</td>\n",
       "      <td>Etna</td>\n",
       "      <td>Kerin O’Keefe</td>\n",
       "      <td>White Blend</td>\n",
       "      <td>Nicosia</td>\n",
       "    </tr>\n",
       "    <tr>\n",
       "      <th>1</th>\n",
       "      <td>1</td>\n",
       "      <td>Portugal</td>\n",
       "      <td>This is ripe and fruity, a wine that is smooth...</td>\n",
       "      <td>87</td>\n",
       "      <td>15</td>\n",
       "      <td>Douro</td>\n",
       "      <td></td>\n",
       "      <td>Roger Voss</td>\n",
       "      <td>Portuguese Red</td>\n",
       "      <td>Quinta dos Avidagos</td>\n",
       "    </tr>\n",
       "    <tr>\n",
       "      <th>2</th>\n",
       "      <td>2</td>\n",
       "      <td>US</td>\n",
       "      <td>Tart and snappy, the flavors of lime flesh and...</td>\n",
       "      <td>87</td>\n",
       "      <td>14</td>\n",
       "      <td>Oregon</td>\n",
       "      <td>Willamette Valley</td>\n",
       "      <td>Paul Gregutt</td>\n",
       "      <td>Pinot Gris</td>\n",
       "      <td>Rainstorm</td>\n",
       "    </tr>\n",
       "    <tr>\n",
       "      <th>3</th>\n",
       "      <td>4</td>\n",
       "      <td>US</td>\n",
       "      <td>Much like the regular bottling from 2012, this...</td>\n",
       "      <td>87</td>\n",
       "      <td>65</td>\n",
       "      <td>Oregon</td>\n",
       "      <td>Willamette Valley</td>\n",
       "      <td>Paul Gregutt</td>\n",
       "      <td>Pinot Noir</td>\n",
       "      <td>Sweet Cheeks</td>\n",
       "    </tr>\n",
       "    <tr>\n",
       "      <th>4</th>\n",
       "      <td>5</td>\n",
       "      <td>Spain</td>\n",
       "      <td>Blackberry and raspberry aromas show a typical...</td>\n",
       "      <td>87</td>\n",
       "      <td>15</td>\n",
       "      <td>Northern Spain</td>\n",
       "      <td>Navarra</td>\n",
       "      <td>Michael Schachner</td>\n",
       "      <td>Tempranillo-Merlot</td>\n",
       "      <td>Tandem</td>\n",
       "    </tr>\n",
       "  </tbody>\n",
       "</table>\n",
       "</div>"
      ],
      "text/plain": [
       "   id   country                                        description  points  \\\n",
       "0   0     Italy  Aromas include tropical fruit, broom, brimston...      87   \n",
       "1   1  Portugal  This is ripe and fruity, a wine that is smooth...      87   \n",
       "2   2        US  Tart and snappy, the flavors of lime flesh and...      87   \n",
       "3   4        US  Much like the regular bottling from 2012, this...      87   \n",
       "4   5     Spain  Blackberry and raspberry aromas show a typical...      87   \n",
       "\n",
       "  price           province           region_1        taster_name  \\\n",
       "0        Sicily & Sardinia               Etna      Kerin O’Keefe   \n",
       "1    15              Douro                            Roger Voss   \n",
       "2    14             Oregon  Willamette Valley       Paul Gregutt   \n",
       "3    65             Oregon  Willamette Valley       Paul Gregutt   \n",
       "4    15     Northern Spain            Navarra  Michael Schachner   \n",
       "\n",
       "              variety               winery  \n",
       "0         White Blend              Nicosia  \n",
       "1      Portuguese Red  Quinta dos Avidagos  \n",
       "2          Pinot Gris            Rainstorm  \n",
       "3          Pinot Noir         Sweet Cheeks  \n",
       "4  Tempranillo-Merlot               Tandem  "
      ]
     },
     "execution_count": 7,
     "metadata": {},
     "output_type": "execute_result"
    }
   ],
   "source": [
    "test.rename(columns = {test.columns[0] : \"id\"},inplace = True)\n",
    "test.head()"
   ]
  },
  {
   "cell_type": "code",
   "execution_count": 8,
   "metadata": {},
   "outputs": [],
   "source": [
    "test.sort_values(by = ['id'], ascending = True, axis = 0, inplace = True)"
   ]
  },
  {
   "cell_type": "code",
   "execution_count": 9,
   "metadata": {},
   "outputs": [
    {
     "data": {
      "text/plain": [
       "id             0\n",
       "country        0\n",
       "description    0\n",
       "points         0\n",
       "price          0\n",
       "province       0\n",
       "region_1       0\n",
       "taster_name    0\n",
       "variety        0\n",
       "winery         0\n",
       "dtype: int64"
      ]
     },
     "execution_count": 9,
     "metadata": {},
     "output_type": "execute_result"
    }
   ],
   "source": [
    "test.isnull().sum()"
   ]
  },
  {
   "cell_type": "code",
   "execution_count": 10,
   "metadata": {},
   "outputs": [
    {
     "data": {
      "text/html": [
       "<div>\n",
       "<style scoped>\n",
       "    .dataframe tbody tr th:only-of-type {\n",
       "        vertical-align: middle;\n",
       "    }\n",
       "\n",
       "    .dataframe tbody tr th {\n",
       "        vertical-align: top;\n",
       "    }\n",
       "\n",
       "    .dataframe thead th {\n",
       "        text-align: right;\n",
       "    }\n",
       "</style>\n",
       "<table border=\"1\" class=\"dataframe\">\n",
       "  <thead>\n",
       "    <tr style=\"text-align: right;\">\n",
       "      <th></th>\n",
       "      <th>id</th>\n",
       "      <th>country</th>\n",
       "      <th>description</th>\n",
       "      <th>points</th>\n",
       "      <th>price</th>\n",
       "      <th>province</th>\n",
       "      <th>region_1</th>\n",
       "      <th>taster_name</th>\n",
       "      <th>variety</th>\n",
       "      <th>winery</th>\n",
       "    </tr>\n",
       "  </thead>\n",
       "  <tbody>\n",
       "    <tr>\n",
       "      <th>913</th>\n",
       "      <td>913</td>\n",
       "      <td></td>\n",
       "      <td>Amber in color, this wine has aromas of peach ...</td>\n",
       "      <td>87</td>\n",
       "      <td>30</td>\n",
       "      <td></td>\n",
       "      <td></td>\n",
       "      <td>Mike DeSimone</td>\n",
       "      <td>Chinuri</td>\n",
       "      <td>Gotsa Family Wines</td>\n",
       "    </tr>\n",
       "    <tr>\n",
       "      <th>3131</th>\n",
       "      <td>3131</td>\n",
       "      <td></td>\n",
       "      <td>Soft, fruity and juicy, this is a pleasant, si...</td>\n",
       "      <td>83</td>\n",
       "      <td></td>\n",
       "      <td></td>\n",
       "      <td></td>\n",
       "      <td>Roger Voss</td>\n",
       "      <td>Red Blend</td>\n",
       "      <td>Barton &amp; Guestier</td>\n",
       "    </tr>\n",
       "    <tr>\n",
       "      <th>4243</th>\n",
       "      <td>4243</td>\n",
       "      <td></td>\n",
       "      <td>Violet-red in color, this semisweet wine has a...</td>\n",
       "      <td>88</td>\n",
       "      <td>18</td>\n",
       "      <td></td>\n",
       "      <td></td>\n",
       "      <td>Mike DeSimone</td>\n",
       "      <td>Ojaleshi</td>\n",
       "      <td>Kakhetia Traditional Winemaking</td>\n",
       "    </tr>\n",
       "    <tr>\n",
       "      <th>9509</th>\n",
       "      <td>9509</td>\n",
       "      <td></td>\n",
       "      <td>This mouthwatering blend starts with a nose of...</td>\n",
       "      <td>92</td>\n",
       "      <td>28</td>\n",
       "      <td></td>\n",
       "      <td></td>\n",
       "      <td>Susan Kostrzewa</td>\n",
       "      <td>White Blend</td>\n",
       "      <td>Tsililis</td>\n",
       "    </tr>\n",
       "    <tr>\n",
       "      <th>9750</th>\n",
       "      <td>9750</td>\n",
       "      <td></td>\n",
       "      <td>This orange-style wine has a cloudy yellow-gol...</td>\n",
       "      <td>89</td>\n",
       "      <td>28</td>\n",
       "      <td></td>\n",
       "      <td></td>\n",
       "      <td>Jeff Jenssen</td>\n",
       "      <td>Chardonnay</td>\n",
       "      <td>Ross-idi</td>\n",
       "    </tr>\n",
       "    <tr>\n",
       "      <th>...</th>\n",
       "      <td>...</td>\n",
       "      <td>...</td>\n",
       "      <td>...</td>\n",
       "      <td>...</td>\n",
       "      <td>...</td>\n",
       "      <td>...</td>\n",
       "      <td>...</td>\n",
       "      <td>...</td>\n",
       "      <td>...</td>\n",
       "      <td>...</td>\n",
       "    </tr>\n",
       "    <tr>\n",
       "      <th>124176</th>\n",
       "      <td>124176</td>\n",
       "      <td></td>\n",
       "      <td>This Swiss red blend is composed of four varie...</td>\n",
       "      <td>90</td>\n",
       "      <td>30</td>\n",
       "      <td></td>\n",
       "      <td></td>\n",
       "      <td>Jeff Jenssen</td>\n",
       "      <td>Red Blend</td>\n",
       "      <td>Les Frères Dutruy</td>\n",
       "    </tr>\n",
       "    <tr>\n",
       "      <th>129407</th>\n",
       "      <td>129407</td>\n",
       "      <td></td>\n",
       "      <td>Dry spicy aromas of dusty plum and tomato add ...</td>\n",
       "      <td>89</td>\n",
       "      <td>22</td>\n",
       "      <td></td>\n",
       "      <td></td>\n",
       "      <td>Michael Schachner</td>\n",
       "      <td>Cabernet Sauvignon</td>\n",
       "      <td>El Capricho</td>\n",
       "    </tr>\n",
       "    <tr>\n",
       "      <th>129408</th>\n",
       "      <td>129408</td>\n",
       "      <td></td>\n",
       "      <td>El Capricho is one of Uruguay's more consisten...</td>\n",
       "      <td>89</td>\n",
       "      <td>22</td>\n",
       "      <td></td>\n",
       "      <td></td>\n",
       "      <td>Michael Schachner</td>\n",
       "      <td>Tempranillo</td>\n",
       "      <td>El Capricho</td>\n",
       "    </tr>\n",
       "    <tr>\n",
       "      <th>129590</th>\n",
       "      <td>129590</td>\n",
       "      <td></td>\n",
       "      <td>A blend of 60% Syrah, 30% Cabernet Sauvignon a...</td>\n",
       "      <td>90</td>\n",
       "      <td>30</td>\n",
       "      <td></td>\n",
       "      <td></td>\n",
       "      <td>Mike DeSimone</td>\n",
       "      <td>Red Blend</td>\n",
       "      <td>Büyülübağ</td>\n",
       "    </tr>\n",
       "    <tr>\n",
       "      <th>129900</th>\n",
       "      <td>129900</td>\n",
       "      <td></td>\n",
       "      <td>This wine offers a delightful bouquet of black...</td>\n",
       "      <td>91</td>\n",
       "      <td>32</td>\n",
       "      <td></td>\n",
       "      <td></td>\n",
       "      <td>Mike DeSimone</td>\n",
       "      <td>Merlot</td>\n",
       "      <td>Psagot</td>\n",
       "    </tr>\n",
       "  </tbody>\n",
       "</table>\n",
       "<p>63 rows × 10 columns</p>\n",
       "</div>"
      ],
      "text/plain": [
       "            id country                                        description  \\\n",
       "913        913          Amber in color, this wine has aromas of peach ...   \n",
       "3131      3131          Soft, fruity and juicy, this is a pleasant, si...   \n",
       "4243      4243          Violet-red in color, this semisweet wine has a...   \n",
       "9509      9509          This mouthwatering blend starts with a nose of...   \n",
       "9750      9750          This orange-style wine has a cloudy yellow-gol...   \n",
       "...        ...     ...                                                ...   \n",
       "124176  124176          This Swiss red blend is composed of four varie...   \n",
       "129407  129407          Dry spicy aromas of dusty plum and tomato add ...   \n",
       "129408  129408          El Capricho is one of Uruguay's more consisten...   \n",
       "129590  129590          A blend of 60% Syrah, 30% Cabernet Sauvignon a...   \n",
       "129900  129900          This wine offers a delightful bouquet of black...   \n",
       "\n",
       "        points price province region_1        taster_name             variety  \\\n",
       "913         87    30                        Mike DeSimone             Chinuri   \n",
       "3131        83                                 Roger Voss           Red Blend   \n",
       "4243        88    18                        Mike DeSimone            Ojaleshi   \n",
       "9509        92    28                      Susan Kostrzewa         White Blend   \n",
       "9750        89    28                         Jeff Jenssen          Chardonnay   \n",
       "...        ...   ...      ...      ...                ...                 ...   \n",
       "124176      90    30                         Jeff Jenssen           Red Blend   \n",
       "129407      89    22                    Michael Schachner  Cabernet Sauvignon   \n",
       "129408      89    22                    Michael Schachner         Tempranillo   \n",
       "129590      90    30                        Mike DeSimone           Red Blend   \n",
       "129900      91    32                        Mike DeSimone              Merlot   \n",
       "\n",
       "                                 winery  \n",
       "913                  Gotsa Family Wines  \n",
       "3131                  Barton & Guestier  \n",
       "4243    Kakhetia Traditional Winemaking  \n",
       "9509                           Tsililis  \n",
       "9750                           Ross-idi  \n",
       "...                                 ...  \n",
       "124176                Les Frères Dutruy  \n",
       "129407                      El Capricho  \n",
       "129408                      El Capricho  \n",
       "129590                        Büyülübağ  \n",
       "129900                           Psagot  \n",
       "\n",
       "[63 rows x 10 columns]"
      ]
     },
     "execution_count": 10,
     "metadata": {},
     "output_type": "execute_result"
    }
   ],
   "source": [
    "test.loc[test['country'] == '', :]"
   ]
  },
  {
   "cell_type": "code",
   "execution_count": 11,
   "metadata": {},
   "outputs": [],
   "source": [
    "test = test.reset_index(drop = True)"
   ]
  },
  {
   "cell_type": "code",
   "execution_count": 12,
   "metadata": {},
   "outputs": [],
   "source": [
    "for col in test.columns[1:]:\n",
    "    test[col].replace('', np.nan, inplace = True)"
   ]
  },
  {
   "cell_type": "code",
   "execution_count": 13,
   "metadata": {},
   "outputs": [
    {
     "data": {
      "text/plain": [
       "id                 0\n",
       "country           63\n",
       "description        0\n",
       "points             0\n",
       "price           8996\n",
       "province          63\n",
       "region_1       21247\n",
       "taster_name    26244\n",
       "variety            1\n",
       "winery             0\n",
       "dtype: int64"
      ]
     },
     "execution_count": 13,
     "metadata": {},
     "output_type": "execute_result"
    }
   ],
   "source": [
    "test.isnull().sum()"
   ]
  },
  {
   "cell_type": "code",
   "execution_count": 14,
   "metadata": {},
   "outputs": [
    {
     "data": {
      "text/html": [
       "<div>\n",
       "<style scoped>\n",
       "    .dataframe tbody tr th:only-of-type {\n",
       "        vertical-align: middle;\n",
       "    }\n",
       "\n",
       "    .dataframe tbody tr th {\n",
       "        vertical-align: top;\n",
       "    }\n",
       "\n",
       "    .dataframe thead th {\n",
       "        text-align: right;\n",
       "    }\n",
       "</style>\n",
       "<table border=\"1\" class=\"dataframe\">\n",
       "  <thead>\n",
       "    <tr style=\"text-align: right;\">\n",
       "      <th></th>\n",
       "      <th>id</th>\n",
       "      <th>country</th>\n",
       "      <th>description</th>\n",
       "      <th>points</th>\n",
       "      <th>price</th>\n",
       "      <th>province</th>\n",
       "      <th>region_1</th>\n",
       "      <th>taster_name</th>\n",
       "      <th>variety</th>\n",
       "      <th>winery</th>\n",
       "    </tr>\n",
       "  </thead>\n",
       "  <tbody>\n",
       "    <tr>\n",
       "      <th>0</th>\n",
       "      <td>0</td>\n",
       "      <td>Italy</td>\n",
       "      <td>Aromas include tropical fruit, broom, brimston...</td>\n",
       "      <td>87</td>\n",
       "      <td>NaN</td>\n",
       "      <td>Sicily &amp; Sardinia</td>\n",
       "      <td>Etna</td>\n",
       "      <td>Kerin O’Keefe</td>\n",
       "      <td>White Blend</td>\n",
       "      <td>Nicosia</td>\n",
       "    </tr>\n",
       "    <tr>\n",
       "      <th>1</th>\n",
       "      <td>1</td>\n",
       "      <td>Portugal</td>\n",
       "      <td>This is ripe and fruity, a wine that is smooth...</td>\n",
       "      <td>87</td>\n",
       "      <td>15.0</td>\n",
       "      <td>Douro</td>\n",
       "      <td>NaN</td>\n",
       "      <td>Roger Voss</td>\n",
       "      <td>Portuguese Red</td>\n",
       "      <td>Quinta dos Avidagos</td>\n",
       "    </tr>\n",
       "    <tr>\n",
       "      <th>2</th>\n",
       "      <td>2</td>\n",
       "      <td>US</td>\n",
       "      <td>Tart and snappy, the flavors of lime flesh and...</td>\n",
       "      <td>87</td>\n",
       "      <td>14.0</td>\n",
       "      <td>Oregon</td>\n",
       "      <td>Willamette Valley</td>\n",
       "      <td>Paul Gregutt</td>\n",
       "      <td>Pinot Gris</td>\n",
       "      <td>Rainstorm</td>\n",
       "    </tr>\n",
       "    <tr>\n",
       "      <th>3</th>\n",
       "      <td>3</td>\n",
       "      <td>US</td>\n",
       "      <td>Pineapple rind, lemon pith and orange blossom ...</td>\n",
       "      <td>87</td>\n",
       "      <td>13.0</td>\n",
       "      <td>Michigan</td>\n",
       "      <td>Lake Michigan Shore</td>\n",
       "      <td>Alexander Peartree</td>\n",
       "      <td>Riesling</td>\n",
       "      <td>St. Julian</td>\n",
       "    </tr>\n",
       "    <tr>\n",
       "      <th>4</th>\n",
       "      <td>4</td>\n",
       "      <td>US</td>\n",
       "      <td>Much like the regular bottling from 2012, this...</td>\n",
       "      <td>87</td>\n",
       "      <td>65.0</td>\n",
       "      <td>Oregon</td>\n",
       "      <td>Willamette Valley</td>\n",
       "      <td>Paul Gregutt</td>\n",
       "      <td>Pinot Noir</td>\n",
       "      <td>Sweet Cheeks</td>\n",
       "    </tr>\n",
       "  </tbody>\n",
       "</table>\n",
       "</div>"
      ],
      "text/plain": [
       "   id   country                                        description  points  \\\n",
       "0   0     Italy  Aromas include tropical fruit, broom, brimston...      87   \n",
       "1   1  Portugal  This is ripe and fruity, a wine that is smooth...      87   \n",
       "2   2        US  Tart and snappy, the flavors of lime flesh and...      87   \n",
       "3   3        US  Pineapple rind, lemon pith and orange blossom ...      87   \n",
       "4   4        US  Much like the regular bottling from 2012, this...      87   \n",
       "\n",
       "   price           province             region_1         taster_name  \\\n",
       "0    NaN  Sicily & Sardinia                 Etna       Kerin O’Keefe   \n",
       "1   15.0              Douro                  NaN          Roger Voss   \n",
       "2   14.0             Oregon    Willamette Valley        Paul Gregutt   \n",
       "3   13.0           Michigan  Lake Michigan Shore  Alexander Peartree   \n",
       "4   65.0             Oregon    Willamette Valley        Paul Gregutt   \n",
       "\n",
       "          variety               winery  \n",
       "0     White Blend              Nicosia  \n",
       "1  Portuguese Red  Quinta dos Avidagos  \n",
       "2      Pinot Gris            Rainstorm  \n",
       "3        Riesling           St. Julian  \n",
       "4      Pinot Noir         Sweet Cheeks  "
      ]
     },
     "execution_count": 14,
     "metadata": {},
     "output_type": "execute_result"
    }
   ],
   "source": [
    "test.head()"
   ]
  },
  {
   "cell_type": "code",
   "execution_count": 57,
   "metadata": {},
   "outputs": [
    {
     "data": {
      "text/plain": [
       "Pinot Noir                  13272\n",
       "Chardonnay                  11753\n",
       "Cabernet Sauvignon           9472\n",
       "Red Blend                    8946\n",
       "Bordeaux-style Red Blend     6915\n",
       "Name: variety, dtype: int64"
      ]
     },
     "execution_count": 57,
     "metadata": {},
     "output_type": "execute_result"
    }
   ],
   "source": [
    "test.variety.value_counts().sort_values(ascending = False)[:5]"
   ]
  },
  {
   "cell_type": "code",
   "execution_count": 17,
   "metadata": {},
   "outputs": [
    {
     "data": {
      "text/html": [
       "<div>\n",
       "<style scoped>\n",
       "    .dataframe tbody tr th:only-of-type {\n",
       "        vertical-align: middle;\n",
       "    }\n",
       "\n",
       "    .dataframe tbody tr th {\n",
       "        vertical-align: top;\n",
       "    }\n",
       "\n",
       "    .dataframe thead th {\n",
       "        text-align: right;\n",
       "    }\n",
       "</style>\n",
       "<table border=\"1\" class=\"dataframe\">\n",
       "  <thead>\n",
       "    <tr style=\"text-align: right;\">\n",
       "      <th></th>\n",
       "      <th>var</th>\n",
       "      <th>var_counts</th>\n",
       "    </tr>\n",
       "  </thead>\n",
       "  <tbody>\n",
       "    <tr>\n",
       "      <th>0</th>\n",
       "      <td>NaN</td>\n",
       "      <td>NaN</td>\n",
       "    </tr>\n",
       "    <tr>\n",
       "      <th>1</th>\n",
       "      <td>NaN</td>\n",
       "      <td>NaN</td>\n",
       "    </tr>\n",
       "    <tr>\n",
       "      <th>2</th>\n",
       "      <td>NaN</td>\n",
       "      <td>NaN</td>\n",
       "    </tr>\n",
       "    <tr>\n",
       "      <th>3</th>\n",
       "      <td>NaN</td>\n",
       "      <td>NaN</td>\n",
       "    </tr>\n",
       "    <tr>\n",
       "      <th>4</th>\n",
       "      <td>NaN</td>\n",
       "      <td>NaN</td>\n",
       "    </tr>\n",
       "  </tbody>\n",
       "</table>\n",
       "</div>"
      ],
      "text/plain": [
       "   var var_counts\n",
       "0  NaN        NaN\n",
       "1  NaN        NaN\n",
       "2  NaN        NaN\n",
       "3  NaN        NaN\n",
       "4  NaN        NaN"
      ]
     },
     "execution_count": 17,
     "metadata": {},
     "output_type": "execute_result"
    }
   ],
   "source": [
    "variety_names = test.variety.value_counts().sort_values(ascending = False).index\n",
    "variety_counts = test.variety.value_counts().sort_values(ascending = False).values\n",
    "var_df = pd.DataFrame(columns = ['var', 'var_counts'], index = range(len(variety_names)))\n",
    "var_df.head()"
   ]
  },
  {
   "cell_type": "code",
   "execution_count": 18,
   "metadata": {},
   "outputs": [
    {
     "data": {
      "text/html": [
       "<div>\n",
       "<style scoped>\n",
       "    .dataframe tbody tr th:only-of-type {\n",
       "        vertical-align: middle;\n",
       "    }\n",
       "\n",
       "    .dataframe tbody tr th {\n",
       "        vertical-align: top;\n",
       "    }\n",
       "\n",
       "    .dataframe thead th {\n",
       "        text-align: right;\n",
       "    }\n",
       "</style>\n",
       "<table border=\"1\" class=\"dataframe\">\n",
       "  <thead>\n",
       "    <tr style=\"text-align: right;\">\n",
       "      <th></th>\n",
       "      <th>var</th>\n",
       "      <th>var_counts</th>\n",
       "    </tr>\n",
       "  </thead>\n",
       "  <tbody>\n",
       "    <tr>\n",
       "      <th>0</th>\n",
       "      <td>Pinot Noir</td>\n",
       "      <td>13272</td>\n",
       "    </tr>\n",
       "    <tr>\n",
       "      <th>1</th>\n",
       "      <td>Chardonnay</td>\n",
       "      <td>11753</td>\n",
       "    </tr>\n",
       "    <tr>\n",
       "      <th>2</th>\n",
       "      <td>Cabernet Sauvignon</td>\n",
       "      <td>9472</td>\n",
       "    </tr>\n",
       "    <tr>\n",
       "      <th>3</th>\n",
       "      <td>Red Blend</td>\n",
       "      <td>8946</td>\n",
       "    </tr>\n",
       "    <tr>\n",
       "      <th>4</th>\n",
       "      <td>Bordeaux-style Red Blend</td>\n",
       "      <td>6915</td>\n",
       "    </tr>\n",
       "  </tbody>\n",
       "</table>\n",
       "</div>"
      ],
      "text/plain": [
       "                        var  var_counts\n",
       "0                Pinot Noir       13272\n",
       "1                Chardonnay       11753\n",
       "2        Cabernet Sauvignon        9472\n",
       "3                 Red Blend        8946\n",
       "4  Bordeaux-style Red Blend        6915"
      ]
     },
     "execution_count": 18,
     "metadata": {},
     "output_type": "execute_result"
    }
   ],
   "source": [
    "var_df['var'] = variety_names; var_df['var_counts'] = variety_counts\n",
    "var_df.head()"
   ]
  },
  {
   "cell_type": "markdown",
   "metadata": {},
   "source": [
    "## Filtering the data based on only top 30 wines - "
   ]
  },
  {
   "cell_type": "code",
   "execution_count": 19,
   "metadata": {},
   "outputs": [],
   "source": [
    "# top 30 wine varieties according to their value_counts\n",
    "filtered_variety = var_df.loc[var_df['var_counts'] > 800, 'var'].tolist()"
   ]
  },
  {
   "cell_type": "code",
   "execution_count": 20,
   "metadata": {},
   "outputs": [],
   "source": [
    "test_filtered = test.loc[test['variety'].isin(filtered_variety), :].copy(deep = True)"
   ]
  },
  {
   "cell_type": "code",
   "execution_count": 21,
   "metadata": {},
   "outputs": [
    {
     "data": {
      "text/plain": [
       "id                 0\n",
       "country           40\n",
       "description        0\n",
       "points             0\n",
       "price           6988\n",
       "province          40\n",
       "region_1       16305\n",
       "taster_name    20174\n",
       "variety            0\n",
       "winery             0\n",
       "dtype: int64"
      ]
     },
     "execution_count": 21,
     "metadata": {},
     "output_type": "execute_result"
    }
   ],
   "source": [
    "test_filtered.isnull().sum()"
   ]
  },
  {
   "cell_type": "code",
   "execution_count": 22,
   "metadata": {},
   "outputs": [],
   "source": [
    "test_filtered['country'].replace(np.nan, \"Unknown\", inplace = True)\n",
    "test_filtered['province'].replace(np.nan, \"Unknown\", inplace = True)\n",
    "test_filtered['price'].replace(np.nan, test_filtered['price'].median(), inplace = True)"
   ]
  },
  {
   "cell_type": "code",
   "execution_count": 23,
   "metadata": {},
   "outputs": [
    {
     "data": {
      "text/plain": [
       "id                 0\n",
       "country            0\n",
       "description        0\n",
       "points             0\n",
       "price              0\n",
       "province           0\n",
       "region_1       16305\n",
       "taster_name    20174\n",
       "variety            0\n",
       "winery             0\n",
       "dtype: int64"
      ]
     },
     "execution_count": 23,
     "metadata": {},
     "output_type": "execute_result"
    }
   ],
   "source": [
    "test_filtered.isnull().sum()"
   ]
  },
  {
   "cell_type": "markdown",
   "metadata": {},
   "source": [
    "## Content based filtering(points column) - "
   ]
  },
  {
   "cell_type": "code",
   "execution_count": 24,
   "metadata": {},
   "outputs": [],
   "source": [
    "from sklearn.neighbors import NearestNeighbors # KNN Clustering \n",
    "from scipy.sparse import csr_matrix # Compressed Sparse Row matrix"
   ]
  },
  {
   "cell_type": "code",
   "execution_count": 38,
   "metadata": {},
   "outputs": [
    {
     "name": "stdout",
     "output_type": "stream",
     "text": [
      "0.10411500930786133\n"
     ]
    }
   ],
   "source": [
    "col = ['province','variety','points']\n",
    "\n",
    "# Time taken for preprocessing - \n",
    "start = time.time()\n",
    "wine1 = test_filtered[col]\n",
    "wine1 = wine1.dropna(axis=0)\n",
    "wine1 = wine1.drop_duplicates(['province','variety'])\n",
    "wine1 = wine1[wine1['points'] > 85]\n",
    "\n",
    "wine_pivot = wine1.pivot(index= 'variety',columns='province',values='points').fillna(0)\n",
    "wine_pivot_matrix = csr_matrix(wine_pivot)\n",
    "print(time.time() - start)"
   ]
  },
  {
   "cell_type": "code",
   "execution_count": 26,
   "metadata": {},
   "outputs": [
    {
     "name": "stdout",
     "output_type": "stream",
     "text": [
      "0.0009968280792236328\n"
     ]
    }
   ],
   "source": [
    "# Time taken to fit the NearestNeighbors model - \n",
    "knn = NearestNeighbors(n_neighbors=10, algorithm= 'brute', metric= 'cosine')\n",
    "start = time.time()\n",
    "model_knn = knn.fit(wine_pivot_matrix)\n",
    "print(time.time() - start)"
   ]
  },
  {
   "cell_type": "code",
   "execution_count": 27,
   "metadata": {},
   "outputs": [],
   "source": [
    "np.random.seed(12345)"
   ]
  },
  {
   "cell_type": "code",
   "execution_count": 28,
   "metadata": {},
   "outputs": [
    {
     "data": {
      "text/plain": [
       "[2, 5, 29, 1, 4]"
      ]
     },
     "execution_count": 28,
     "metadata": {},
     "output_type": "execute_result"
    }
   ],
   "source": [
    "variety_list = []\n",
    "for n in range(5):\n",
    "    variety_list.append(np.random.choice(wine_pivot.shape[0]))\n",
    "variety_list"
   ]
  },
  {
   "cell_type": "code",
   "execution_count": 29,
   "metadata": {},
   "outputs": [
    {
     "data": {
      "text/plain": [
       "Index(['Cabernet Franc', 'Chardonnay', 'Zinfandel',\n",
       "       'Bordeaux-style White Blend', 'Champagne Blend'],\n",
       "      dtype='object', name='variety')"
      ]
     },
     "execution_count": 29,
     "metadata": {},
     "output_type": "execute_result"
    }
   ],
   "source": [
    "wine_pivot.index[variety_list]"
   ]
  },
  {
   "cell_type": "code",
   "execution_count": 30,
   "metadata": {},
   "outputs": [
    {
     "name": "stdout",
     "output_type": "stream",
     "text": [
      "Recommendation for ## Cabernet Franc ##:\n",
      "1: Malbec with distance: 0.5180949932692834\n",
      "2: Bordeaux-style Red Blend with distance: 0.5315296926312931\n",
      "3: Cabernet Sauvignon with distance: 0.5493285215497824\n",
      "4: Merlot with distance: 0.5880956549124436\n",
      "5: Viognier with distance: 0.5964317842357716\n",
      "\n",
      "\n",
      "Recommendation for ## Chardonnay ##:\n",
      "1: Sauvignon Blanc with distance: 0.44510164437545663\n",
      "2: Pinot Noir with distance: 0.47008004364727307\n",
      "3: White Blend with distance: 0.5472634277556871\n",
      "4: Riesling with distance: 0.5518782947073453\n",
      "5: Red Blend with distance: 0.5530106012592908\n",
      "\n",
      "\n",
      "Recommendation for ## Zinfandel ##:\n",
      "1: Sangiovese with distance: 0.5246958274965143\n",
      "2: Bordeaux-style White Blend with distance: 0.5529138424735294\n",
      "3: Rhône-style Red Blend with distance: 0.5768783230219852\n",
      "4: Malbec with distance: 0.6001718499575264\n",
      "5: Tempranillo with distance: 0.6108758523183468\n",
      "\n",
      "\n",
      "Recommendation for ## Bordeaux-style White Blend ##:\n",
      "1: Zinfandel with distance: 0.5529138424735294\n",
      "2: Viognier with distance: 0.676333175445568\n",
      "3: Cabernet Franc with distance: 0.7133394128373032\n",
      "4: Malbec with distance: 0.7291338280227152\n",
      "5: Tempranillo with distance: 0.7673693330197306\n",
      "\n",
      "\n",
      "Recommendation for ## Champagne Blend ##:\n",
      "1: Sparkling Blend with distance: 0.5171685880130806\n",
      "2: Malbec with distance: 0.6605715356196686\n",
      "3: Chardonnay with distance: 0.7120440699536119\n",
      "4: Nebbiolo with distance: 0.73516508073043\n",
      "5: Gamay with distance: 0.7352671798790649\n",
      "\n",
      "\n",
      "0.012947797775268555\n"
     ]
    }
   ],
   "source": [
    "# Time taken to generate the recommendations - \n",
    "start = time.time()\n",
    "for n in range(5):\n",
    "    query_index = variety_list[n]\n",
    "    #print(n, query_index)\n",
    "    distance, indice = model_knn.kneighbors(wine_pivot.iloc[query_index,:].values.reshape(1,-1), n_neighbors=6)\n",
    "    for i in range(0, len(distance.flatten())):\n",
    "        if  i == 0:\n",
    "            print('Recommendation for ## {0} ##:'.format(wine_pivot.index[query_index]))\n",
    "        else:\n",
    "            print('{0}: {1} with distance: {2}'.format(i,wine_pivot.index[indice.flatten()[i]],distance.flatten()[i]))\n",
    "    print('\\n')\n",
    "print(time.time() - start)"
   ]
  },
  {
   "cell_type": "markdown",
   "metadata": {},
   "source": [
    "## Content based filtering (points column) using Dask- "
   ]
  },
  {
   "cell_type": "code",
   "execution_count": 31,
   "metadata": {},
   "outputs": [],
   "source": [
    "import dask \n",
    "import joblib\n",
    "from dask.distributed import Client# IP of the scheduler node\n",
    "c = dask.distributed.Client('tcp://172.20.10.2:8786')# call the cluster c"
   ]
  },
  {
   "cell_type": "code",
   "execution_count": 32,
   "metadata": {},
   "outputs": [
    {
     "data": {
      "text/html": [
       "<table style=\"border: 2px solid white;\">\n",
       "<tr>\n",
       "<td style=\"vertical-align: top; border: 0px solid white\">\n",
       "<h3 style=\"text-align: left;\">Client</h3>\n",
       "<ul style=\"text-align: left; list-style: none; margin: 0; padding: 0;\">\n",
       "  <li><b>Scheduler: </b>tcp://172.20.10.2:8786</li>\n",
       "  <li><b>Dashboard: </b><a href='http://172.20.10.2:8787/status' target='_blank'>http://172.20.10.2:8787/status</a></li>\n",
       "</ul>\n",
       "</td>\n",
       "<td style=\"vertical-align: top; border: 0px solid white\">\n",
       "<h3 style=\"text-align: left;\">Cluster</h3>\n",
       "<ul style=\"text-align: left; list-style:none; margin: 0; padding: 0;\">\n",
       "  <li><b>Workers: </b>5</li>\n",
       "  <li><b>Cores: </b>60</li>\n",
       "  <li><b>Memory: </b>85.42 GB</li>\n",
       "</ul>\n",
       "</td>\n",
       "</tr>\n",
       "</table>"
      ],
      "text/plain": [
       "<Client: 'tcp://172.20.10.2:8786' processes=5 threads=60, memory=85.42 GB>"
      ]
     },
     "execution_count": 32,
     "metadata": {},
     "output_type": "execute_result"
    }
   ],
   "source": [
    "c"
   ]
  },
  {
   "cell_type": "code",
   "execution_count": 33,
   "metadata": {},
   "outputs": [],
   "source": [
    "# convert pandas dataframe into dask dataframes \n",
    "import dask.dataframe as dd\n",
    "df = dd.from_pandas(test_filtered, npartitions=5)"
   ]
  },
  {
   "cell_type": "code",
   "execution_count": 34,
   "metadata": {},
   "outputs": [
    {
     "data": {
      "text/html": [
       "<div><strong>Dask DataFrame Structure:</strong></div>\n",
       "<div>\n",
       "<style scoped>\n",
       "    .dataframe tbody tr th:only-of-type {\n",
       "        vertical-align: middle;\n",
       "    }\n",
       "\n",
       "    .dataframe tbody tr th {\n",
       "        vertical-align: top;\n",
       "    }\n",
       "\n",
       "    .dataframe thead th {\n",
       "        text-align: right;\n",
       "    }\n",
       "</style>\n",
       "<table border=\"1\" class=\"dataframe\">\n",
       "  <thead>\n",
       "    <tr style=\"text-align: right;\">\n",
       "      <th></th>\n",
       "      <th>id</th>\n",
       "      <th>country</th>\n",
       "      <th>description</th>\n",
       "      <th>points</th>\n",
       "      <th>price</th>\n",
       "      <th>province</th>\n",
       "      <th>region_1</th>\n",
       "      <th>taster_name</th>\n",
       "      <th>variety</th>\n",
       "      <th>winery</th>\n",
       "    </tr>\n",
       "    <tr>\n",
       "      <th>npartitions=5</th>\n",
       "      <th></th>\n",
       "      <th></th>\n",
       "      <th></th>\n",
       "      <th></th>\n",
       "      <th></th>\n",
       "      <th></th>\n",
       "      <th></th>\n",
       "      <th></th>\n",
       "      <th></th>\n",
       "      <th></th>\n",
       "    </tr>\n",
       "  </thead>\n",
       "  <tbody>\n",
       "    <tr>\n",
       "      <th>0</th>\n",
       "      <td>int64</td>\n",
       "      <td>object</td>\n",
       "      <td>object</td>\n",
       "      <td>int64</td>\n",
       "      <td>float64</td>\n",
       "      <td>object</td>\n",
       "      <td>object</td>\n",
       "      <td>object</td>\n",
       "      <td>object</td>\n",
       "      <td>object</td>\n",
       "    </tr>\n",
       "    <tr>\n",
       "      <th>26068</th>\n",
       "      <td>...</td>\n",
       "      <td>...</td>\n",
       "      <td>...</td>\n",
       "      <td>...</td>\n",
       "      <td>...</td>\n",
       "      <td>...</td>\n",
       "      <td>...</td>\n",
       "      <td>...</td>\n",
       "      <td>...</td>\n",
       "      <td>...</td>\n",
       "    </tr>\n",
       "    <tr>\n",
       "      <th>...</th>\n",
       "      <td>...</td>\n",
       "      <td>...</td>\n",
       "      <td>...</td>\n",
       "      <td>...</td>\n",
       "      <td>...</td>\n",
       "      <td>...</td>\n",
       "      <td>...</td>\n",
       "      <td>...</td>\n",
       "      <td>...</td>\n",
       "      <td>...</td>\n",
       "    </tr>\n",
       "    <tr>\n",
       "      <th>104093</th>\n",
       "      <td>...</td>\n",
       "      <td>...</td>\n",
       "      <td>...</td>\n",
       "      <td>...</td>\n",
       "      <td>...</td>\n",
       "      <td>...</td>\n",
       "      <td>...</td>\n",
       "      <td>...</td>\n",
       "      <td>...</td>\n",
       "      <td>...</td>\n",
       "    </tr>\n",
       "    <tr>\n",
       "      <th>129970</th>\n",
       "      <td>...</td>\n",
       "      <td>...</td>\n",
       "      <td>...</td>\n",
       "      <td>...</td>\n",
       "      <td>...</td>\n",
       "      <td>...</td>\n",
       "      <td>...</td>\n",
       "      <td>...</td>\n",
       "      <td>...</td>\n",
       "      <td>...</td>\n",
       "    </tr>\n",
       "  </tbody>\n",
       "</table>\n",
       "</div>\n",
       "<div>Dask Name: from_pandas, 5 tasks</div>"
      ],
      "text/plain": [
       "Dask DataFrame Structure:\n",
       "                  id country description points    price province region_1 taster_name variety  winery\n",
       "npartitions=5                                                                                         \n",
       "0              int64  object      object  int64  float64   object   object      object  object  object\n",
       "26068            ...     ...         ...    ...      ...      ...      ...         ...     ...     ...\n",
       "...              ...     ...         ...    ...      ...      ...      ...         ...     ...     ...\n",
       "104093           ...     ...         ...    ...      ...      ...      ...         ...     ...     ...\n",
       "129970           ...     ...         ...    ...      ...      ...      ...         ...     ...     ...\n",
       "Dask Name: from_pandas, 5 tasks"
      ]
     },
     "execution_count": 34,
     "metadata": {},
     "output_type": "execute_result"
    }
   ],
   "source": [
    "df"
   ]
  },
  {
   "cell_type": "code",
   "execution_count": 35,
   "metadata": {},
   "outputs": [
    {
     "name": "stdout",
     "output_type": "stream",
     "text": [
      "1.2458267211914062\n"
     ]
    }
   ],
   "source": [
    "col = ['province','variety','points']\n",
    "\n",
    "# Time taken for preprocessing - \n",
    "start = time.time()\n",
    "wine1 = df[col]\n",
    "wine1 = wine1.dropna()\n",
    "wine1 = wine1.drop_duplicates(['province','variety'])\n",
    "wine1 = wine1[wine1['points'] > 85]\n",
    "\n",
    "wine1 = wine1.categorize(columns=['province'])\n",
    "wine_pivot = wine1.pivot_table(index= 'variety',columns='province',values='points').fillna(0)\n",
    "wine_pivot_matrix = csr_matrix(wine_pivot)\n",
    "print(time.time() - start)"
   ]
  },
  {
   "cell_type": "code",
   "execution_count": 36,
   "metadata": {},
   "outputs": [
    {
     "name": "stdout",
     "output_type": "stream",
     "text": [
      "0.001973867416381836\n"
     ]
    }
   ],
   "source": [
    "# Time taken to fit the NearestNeighbors model - \n",
    "knn = NearestNeighbors(n_neighbors=10, algorithm= 'brute', metric= 'cosine')\n",
    "start = time.time()\n",
    "with joblib.parallel_backend('dask'):\n",
    "    model_knn = knn.fit(wine_pivot_matrix)\n",
    "print(time.time() - start)"
   ]
  },
  {
   "cell_type": "code",
   "execution_count": 39,
   "metadata": {},
   "outputs": [
    {
     "name": "stdout",
     "output_type": "stream",
     "text": [
      "Recommendation for ## Cabernet Franc ##:\n",
      "1: Chardonnay with distance: 0.7981307614083385\n",
      "2: Riesling with distance: 0.82929211785956\n",
      "3: Bordeaux-style Red Blend with distance: 0.836604543718854\n",
      "4: Syrah with distance: 0.8497467170383037\n",
      "5: Sauvignon Blanc with distance: 0.8509280458785277\n",
      "\n",
      "\n",
      "Recommendation for ## Chardonnay ##:\n",
      "1: Chardonnay with distance: 0.6538957408931604\n",
      "2: White Blend with distance: 0.6680225146388299\n",
      "3: Sauvignon Blanc with distance: 0.69165604224306\n",
      "4: Pinot Noir with distance: 0.6988622673364961\n",
      "5: Riesling with distance: 0.7231499198879912\n",
      "\n",
      "\n",
      "Recommendation for ## Zinfandel ##:\n",
      "1: Bordeaux-style Red Blend with distance: 0.8740392395963597\n",
      "2: Red Blend with distance: 0.8786279153775013\n",
      "3: Shiraz with distance: 0.9157202851800689\n",
      "4: Sparkling Blend with distance: 0.9322932451140062\n",
      "5: Syrah with distance: 0.9449761049557898\n",
      "\n",
      "\n",
      "Recommendation for ## Bordeaux-style White Blend ##:\n",
      "1: Grüner Veltliner with distance: 0.9053171380567206\n",
      "2: Sauvignon Blanc with distance: 0.9056084010999811\n",
      "3: White Blend with distance: 0.9116105554260557\n",
      "4: Chardonnay with distance: 0.9205972685603998\n",
      "5: Shiraz with distance: 0.9267534881803865\n",
      "\n",
      "\n",
      "Recommendation for ## Champagne Blend ##:\n",
      "1: Cabernet Sauvignon with distance: 0.8463766249780157\n",
      "2: Sauvignon Blanc with distance: 0.8466060585640582\n",
      "3: Portuguese Red with distance: 0.866472931212516\n",
      "4: White Blend with distance: 0.8716564415918753\n",
      "5: Red Blend with distance: 0.8752154987992615\n",
      "\n",
      "\n",
      "0.002589559555053711\n"
     ]
    }
   ],
   "source": [
    "# Time taken to generate the recommendations - \n",
    "start = time.time()\n",
    "for n in range(5):\n",
    "    query_index = variety_list[n]\n",
    "    #print(n, query_index)\n",
    "    distance, indice = model_knn.kneighbors(wine_pivot.iloc[query_index,:].values.reshape(1,-1), n_neighbors=6)\n",
    "    for i in range(0, len(distance.flatten())):\n",
    "        if  i == 0:\n",
    "            print('Recommendation for ## {0} ##:'.format(wine_pivot.index[query_index]))\n",
    "        else:\n",
    "            print('{0}: {1} with distance: {2}'.format(i,wine_pivot.index[indice.flatten()[i]],distance.flatten()[i]))\n",
    "    print('\\n')\n",
    "print(time.time() - start)"
   ]
  },
  {
   "cell_type": "markdown",
   "metadata": {},
   "source": [
    "## Content based filtering (price column) - "
   ]
  },
  {
   "cell_type": "code",
   "execution_count": 45,
   "metadata": {},
   "outputs": [
    {
     "name": "stdout",
     "output_type": "stream",
     "text": [
      "0.10526371002197266\n"
     ]
    }
   ],
   "source": [
    "col = ['province','variety','price', 'points']\n",
    "\n",
    "# Time taken for preprocessing - \n",
    "start = time.time()\n",
    "wine1 = test_filtered[col]\n",
    "wine1 = wine1.dropna(axis=0)\n",
    "wine1 = wine1.drop_duplicates(['province','variety'])\n",
    "wine1 = wine1[wine1['points'] > 85]\n",
    "\n",
    "wine_pivot = wine1.pivot(index= 'variety',columns='province',values='price').fillna(0)\n",
    "wine_pivot_matrix = csr_matrix(wine_pivot)\n",
    "print(time.time() - start)"
   ]
  },
  {
   "cell_type": "code",
   "execution_count": 41,
   "metadata": {},
   "outputs": [
    {
     "name": "stdout",
     "output_type": "stream",
     "text": [
      "0.0009968280792236328\n"
     ]
    }
   ],
   "source": [
    "# Time taken to fit the NearestNeighbors model - \n",
    "knn = NearestNeighbors(n_neighbors=10, algorithm= 'brute', metric= 'cosine')\n",
    "start = time.time()\n",
    "model_knn = knn.fit(wine_pivot_matrix)\n",
    "print(time.time() - start)"
   ]
  },
  {
   "cell_type": "code",
   "execution_count": 42,
   "metadata": {},
   "outputs": [
    {
     "name": "stdout",
     "output_type": "stream",
     "text": [
      "Recommendation for ## Cabernet Franc ##:\n",
      "1: Bordeaux-style Red Blend with distance: 0.6375735583497839\n",
      "2: Sangiovese with distance: 0.6471721337331927\n",
      "3: Viognier with distance: 0.6502470749829564\n",
      "4: Cabernet Sauvignon with distance: 0.6525596517305995\n",
      "5: Gamay with distance: 0.6839894863314537\n",
      "\n",
      "\n",
      "Recommendation for ## Chardonnay ##:\n",
      "1: Sauvignon Blanc with distance: 0.56514087792685\n",
      "2: White Blend with distance: 0.5896801245991073\n",
      "3: Pinot Noir with distance: 0.6142076454657032\n",
      "4: Sparkling Blend with distance: 0.626197183525399\n",
      "5: Pinot Gris with distance: 0.6321727770109917\n",
      "\n",
      "\n",
      "Recommendation for ## Zinfandel ##:\n",
      "1: Sangiovese with distance: 0.5064285657896965\n",
      "2: Tempranillo with distance: 0.6001007379191236\n",
      "3: Grüner Veltliner with distance: 0.6460215488745498\n",
      "4: Rhône-style Red Blend with distance: 0.6760920687445826\n",
      "5: Bordeaux-style White Blend with distance: 0.6830081430958663\n",
      "\n",
      "\n",
      "Recommendation for ## Bordeaux-style White Blend ##:\n",
      "1: Zinfandel with distance: 0.6830081430958663\n",
      "2: Sauvignon Blanc with distance: 0.7249028278393856\n",
      "3: Viognier with distance: 0.788658059598644\n",
      "4: Sangiovese with distance: 0.8211264863034597\n",
      "5: Tempranillo with distance: 0.8237278852076351\n",
      "\n",
      "\n",
      "Recommendation for ## Champagne Blend ##:\n",
      "1: Sparkling Blend with distance: 0.5104158231682192\n",
      "2: Nebbiolo with distance: 0.686809994282024\n",
      "3: Chardonnay with distance: 0.7357200117185514\n",
      "4: Grüner Veltliner with distance: 0.7442196939103456\n",
      "5: Pinot Grigio with distance: 0.7536513159850029\n",
      "\n",
      "\n",
      "0.010969400405883789\n"
     ]
    }
   ],
   "source": [
    "# Time taken to generate the recommendations - \n",
    "start = time.time()\n",
    "for n in range(5):\n",
    "    query_index = variety_list[n]\n",
    "    #print(n, query_index)\n",
    "    distance, indice = model_knn.kneighbors(wine_pivot.iloc[query_index,:].values.reshape(1,-1), n_neighbors=6)\n",
    "    for i in range(0, len(distance.flatten())):\n",
    "        if  i == 0:\n",
    "            print('Recommendation for ## {0} ##:'.format(wine_pivot.index[query_index]))\n",
    "        else:\n",
    "            print('{0}: {1} with distance: {2}'.format(i,wine_pivot.index[indice.flatten()[i]],distance.flatten()[i]))\n",
    "    print('\\n')\n",
    "print(time.time() - start)"
   ]
  },
  {
   "cell_type": "markdown",
   "metadata": {},
   "source": [
    "## Content based filtering (price column) using Dask - "
   ]
  },
  {
   "cell_type": "code",
   "execution_count": 54,
   "metadata": {},
   "outputs": [
    {
     "name": "stdout",
     "output_type": "stream",
     "text": [
      "1.611304521560669\n"
     ]
    }
   ],
   "source": [
    "col = ['province','variety','price', 'points']\n",
    "\n",
    "# Time taken for preprocessing - \n",
    "start = time.time()\n",
    "wine1 = df[col]\n",
    "wine1 = wine1.dropna()\n",
    "wine1 = wine1.drop_duplicates(['province','variety'])\n",
    "wine1 = wine1[wine1['points'] > 85]\n",
    "\n",
    "wine1 = wine1.categorize(columns=['province'])\n",
    "wine_pivot = wine1.pivot_table(index= 'variety',columns='province',values='price').fillna(0)\n",
    "wine_pivot_matrix = csr_matrix(wine_pivot)\n",
    "print(time.time() - start)"
   ]
  },
  {
   "cell_type": "code",
   "execution_count": 55,
   "metadata": {},
   "outputs": [
    {
     "name": "stdout",
     "output_type": "stream",
     "text": [
      "0.0010004043579101562\n"
     ]
    }
   ],
   "source": [
    "# Time taken to fit the NearestNeighbors model - \n",
    "knn = NearestNeighbors(n_neighbors=10, algorithm= 'brute', metric= 'cosine')\n",
    "start = time.time()\n",
    "with joblib.parallel_backend('dask'):\n",
    "    model_knn = knn.fit(wine_pivot_matrix)\n",
    "print(time.time() - start)"
   ]
  },
  {
   "cell_type": "code",
   "execution_count": 46,
   "metadata": {},
   "outputs": [
    {
     "name": "stdout",
     "output_type": "stream",
     "text": [
      "Recommendation for ## Cabernet Franc ##:\n",
      "1: Red Blend with distance: 0.8658956302447522\n",
      "2: Chardonnay with distance: 0.867999986120396\n",
      "3: Sauvignon Blanc with distance: 0.8702489562492846\n",
      "4: Rosé with distance: 0.8866520440732445\n",
      "5: Syrah with distance: 0.887753253030111\n",
      "\n",
      "\n",
      "Recommendation for ## Chardonnay ##:\n",
      "1: Sauvignon Blanc with distance: 0.7161394033191686\n",
      "2: White Blend with distance: 0.7530384501271477\n",
      "3: Chardonnay with distance: 0.7539638386648122\n",
      "4: Portuguese White with distance: 0.7820564335526881\n",
      "5: Pinot Noir with distance: 0.8235445966507126\n",
      "\n",
      "\n",
      "Recommendation for ## Zinfandel ##:\n",
      "1: Red Blend with distance: 0.9350976423397158\n",
      "2: Sparkling Blend with distance: 0.941744554281679\n",
      "3: Bordeaux-style Red Blend with distance: 0.955110991896964\n",
      "4: Shiraz with distance: 0.9572636913648559\n",
      "5: Chardonnay with distance: 0.9700180961133554\n",
      "\n",
      "\n",
      "Recommendation for ## Bordeaux-style White Blend ##:\n",
      "1: Red Blend with distance: 0.9221985432979799\n",
      "2: White Blend with distance: 0.9572703806286599\n",
      "3: Rosé with distance: 0.9602059493841385\n",
      "4: Grüner Veltliner with distance: 0.9629636627931464\n",
      "5: Chardonnay with distance: 0.9716361576599297\n",
      "\n",
      "\n",
      "Recommendation for ## Champagne Blend ##:\n",
      "1: White Blend with distance: 0.8361894438740931\n",
      "2: Pinot Gris with distance: 0.8439450069122432\n",
      "3: Sauvignon Blanc with distance: 0.8828381780674928\n",
      "4: Portuguese Red with distance: 0.8880381404960564\n",
      "5: Red Blend with distance: 0.9058210937132289\n",
      "\n",
      "\n",
      "0.0015670572008405412\n"
     ]
    }
   ],
   "source": [
    "# Time taken to generate the recommendations - \n",
    "start = time.time()\n",
    "for n in range(5):\n",
    "    query_index = variety_list[n]\n",
    "    #print(n, query_index)\n",
    "    distance, indice = model_knn.kneighbors(wine_pivot.iloc[query_index,:].values.reshape(1,-1), n_neighbors=6)\n",
    "    for i in range(0, len(distance.flatten())):\n",
    "        if  i == 0:\n",
    "            print('Recommendation for ## {0} ##:'.format(wine_pivot.index[query_index]))\n",
    "        else:\n",
    "            print('{0}: {1} with distance: {2}'.format(i,wine_pivot.index[indice.flatten()[i]],distance.flatten()[i]))\n",
    "    print('\\n')\n",
    "print(time.time() - start)"
   ]
  },
  {
   "cell_type": "markdown",
   "metadata": {},
   "source": [
    "## Sentiment Analysis - "
   ]
  },
  {
   "cell_type": "code",
   "execution_count": 47,
   "metadata": {},
   "outputs": [],
   "source": [
    "test_filtered['price_log'] = np.log(test_filtered['price'])"
   ]
  },
  {
   "cell_type": "code",
   "execution_count": 48,
   "metadata": {},
   "outputs": [
    {
     "name": "stdout",
     "output_type": "stream",
     "text": [
      "13.764660835266113\n"
     ]
    }
   ],
   "source": [
    "import nltk\n",
    "from nltk.sentiment.vader import SentimentIntensityAnalyzer\n",
    "\n",
    "SIA = SentimentIntensityAnalyzer()\n",
    "\n",
    "# Time taken to - \n",
    "# a) generate polarity scores (through the apply method)\n",
    "# b) classifying the polarity scores\n",
    "\n",
    "start = time.time()\n",
    "sentiment = test_filtered.sample(frac = 0.25).copy()\n",
    "sentiment['polarity_score']=sentiment.description.apply(lambda x:SIA.polarity_scores(x)['compound'])\n",
    "\n",
    "sentiment['sentiment']= np.nan\n",
    "sentiment.loc[sentiment.polarity_score>0,'sentiment']='POSITIVE'\n",
    "sentiment.loc[sentiment.polarity_score==0,'sentiment']='NEUTRAL'\n",
    "sentiment.loc[sentiment.polarity_score<0,'sentiment']='NEGATIVE'\n",
    "print(time.time() - start)"
   ]
  },
  {
   "cell_type": "code",
   "execution_count": 49,
   "metadata": {},
   "outputs": [],
   "source": [
    "import matplotlib.pyplot as plt\n",
    "import seaborn as sns"
   ]
  },
  {
   "cell_type": "code",
   "execution_count": 50,
   "metadata": {},
   "outputs": [
    {
     "data": {
      "image/png": "[encoded data removed]",
      "text/plain": [
       "<Figure size 1008x360 with 2 Axes>"
      ]
     },
     "metadata": {
      "needs_background": "light"
     },
     "output_type": "display_data"
    }
   ],
   "source": [
    "plt.figure(figsize=(14,5))\n",
    "\n",
    "plt.suptitle('Sentiment of the reviews by: \\n- Points and Price(log) -', size=22)\n",
    "\n",
    "plt.subplot(121)\n",
    "ax = sns.boxplot(x='sentiment', y='points', data=sentiment)\n",
    "ax.set_title(\"Sentiment by Points Distribution\", fontsize=19)\n",
    "ax.set_ylabel(\"Points \", fontsize=17)\n",
    "ax.set_xlabel(\"Sentiment Label\", fontsize=17)\n",
    "\n",
    "plt.subplot(122)\n",
    "ax1= sns.boxplot(x='sentiment', y='price_log', data=sentiment)\n",
    "ax1.set_title(\"Sentiment by Price Distribution\", fontsize=19)\n",
    "ax1.set_ylabel(\"Price (log) \", fontsize=17)\n",
    "ax1.set_xlabel(\"Sentiment Label\", fontsize=17)\n",
    "\n",
    "plt.subplots_adjust(top = 0.75, wspace=.2)\n",
    "plt.show()\n"
   ]
  },
  {
   "cell_type": "markdown",
   "metadata": {},
   "source": [
    "## Sentiment Analysis using Dask - "
   ]
  },
  {
   "cell_type": "code",
   "execution_count": 51,
   "metadata": {},
   "outputs": [],
   "source": [
    "df['price_log'] = np.log(df['price'])"
   ]
  },
  {
   "cell_type": "code",
   "execution_count": 53,
   "metadata": {},
   "outputs": [
    {
     "name": "stdout",
     "output_type": "stream",
     "text": [
      "0.051015377044677734\n"
     ]
    }
   ],
   "source": [
    "# Time taken to - \n",
    "# a) generate polarity scores (through the apply method)\n",
    "# b) classifying the polarity scores\n",
    "\n",
    "start = time.time()\n",
    "sentiment = df.sample(frac = 0.25).copy()\n",
    "sentiment['polarity_score']=sentiment.description.apply(lambda x:SIA.polarity_scores(x)['compound'])\n",
    "\n",
    "sentiment['sentiment'] = np.nan\n",
    "sentiment['sentiment'] = sentiment['sentiment'].mask(cond = sentiment.polarity_score>0, other = 'POSITIVE')\n",
    "sentiment['sentiment'] = sentiment['sentiment'].mask(cond = sentiment.polarity_score==0, other = 'NEUTRAL')\n",
    "sentiment['sentiment'] = sentiment['sentiment'].mask(cond = sentiment.polarity_score>0, other = 'NEGATIVE')\n",
    "\n",
    "print(time.time() - start)"
   ]
  },
  {
   "cell_type": "code",
   "execution_count": null,
   "metadata": {},
   "outputs": [],
   "source": []
  }
 ],
 "metadata": {
  "kernelspec": {
   "display_name": "Python 3",
   "language": "python",
   "name": "python3"
  },
  "language_info": {
   "codemirror_mode": {
    "name": "ipython",
    "version": 3
   },
   "file_extension": ".py",
   "mimetype": "text/x-python",
   "name": "python",
   "nbconvert_exporter": "python",
   "pygments_lexer": "ipython3",
   "version": "3.8.3"
  }
 },
 "nbformat": 4,
 "nbformat_minor": 4
}
