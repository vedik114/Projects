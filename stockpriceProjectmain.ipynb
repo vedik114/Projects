{
  "nbformat": 4,
  "nbformat_minor": 0,
  "metadata": {
    "colab": {
      "name": "stockpriceProjectmain.ipynb",
      "provenance": [],
      "collapsed_sections": []
    },
    "kernelspec": {
      "name": "python3",
      "display_name": "Python 3"
    },
    "language_info": {
      "name": "python"
    },
    "accelerator": "GPU",
    "widgets": {
      "application/vnd.jupyter.widget-state+json": {
        "2becaaeef02e4adcb7609856d1d7d93a": {
          "model_module": "@jupyter-widgets/controls",
          "model_name": "HBoxModel",
          "model_module_version": "1.5.0",
          "state": {
            "_dom_classes": [],
            "_model_module": "@jupyter-widgets/controls",
            "_model_module_version": "1.5.0",
            "_model_name": "HBoxModel",
            "_view_count": null,
            "_view_module": "@jupyter-widgets/controls",
            "_view_module_version": "1.5.0",
            "_view_name": "HBoxView",
            "box_style": "",
            "children": [
              "IPY_MODEL_16e3ccec61b74df3a517c10f99633512",
              "IPY_MODEL_77b1c54bd320425c886e54828c7ade36",
              "IPY_MODEL_e057b76fc334439fb454101bddad17f3"
            ],
            "layout": "IPY_MODEL_343e3f6d6dfc42ee8d03cc8787ea0aeb"
          }
        },
        "16e3ccec61b74df3a517c10f99633512": {
          "model_module": "@jupyter-widgets/controls",
          "model_name": "HTMLModel",
          "model_module_version": "1.5.0",
          "state": {
            "_dom_classes": [],
            "_model_module": "@jupyter-widgets/controls",
            "_model_module_version": "1.5.0",
            "_model_name": "HTMLModel",
            "_view_count": null,
            "_view_module": "@jupyter-widgets/controls",
            "_view_module_version": "1.5.0",
            "_view_name": "HTMLView",
            "description": "",
            "description_tooltip": null,
            "layout": "IPY_MODEL_d485e4371e68429bbcf9c5b8f6ad5f9e",
            "placeholder": "​",
            "style": "IPY_MODEL_be64638db7414d6a831d0f2b90014608",
            "value": "Done! Use &#x27;show&#x27; commands to display/save.   "
          }
        },
        "77b1c54bd320425c886e54828c7ade36": {
          "model_module": "@jupyter-widgets/controls",
          "model_name": "FloatProgressModel",
          "model_module_version": "1.5.0",
          "state": {
            "_dom_classes": [],
            "_model_module": "@jupyter-widgets/controls",
            "_model_module_version": "1.5.0",
            "_model_name": "FloatProgressModel",
            "_view_count": null,
            "_view_module": "@jupyter-widgets/controls",
            "_view_module_version": "1.5.0",
            "_view_name": "ProgressView",
            "bar_style": "success",
            "description": "",
            "description_tooltip": null,
            "layout": "IPY_MODEL_bda479f1eb2242e489159f096f6772d5",
            "max": 1,
            "min": 0,
            "orientation": "horizontal",
            "style": "IPY_MODEL_bf3e11d9baca418f9cda9634f5ca83c9",
            "value": 1
          }
        },
        "e057b76fc334439fb454101bddad17f3": {
          "model_module": "@jupyter-widgets/controls",
          "model_name": "HTMLModel",
          "model_module_version": "1.5.0",
          "state": {
            "_dom_classes": [],
            "_model_module": "@jupyter-widgets/controls",
            "_model_module_version": "1.5.0",
            "_model_name": "HTMLModel",
            "_view_count": null,
            "_view_module": "@jupyter-widgets/controls",
            "_view_module_version": "1.5.0",
            "_view_name": "HTMLView",
            "description": "",
            "description_tooltip": null,
            "layout": "IPY_MODEL_fdc372fab8f34422980a9ec682d95773",
            "placeholder": "​",
            "style": "IPY_MODEL_3d1813369ed44c60a34100d620081a29",
            "value": " [100%]   00:00 -&gt; (00:00 left)"
          }
        },
        "343e3f6d6dfc42ee8d03cc8787ea0aeb": {
          "model_module": "@jupyter-widgets/base",
          "model_name": "LayoutModel",
          "model_module_version": "1.2.0",
          "state": {
            "_model_module": "@jupyter-widgets/base",
            "_model_module_version": "1.2.0",
            "_model_name": "LayoutModel",
            "_view_count": null,
            "_view_module": "@jupyter-widgets/base",
            "_view_module_version": "1.2.0",
            "_view_name": "LayoutView",
            "align_content": null,
            "align_items": null,
            "align_self": null,
            "border": null,
            "bottom": null,
            "display": "inline-flex",
            "flex": null,
            "flex_flow": "row wrap",
            "grid_area": null,
            "grid_auto_columns": null,
            "grid_auto_flow": null,
            "grid_auto_rows": null,
            "grid_column": null,
            "grid_gap": null,
            "grid_row": null,
            "grid_template_areas": null,
            "grid_template_columns": null,
            "grid_template_rows": null,
            "height": null,
            "justify_content": null,
            "justify_items": null,
            "left": null,
            "margin": null,
            "max_height": null,
            "max_width": null,
            "min_height": null,
            "min_width": null,
            "object_fit": null,
            "object_position": null,
            "order": null,
            "overflow": null,
            "overflow_x": null,
            "overflow_y": null,
            "padding": null,
            "right": null,
            "top": null,
            "visibility": null,
            "width": "100%"
          }
        },
        "d485e4371e68429bbcf9c5b8f6ad5f9e": {
          "model_module": "@jupyter-widgets/base",
          "model_name": "LayoutModel",
          "model_module_version": "1.2.0",
          "state": {
            "_model_module": "@jupyter-widgets/base",
            "_model_module_version": "1.2.0",
            "_model_name": "LayoutModel",
            "_view_count": null,
            "_view_module": "@jupyter-widgets/base",
            "_view_module_version": "1.2.0",
            "_view_name": "LayoutView",
            "align_content": null,
            "align_items": null,
            "align_self": null,
            "border": null,
            "bottom": null,
            "display": null,
            "flex": null,
            "flex_flow": null,
            "grid_area": null,
            "grid_auto_columns": null,
            "grid_auto_flow": null,
            "grid_auto_rows": null,
            "grid_column": null,
            "grid_gap": null,
            "grid_row": null,
            "grid_template_areas": null,
            "grid_template_columns": null,
            "grid_template_rows": null,
            "height": null,
            "justify_content": null,
            "justify_items": null,
            "left": null,
            "margin": null,
            "max_height": null,
            "max_width": null,
            "min_height": null,
            "min_width": null,
            "object_fit": null,
            "object_position": null,
            "order": null,
            "overflow": null,
            "overflow_x": null,
            "overflow_y": null,
            "padding": null,
            "right": null,
            "top": null,
            "visibility": null,
            "width": null
          }
        },
        "be64638db7414d6a831d0f2b90014608": {
          "model_module": "@jupyter-widgets/controls",
          "model_name": "DescriptionStyleModel",
          "model_module_version": "1.5.0",
          "state": {
            "_model_module": "@jupyter-widgets/controls",
            "_model_module_version": "1.5.0",
            "_model_name": "DescriptionStyleModel",
            "_view_count": null,
            "_view_module": "@jupyter-widgets/base",
            "_view_module_version": "1.2.0",
            "_view_name": "StyleView",
            "description_width": ""
          }
        },
        "bda479f1eb2242e489159f096f6772d5": {
          "model_module": "@jupyter-widgets/base",
          "model_name": "LayoutModel",
          "model_module_version": "1.2.0",
          "state": {
            "_model_module": "@jupyter-widgets/base",
            "_model_module_version": "1.2.0",
            "_model_name": "LayoutModel",
            "_view_count": null,
            "_view_module": "@jupyter-widgets/base",
            "_view_module_version": "1.2.0",
            "_view_name": "LayoutView",
            "align_content": null,
            "align_items": null,
            "align_self": null,
            "border": null,
            "bottom": null,
            "display": null,
            "flex": "2",
            "flex_flow": null,
            "grid_area": null,
            "grid_auto_columns": null,
            "grid_auto_flow": null,
            "grid_auto_rows": null,
            "grid_column": null,
            "grid_gap": null,
            "grid_row": null,
            "grid_template_areas": null,
            "grid_template_columns": null,
            "grid_template_rows": null,
            "height": null,
            "justify_content": null,
            "justify_items": null,
            "left": null,
            "margin": null,
            "max_height": null,
            "max_width": null,
            "min_height": null,
            "min_width": null,
            "object_fit": null,
            "object_position": null,
            "order": null,
            "overflow": null,
            "overflow_x": null,
            "overflow_y": null,
            "padding": null,
            "right": null,
            "top": null,
            "visibility": null,
            "width": null
          }
        },
        "bf3e11d9baca418f9cda9634f5ca83c9": {
          "model_module": "@jupyter-widgets/controls",
          "model_name": "ProgressStyleModel",
          "model_module_version": "1.5.0",
          "state": {
            "_model_module": "@jupyter-widgets/controls",
            "_model_module_version": "1.5.0",
            "_model_name": "ProgressStyleModel",
            "_view_count": null,
            "_view_module": "@jupyter-widgets/base",
            "_view_module_version": "1.2.0",
            "_view_name": "StyleView",
            "bar_color": null,
            "description_width": ""
          }
        },
        "fdc372fab8f34422980a9ec682d95773": {
          "model_module": "@jupyter-widgets/base",
          "model_name": "LayoutModel",
          "model_module_version": "1.2.0",
          "state": {
            "_model_module": "@jupyter-widgets/base",
            "_model_module_version": "1.2.0",
            "_model_name": "LayoutModel",
            "_view_count": null,
            "_view_module": "@jupyter-widgets/base",
            "_view_module_version": "1.2.0",
            "_view_name": "LayoutView",
            "align_content": null,
            "align_items": null,
            "align_self": null,
            "border": null,
            "bottom": null,
            "display": null,
            "flex": null,
            "flex_flow": null,
            "grid_area": null,
            "grid_auto_columns": null,
            "grid_auto_flow": null,
            "grid_auto_rows": null,
            "grid_column": null,
            "grid_gap": null,
            "grid_row": null,
            "grid_template_areas": null,
            "grid_template_columns": null,
            "grid_template_rows": null,
            "height": null,
            "justify_content": null,
            "justify_items": null,
            "left": null,
            "margin": null,
            "max_height": null,
            "max_width": null,
            "min_height": null,
            "min_width": null,
            "object_fit": null,
            "object_position": null,
            "order": null,
            "overflow": null,
            "overflow_x": null,
            "overflow_y": null,
            "padding": null,
            "right": null,
            "top": null,
            "visibility": null,
            "width": null
          }
        },
        "3d1813369ed44c60a34100d620081a29": {
          "model_module": "@jupyter-widgets/controls",
          "model_name": "DescriptionStyleModel",
          "model_module_version": "1.5.0",
          "state": {
            "_model_module": "@jupyter-widgets/controls",
            "_model_module_version": "1.5.0",
            "_model_name": "DescriptionStyleModel",
            "_view_count": null,
            "_view_module": "@jupyter-widgets/base",
            "_view_module_version": "1.2.0",
            "_view_name": "StyleView",
            "description_width": ""
          }
        }
      }
    }
  },
  "cells": [
    {
      "cell_type": "code",
      "execution_count": null,
      "metadata": {
        "id": "tDge4yznqjQ9",
        "colab": {
          "base_uri": "https://localhost:8080/"
        },
        "outputId": "740a14f6-b2d8-444f-a56b-65f890022d41"
      },
      "outputs": [
        {
          "output_type": "stream",
          "name": "stderr",
          "text": [
            "/usr/local/lib/python3.7/dist-packages/nltk/twitter/__init__.py:20: UserWarning: The twython library has not been installed. Some functionality from the twitter package will not be available.\n",
            "  warnings.warn(\"The twython library has not been installed. \"\n"
          ]
        }
      ],
      "source": [
        "from urllib.request import urlopen, Request\n",
        "from bs4 import BeautifulSoup\n",
        "from nltk.sentiment.vader import SentimentIntensityAnalyzer\n",
        "import pandas as pd\n",
        "import matplotlib.pyplot as plt\n",
        "\n"
      ]
    },
    {
      "cell_type": "code",
      "source": [
        "finviz_url = 'https://finviz.com/quote.ashx?t='\n",
        "tickers = []\n",
        "symbol = input('Enter the code for the stock:')\n",
        "tickers.append(symbol)\n",
        "\n",
        "news_tables = {}\n",
        "for ticker in tickers:\n",
        "    url = finviz_url + ticker\n",
        "\n",
        "    req = Request(url=url, headers={'user-agent': 'my-app'})\n",
        "    response = urlopen(req)\n",
        "\n",
        "    html = BeautifulSoup(response, features='html.parser')\n",
        "    news_table = html.find(id='news-table')\n",
        "    news_tables[ticker] = news_table\n"
      ],
      "metadata": {
        "colab": {
          "base_uri": "https://localhost:8080/"
        },
        "id": "We4ogd0aqrE1",
        "outputId": "25e7f100-c585-47b4-fb87-b74ed507832c"
      },
      "execution_count": null,
      "outputs": [
        {
          "name": "stdout",
          "output_type": "stream",
          "text": [
            "Enter the code for the stock:TSLA\n"
          ]
        }
      ]
    },
    {
      "cell_type": "code",
      "source": [
        "news_tables"
      ],
      "metadata": {
        "colab": {
          "base_uri": "https://localhost:8080/"
        },
        "id": "U9Cnn1HX2FJ9",
        "outputId": "48d67e6f-530d-4ec6-dcd0-a5f61b2a122c"
      },
      "execution_count": null,
      "outputs": [
        {
          "output_type": "execute_result",
          "data": {
            "text/plain": [
              "{'TSLA': <table border=\"0\" cellpadding=\"1\" cellspacing=\"0\" class=\"fullview-news-outer\" id=\"news-table\" width=\"100%\">\n",
              " <tr><td align=\"right\" style=\"white-space:nowrap\" width=\"130\">Mar-30-22 10:02PM  </td><td align=\"left\"><div class=\"news-link-container\"><div class=\"news-link-left\"><a class=\"tab-link-news\" href=\"https://www.investors.com/market-trend/stock-market-today/dow-jones-futures-crude-oil-falls-biden-mulls-huge-strategic-reserves-release/?src=A00220\" target=\"_blank\">Dow Jones Futures Rise, Crude Oil Tumbles As Biden Mulls Huge Strategic Reserves Release</a></div><div class=\"news-link-right\"><span style=\"color:#aa6dc0;font-size:9px\"> Investor's Business Daily</span></div></div></td></tr>\n",
              " <tr><td align=\"right\" width=\"130\">09:06PM  </td><td align=\"left\"><div class=\"news-link-container\"><div class=\"news-link-left\"><a class=\"tab-link-news\" href=\"https://www.investors.com/market-trend/stock-market-today/dow-jones-futures-market-rally-gets-what-it-needs-not-what-you-want/?src=A00220\" target=\"_blank\">Dow Jones Futures: Market Rally Gets What It Needs, Not What You Want; 6 Stocks To Watch</a></div><div class=\"news-link-right\"><span style=\"color:#aa6dc0;font-size:9px\"> Investor's Business Daily</span></div></div></td></tr>\n",
              " <tr><td align=\"right\" width=\"130\">07:46PM  </td><td align=\"left\"><div class=\"news-link-container\"><div class=\"news-link-left\"><a class=\"tab-link-news\" href=\"https://www.thestreet.com/technology/ev-checkpoint-your-gm-electric-hummer-pickup-is-going-to-be-two-years-late?puc=yahoo&amp;cm_ven=YAHOO\" target=\"_blank\">EV Checkpoint: Your GM Electric Hummer Pickup Is Going to Be Two Years Late</a></div><div class=\"news-link-right\"><span style=\"color:#aa6dc0;font-size:9px\"> TheStreet.com</span></div></div></td></tr>\n",
              " <tr><td align=\"right\" width=\"130\">05:31PM  </td><td align=\"left\"><div class=\"news-link-container\"><div class=\"news-link-left\"><a class=\"tab-link-news\" href=\"https://www.investors.com/news/nio-stock-buy-now/?src=A00220\" target=\"_blank\">Nio Stock Rallies To Key Level After Ark Invest's Cathie Wood Buys The Dip</a></div><div class=\"news-link-right\"><span style=\"color:#aa6dc0;font-size:9px\"> Investor's Business Daily</span></div></div></td></tr>\n",
              " <tr><td align=\"right\" width=\"130\">05:24PM  </td><td align=\"left\"><div class=\"news-link-container\"><div class=\"news-link-left\"><a class=\"tab-link-news\" href=\"https://www.investors.com/news/top-millennial-and-gen-z-stock-picks-from-tesla-to-apple-should-you-buy-them-too/?src=A00220\" target=\"_blank\">Millennial And Gen Z Stock Picks From Tesla To Apple: Should You Buy Them Too?</a></div><div class=\"news-link-right\"><span style=\"color:#aa6dc0;font-size:9px\"> Investor's Business Daily</span></div></div></td></tr>\n",
              " <tr><td align=\"right\" width=\"130\">05:09PM  </td><td align=\"left\"><div class=\"news-link-container\"><div class=\"news-link-left\"><a class=\"tab-link-news\" href=\"https://www.thestreet.com/investing/tesla-snubbed-from-elite-club-while-rivals-ford-rivian-are-anointed?puc=yahoo&amp;cm_ven=YAHOO\" target=\"_blank\">Tesla Snubbed from Elite Club While Rivals Ford, Rivian Are Anointed</a></div><div class=\"news-link-right\"><span style=\"color:#aa6dc0;font-size:9px\"> TheStreet.com</span></div></div></td></tr>\n",
              " <tr><td align=\"right\" width=\"130\">05:05PM  </td><td align=\"left\"><div class=\"news-link-container\"><div class=\"news-link-left\"><a class=\"tab-link-news\" href=\"https://www.investors.com/news/rivian-stock-to-buy-rivian-ipo/?src=A00220\" target=\"_blank\">Is Rivian Stock A Buy Now As Analyst Touts Positive Outlook?</a></div><div class=\"news-link-right\"><span style=\"color:#aa6dc0;font-size:9px\"> Investor's Business Daily</span></div></div></td></tr>\n",
              " <tr><td align=\"right\" width=\"130\">04:59PM  </td><td align=\"left\"><div class=\"news-link-container\"><div class=\"news-link-left\"><a class=\"tab-link-news\" href=\"https://www.barrons.com/articles/fedex-autonomous-trucks-tusimple-51648640210?siteid=yhoof2\" target=\"_blank\">FedEx Wants Autonomous Trucks. Thats Good for These Companies.</a></div><div class=\"news-link-right\"><span style=\"color:#aa6dc0;font-size:9px\"> Barrons.com</span></div></div></td></tr>\n",
              " <tr><td align=\"right\" width=\"130\">04:50PM  </td><td align=\"left\"><div class=\"news-link-container\"><div class=\"news-link-left\"><a class=\"tab-link-news\" href=\"https://www.barrons.com/articles/biden-tesla-ford-evs-lithium-51648665843?siteid=yhoof2\" target=\"_blank\">Biden Wants to Make Life Easier for Tesla, Ford, and Other EV Makers. These Stocks Are Jumping.</a></div><div class=\"news-link-right\"><span style=\"color:#aa6dc0;font-size:9px\"> Barrons.com</span></div></div></td></tr>\n",
              " <tr><td align=\"right\" width=\"130\">03:58PM  </td><td align=\"left\"><div class=\"news-link-container\"><div class=\"news-link-left\"><a class=\"tab-link-news\" href=\"https://finance.yahoo.com/news/lotus-unveils-the-worlds-first-electric-hyper-suv-the-eletre-195856618.html\" target=\"_blank\">Lotus unveils the world's first electric hyper-SUV  the Eletre</a></div><div class=\"news-link-right\"><span style=\"color:#aa6dc0;font-size:9px\"> Yahoo Finance</span></div></div></td></tr>\n",
              " <tr><td align=\"right\" width=\"130\">03:28PM  </td><td align=\"left\"><div class=\"news-link-container\"><div class=\"news-link-left\"><a class=\"tab-link-news\" href=\"https://www.thestreet.com/technology/micron-sees-big-business-in-automated-driving-evs?puc=yahoo&amp;cm_ven=YAHOO\" target=\"_blank\">Why Micron Chips Should Be Your Next Investment</a></div><div class=\"news-link-right\"><span style=\"color:#aa6dc0;font-size:9px\"> TheStreet.com</span></div></div></td></tr>\n",
              " <tr><td align=\"right\" width=\"130\">03:03PM  </td><td align=\"left\"><div class=\"news-link-container\"><div class=\"news-link-left\"><a class=\"tab-link-news\" href=\"https://finance.yahoo.com/news/general-motors-gm-gets-above-190307911.html\" target=\"_blank\">General Motors (GM) Gets Above 65K Reservations for Hummer EV</a></div><div class=\"news-link-right\"><span style=\"color:#aa6dc0;font-size:9px\"> Zacks</span></div></div></td></tr>\n",
              " <tr><td align=\"right\" width=\"130\">02:06PM  </td><td align=\"left\"><div class=\"news-link-container\"><div class=\"news-link-left\"><a class=\"tab-link-news\" href=\"https://www.investors.com/research/options/is-tesla-stock-due-for-a-pause-this-iron-condor-could-return-59/?src=A00220\" target=\"_blank\">Is Tesla Stock Due For A Pause? This Iron Condor Could Return 59%</a></div><div class=\"news-link-right\"><span style=\"color:#aa6dc0;font-size:9px\"> Investor's Business Daily</span></div></div></td></tr>\n",
              " <tr><td align=\"right\" width=\"130\">01:57PM  </td><td align=\"left\"><div class=\"news-link-container\"><div class=\"news-link-left\"><a class=\"tab-link-news\" href=\"https://www.thestreet.com/technology/musk-tesla-have-a-secret-agreement-to-secure-a-key-element-of-evs?puc=yahoo&amp;cm_ven=YAHOO\" target=\"_blank\">Musk, Tesla Have Secret Deal That Rivals Can't Compete With</a></div><div class=\"news-link-right\"><span style=\"color:#aa6dc0;font-size:9px\"> TheStreet.com</span></div></div></td></tr>\n",
              " <tr><td align=\"right\" width=\"130\">12:55PM  </td><td align=\"left\"><div class=\"news-link-container\"><div class=\"news-link-left\"><a class=\"tab-link-news\" href=\"https://www.investors.com/news/best-ev-stocks-buy-now-electric-cars/?src=A00220\" target=\"_blank\">These Are The 5 Best EV Stocks To Buy And Watch Now</a></div><div class=\"news-link-right\"><span style=\"color:#aa6dc0;font-size:9px\"> Investor's Business Daily</span></div></div></td></tr>\n",
              " <tr><td align=\"right\" width=\"130\">11:21AM  </td><td align=\"left\"><div class=\"news-link-container\"><div class=\"news-link-left\"><a class=\"tab-link-news\" href=\"https://finance.yahoo.com/news/ford-f-introduces-off-road-152103016.html\" target=\"_blank\">Ford (F) Introduces Off-Road Variant 2023 F-150 Rattler</a></div><div class=\"news-link-right\"><span style=\"color:#aa6dc0;font-size:9px\"> Zacks</span></div></div></td></tr>\n",
              " <tr><td align=\"right\" width=\"130\">11:10AM  </td><td align=\"left\"><div class=\"news-link-container\"><div class=\"news-link-left\"><a class=\"tab-link-news\" href=\"https://finance.yahoo.com/video/lotus-electric-hyper-suv-first-151029369.html\" target=\"_blank\">New Lotus electric hyper SUV the first in a range of lifestyle cars, exec says</a></div><div class=\"news-link-right\"><span style=\"color:#aa6dc0;font-size:9px\"> Yahoo Finance Video</span></div></div></td></tr>\n",
              " <tr><td align=\"right\" width=\"130\">11:08AM  </td><td align=\"left\"><div class=\"news-link-container\"><div class=\"news-link-left\"><a class=\"tab-link-news\" href=\"https://finance.yahoo.com/news/retail-traders-sell-rivian-rally-150809989.html\" target=\"_blank\">Retail Traders Sell Into Rivians Rally With EV Concerns Rising</a></div><div class=\"news-link-right\"><span style=\"color:#aa6dc0;font-size:9px\"> Bloomberg</span></div></div></td></tr>\n",
              " <tr><td align=\"right\" width=\"130\">10:56AM  </td><td align=\"left\"><div class=\"news-link-container\"><div class=\"news-link-left\"><a class=\"tab-link-news\" href=\"https://www.barrons.com/articles/will-tesla-buyers-pay-more-for-new-technology-one-analyst-isnt-so-sure-51648652180?siteid=yhoof2\" target=\"_blank\">Will Tesla Buyers Pay More for New Technology? One Analyst Isnt So Sure.</a></div><div class=\"news-link-right\"><span style=\"color:#aa6dc0;font-size:9px\"> Barrons.com</span></div></div></td></tr>\n",
              " <tr><td align=\"right\" width=\"130\">10:46AM  </td><td align=\"left\"><div class=\"news-link-container\"><div class=\"news-link-left\"><a class=\"tab-link-news\" href=\"https://www.marketwatch.com/story/teslas-stock-rises-again-has-retraced-about-74-of-bear-market-selloff-through-late-february-2022-03-30?siteid=yhoof2\" target=\"_blank\">Tesla's stock rises again, has retraced about 74% of bear-market selloff through late February</a></div><div class=\"news-link-right\"><span style=\"color:#aa6dc0;font-size:9px\"> MarketWatch</span></div></div></td></tr>\n",
              " <tr><td align=\"right\" width=\"130\">10:38AM  </td><td align=\"left\"><div class=\"news-link-container\"><div class=\"news-link-left\"><a class=\"tab-link-news\" href=\"https://finance.yahoo.com/news/emerging-markets-latam-currencies-join-143810118.html\" target=\"_blank\">EMERGING MARKETS-Latam currencies join EM peers in cautious gains</a></div><div class=\"news-link-right\"><span style=\"color:#aa6dc0;font-size:9px\"> Reuters</span></div></div></td></tr>\n",
              " <tr><td align=\"right\" width=\"130\">10:28AM  </td><td align=\"left\"><div class=\"news-link-container\"><div class=\"news-link-left\"><a class=\"tab-link-news\" href=\"https://finance.yahoo.com/news/tesla-dodges-nickel-crisis-secret-115010406.html\" target=\"_blank\">Tesla Dodges Nickel Crisis With Secret Deal to Get Supplies</a></div><div class=\"news-link-right\"><span style=\"color:#aa6dc0;font-size:9px\"> Bloomberg</span></div></div></td></tr>\n",
              " <tr><td align=\"right\" width=\"130\">10:15AM  </td><td align=\"left\"><div class=\"news-link-container\"><div class=\"news-link-left\"><a class=\"tab-link-news\" href=\"https://finance.yahoo.com/news/zacks-analyst-blog-highlights-tesla-141502833.html\" target=\"_blank\">The Zacks Analyst Blog Highlights Tesla, Amazon and Alphabet</a></div><div class=\"news-link-right\"><span style=\"color:#aa6dc0;font-size:9px\"> Zacks</span></div></div></td></tr>\n",
              " <tr><td align=\"right\" width=\"130\">09:48AM  </td><td align=\"left\"><div class=\"news-link-container\"><div class=\"news-link-left\"><a class=\"tab-link-news\" href=\"https://finance.yahoo.com/news/1-tesla-signed-secret-nickel-134838646.html\" target=\"_blank\">UPDATE 1-Tesla signed secret nickel supply deal with Vale - Bloomberg News</a></div><div class=\"news-link-right\"><span style=\"color:#aa6dc0;font-size:9px\"> Reuters</span></div></div></td></tr>\n",
              " <tr><td align=\"right\" width=\"130\">09:40AM  </td><td align=\"left\"><div class=\"news-link-container\"><div class=\"news-link-left\"><a class=\"tab-link-news\" href=\"https://finance.yahoo.com/news/top-auto-tires-trucks-stock-134001735.html\" target=\"_blank\">This Top Auto, Tires and Trucks Stock is a #1 (Strong Buy): Why It Should Be on Your Radar</a></div><div class=\"news-link-right\"><span style=\"color:#aa6dc0;font-size:9px\"> Zacks</span></div></div></td></tr>\n",
              " <tr><td align=\"right\" width=\"130\">09:40AM  </td><td align=\"left\"><div class=\"news-link-container\"><div class=\"news-link-left\"><a class=\"tab-link-news\" href=\"https://finance.yahoo.com/news/honda-motor-hmc-outperforming-other-134001538.html\" target=\"_blank\">Is Honda Motor (HMC) Outperforming Other Auto-Tires-Trucks Stocks This Year?</a></div><div class=\"news-link-right\"><span style=\"color:#aa6dc0;font-size:9px\"> Zacks</span></div></div></td></tr>\n",
              " <tr><td align=\"right\" width=\"130\">09:21AM  </td><td align=\"left\"><div class=\"news-link-container\"><div class=\"news-link-left\"><a class=\"tab-link-news\" href=\"https://www.fool.com/investing/2022/03/30/my-2-best-stock-split-growth-stocks-to-buy-now-and/?source=eptyholnk0000202&amp;utm_source=yahoo-host&amp;utm_medium=feed&amp;utm_campaign=article\" target=\"_blank\">My 2 Best Stock Split Growth Stocks to Buy Now and Hold Forever</a></div><div class=\"news-link-right\"><span style=\"color:#aa6dc0;font-size:9px\"> Motley Fool</span></div></div></td></tr>\n",
              " <tr><td align=\"right\" width=\"130\">09:13AM  </td><td align=\"left\"><div class=\"news-link-container\"><div class=\"news-link-left\"><a class=\"tab-link-news\" href=\"https://finance.yahoo.com/news/tesla-signed-secret-nickel-supply-131354223.html\" target=\"_blank\">Tesla signed secret nickel supply deal with Vale - Bloomberg News</a></div><div class=\"news-link-right\"><span style=\"color:#aa6dc0;font-size:9px\"> Reuters</span></div></div></td></tr>\n",
              " <tr><td align=\"right\" width=\"130\">09:05AM  </td><td align=\"left\"><div class=\"news-link-container\"><div class=\"news-link-left\"><a class=\"tab-link-news\" href=\"https://finance.yahoo.com/video/shanghais-covid-19-lockdown-tests-130500617.html\" target=\"_blank\">Shanghai's New Covid-19 Lockdown Tests China's Financial Hub</a></div><div class=\"news-link-right\"><span style=\"color:#aa6dc0;font-size:9px\"> WSJ</span></div></div></td></tr>\n",
              " <tr><td align=\"right\" width=\"130\">09:02AM  </td><td align=\"left\"><div class=\"news-link-container\"><div class=\"news-link-left\"><a class=\"tab-link-news\" href=\"https://finance.yahoo.com/news/tesla-signed-secret-nickel-supply-130203195.html\" target=\"_blank\">Tesla signed secret nickel supply deal with Vale - Bloomberg News</a></div><div class=\"news-link-right\"><span style=\"color:#aa6dc0;font-size:9px\"> Reuters</span></div></div></td></tr>\n",
              " <tr><td align=\"right\" width=\"130\">08:59AM  </td><td align=\"left\"><div class=\"news-link-container\"><div class=\"news-link-left\"><a class=\"tab-link-news\" href=\"https://finance.yahoo.com/news/wise-decision-buy-tesla-tsla-125906057.html\" target=\"_blank\">Is it a Wise Decision to Buy Tesla (TSLA) Shares?</a></div><div class=\"news-link-right\"><span style=\"color:#aa6dc0;font-size:9px\"> Insider Monkey</span></div></div></td></tr>\n",
              " <tr><td align=\"right\" width=\"130\">08:58AM  </td><td align=\"left\"><div class=\"news-link-container\"><div class=\"news-link-left\"><a class=\"tab-link-news\" href=\"https://www.thestreet.com/technology/musk-has-a-new-slogan-for-a-powerful-auto-union-its-not-pretty?puc=yahoo&amp;cm_ven=YAHOO\" target=\"_blank\">Elon Musk Has New Slogan for Union That May Annoy Joe Biden</a></div><div class=\"news-link-right\"><span style=\"color:#aa6dc0;font-size:9px\"> TheStreet.com</span></div></div></td></tr>\n",
              " <tr><td align=\"right\" width=\"130\">08:56AM  </td><td align=\"left\"><div class=\"news-link-container\"><div class=\"news-link-left\"><a class=\"tab-link-news\" href=\"https://finance.yahoo.com/news/wise-choice-invest-tesla-tsla-125636306.html\" target=\"_blank\">Is it a Wise Choice to Invest in Tesla (TSLA)?</a></div><div class=\"news-link-right\"><span style=\"color:#aa6dc0;font-size:9px\"> Insider Monkey</span></div></div></td></tr>\n",
              " <tr><td align=\"right\" width=\"130\">08:27AM  </td><td align=\"left\"><div class=\"news-link-container\"><div class=\"news-link-left\"><a class=\"tab-link-news\" href=\"https://www.investors.com/market-trend/stock-market-today/dow-jones-futures-stocks-jump-on-russia-ukraine-talks-apple-dutch-bros-break-out/?src=A00220\" target=\"_blank\">Dow Jones Futures Fall After Stocks Jump On Russia-Ukraine Talks; Apple, Dutch Bros Break Out</a></div><div class=\"news-link-right\"><span style=\"color:#aa6dc0;font-size:9px\"> Investor's Business Daily</span></div></div></td></tr>\n",
              " <tr><td align=\"right\" width=\"130\">07:30AM  </td><td align=\"left\"><div class=\"news-link-container\"><div class=\"news-link-left\"><a class=\"tab-link-news\" href=\"https://qz.com/2147995/why-tesla-google-and-amazon-want-to-do-stock-splits/?utm_source=YPL\" target=\"_blank\">Why Tesla, Google, and Amazon want to do stock splits</a></div><div class=\"news-link-right\"><span style=\"color:#aa6dc0;font-size:9px\"> Quartz</span></div></div></td></tr>\n",
              " <tr><td align=\"right\" width=\"130\">07:00AM  </td><td align=\"left\"><div class=\"news-link-container\"><div class=\"news-link-left\"><a class=\"tab-link-news\" href=\"https://www.fool.com/investing/2022/03/30/split-decision-heres-why-amazon-stock-is-a-buy/?source=eptyholnk0000202&amp;utm_source=yahoo-host&amp;utm_medium=feed&amp;utm_campaign=article\" target=\"_blank\">Split Decision? Here's Why Amazon Stock Is a Buy</a></div><div class=\"news-link-right\"><span style=\"color:#aa6dc0;font-size:9px\"> Motley Fool</span></div></div></td></tr>\n",
              " <tr><td align=\"right\" width=\"130\">06:35AM  </td><td align=\"left\"><div class=\"news-link-container\"><div class=\"news-link-left\"><a class=\"tab-link-news\" href=\"https://www.fool.com/investing/2022/03/30/why-cathie-wood-dumped-tesla-for-this-hot-ev-stock/?source=eptyholnk0000202&amp;utm_source=yahoo-host&amp;utm_medium=feed&amp;utm_campaign=article\" target=\"_blank\">Why Cathie Wood Just Dumped Tesla for This Hot EV Stock</a></div><div class=\"news-link-right\"><span style=\"color:#aa6dc0;font-size:9px\"> Motley Fool</span></div></div></td></tr>\n",
              " <tr><td align=\"right\" width=\"130\">06:06AM  </td><td align=\"left\"><div class=\"news-link-container\"><div class=\"news-link-left\"><a class=\"tab-link-news\" href=\"https://www.fool.com/investing/2022/03/30/tesla-announces-plans-for-a-stock-split-does-that/?source=eptyholnk0000202&amp;utm_source=yahoo-host&amp;utm_medium=feed&amp;utm_campaign=article\" target=\"_blank\">Tesla Announces Plans for a Stock Split. Does That Make the Stock a Buy?</a></div><div class=\"news-link-right\"><span style=\"color:#aa6dc0;font-size:9px\"> Motley Fool</span></div></div></td></tr>\n",
              " <tr><td align=\"right\" width=\"130\">04:55AM  </td><td align=\"left\"><div class=\"news-link-container\"><div class=\"news-link-left\"><a class=\"tab-link-news\" href=\"https://finance.yahoo.com/news/elon-musk-recommends-investing-physical-180112580.html\" target=\"_blank\">Elon Musk Recommends Investing In 'Physical Things' - Here Are 3 Physical Assets That Perform Well During High Inflation</a></div><div class=\"news-link-right\"><span style=\"color:#aa6dc0;font-size:9px\"> Benzinga</span></div></div></td></tr>\n",
              " <tr><td align=\"right\" width=\"130\">03:32AM  </td><td align=\"left\"><div class=\"news-link-container\"><div class=\"news-link-left\"><a class=\"tab-link-news\" href=\"https://finance.yahoo.com/news/australian-state-utility-picks-tesla-073223161.html\" target=\"_blank\">Australian state utility picks Tesla batteries to back up renewable energy</a></div><div class=\"news-link-right\"><span style=\"color:#aa6dc0;font-size:9px\"> Reuters</span></div></div></td></tr>\n",
              " <tr><td align=\"right\" style=\"white-space:nowrap\" width=\"130\">Mar-29-22 08:59PM  </td><td align=\"left\"><div class=\"news-link-container\"><div class=\"news-link-left\"><a class=\"tab-link-news\" href=\"https://www.thestreet.com/investing/cryptocurrency/billionaire-michael-saylor-set-to-bolster-confidence-in-bitcoin?puc=yahoo&amp;cm_ven=YAHOO\" target=\"_blank\">Billionaire Michael Saylor Set to Bolster Confidence in Bitcoin</a></div><div class=\"news-link-right\"><span style=\"color:#aa6dc0;font-size:9px\"> TheStreet.com</span></div></div></td></tr>\n",
              " <tr><td align=\"right\" width=\"130\">08:04PM  </td><td align=\"left\"><div class=\"news-link-container\"><div class=\"news-link-left\"><a class=\"tab-link-news\" href=\"https://www.barrons.com/articles/tesla-stock-price-raw-materials-supply-51648589935?siteid=yhoof2\" target=\"_blank\">Tesla Is Years Ahead of Rivals on Key Supply Issues, Morgan Stanley Says</a></div><div class=\"news-link-right\"><span style=\"color:#aa6dc0;font-size:9px\"> Barrons.com</span></div></div></td></tr>\n",
              " <tr><td align=\"right\" width=\"130\">07:10PM  </td><td align=\"left\"><div class=\"news-link-container\"><div class=\"news-link-left\"><a class=\"tab-link-news\" href=\"https://www.wsj.com/articles/uaw-chief-says-he-hasnt-had-talks-with-tesla-or-elon-musk-11648595417?mod=itp_wsj\" target=\"_blank\">UAW Chief Says He Hasnt Had Talks With Tesla or Elon Musk</a></div><div class=\"news-link-right\"><span style=\"color:#aa6dc0;font-size:9px\"> The Wall Street Journal</span></div></div></td></tr>\n",
              " <tr><td align=\"right\" width=\"130\">06:58PM  </td><td align=\"left\"><div class=\"news-link-container\"><div class=\"news-link-left\"><a class=\"tab-link-news\" href=\"https://www.thestreet.com/technology/elon-musks-tesla-loses-prestigious-crown-to-lucid?puc=yahoo&amp;cm_ven=YAHOO\" target=\"_blank\">Elon Musk's Tesla Loses Prestigious Crown to Lucid</a></div><div class=\"news-link-right\"><span style=\"color:#aa6dc0;font-size:9px\"> TheStreet.com</span></div></div></td></tr>\n",
              " <tr><td align=\"right\" width=\"130\">05:45PM  </td><td align=\"left\"><div class=\"news-link-container\"><div class=\"news-link-left\"><a class=\"tab-link-news\" href=\"https://finance.yahoo.com/news/tesla-tsla-gains-lags-market-214509344.html\" target=\"_blank\">Tesla (TSLA) Gains But Lags Market: What You Should Know</a></div><div class=\"news-link-right\"><span style=\"color:#aa6dc0;font-size:9px\"> Zacks</span></div></div></td></tr>\n",
              " <tr><td align=\"right\" width=\"130\">05:39PM  </td><td align=\"left\"><div class=\"news-link-container\"><div class=\"news-link-left\"><a class=\"tab-link-news\" href=\"https://www.barrons.com/articles/tesla-stock-raw-materials-supply-51648589935?siteid=yhoof2\" target=\"_blank\">Tesla Is Years Ahead of Rivals on Key Supply Issues, Morgan Stanley Says</a></div><div class=\"news-link-right\"><span style=\"color:#aa6dc0;font-size:9px\"> Barrons.com</span></div></div></td></tr>\n",
              " <tr><td align=\"right\" width=\"130\">05:11PM  </td><td align=\"left\"><div class=\"news-link-container\"><div class=\"news-link-left\"><a class=\"tab-link-news\" href=\"https://finance.yahoo.com/news/tesla-bull-unfazed-latest-factory-211110172.html\" target=\"_blank\">Tesla Bull Unfazed by Latest Factory Shutdown in Shanghai</a></div><div class=\"news-link-right\"><span style=\"color:#aa6dc0;font-size:9px\"> TipRanks</span></div></div></td></tr>\n",
              " <tr><td align=\"right\" width=\"130\">04:55PM  </td><td align=\"left\"><div class=\"news-link-container\"><div class=\"news-link-left\"><a class=\"tab-link-news\" href=\"https://www.investors.com/news/tesla-stock-vs-byd-stock-comparing-ev-stocks-tsla-byddf/?src=A00220\" target=\"_blank\">Tesla Stock Vs. BYD Stock: Tesla Races Toward Buy Point</a></div><div class=\"news-link-right\"><span style=\"color:#aa6dc0;font-size:9px\"> Investor's Business Daily</span></div></div></td></tr>\n",
              " <tr><td align=\"right\" width=\"130\">04:52PM  </td><td align=\"left\"><div class=\"news-link-container\"><div class=\"news-link-left\"><a class=\"tab-link-news\" href=\"https://finance.yahoo.com/news/no-current-talks-tesla-potential-205236681.html\" target=\"_blank\">No current talks with Tesla about potential union vote -UAW president</a></div><div class=\"news-link-right\"><span style=\"color:#aa6dc0;font-size:9px\"> Reuters</span></div></div></td></tr>\n",
              " <tr><td align=\"right\" width=\"130\">04:48PM  </td><td align=\"left\"><div class=\"news-link-container\"><div class=\"news-link-left\"><a class=\"tab-link-news\" href=\"https://finance.yahoo.com/news/1-no-current-talks-tesla-204852096.html\" target=\"_blank\">UPDATE 2-No current talks with Tesla about potential union vote -UAW president</a></div><div class=\"news-link-right\"><span style=\"color:#aa6dc0;font-size:9px\"> Reuters</span></div></div></td></tr>\n",
              " <tr><td align=\"right\" width=\"130\">04:34PM  </td><td align=\"left\"><div class=\"news-link-container\"><div class=\"news-link-left\"><a class=\"tab-link-news\" href=\"https://www.wsj.com/articles/tesla-move-shows-stock-splits-are-back-11648572845?mod=itp_wsj\" target=\"_blank\">Tesla Move Shows Stock Splits Are Back</a></div><div class=\"news-link-right\"><span style=\"color:#aa6dc0;font-size:9px\"> The Wall Street Journal</span></div></div></td></tr>\n",
              " <tr><td align=\"right\" width=\"130\">04:10PM  </td><td align=\"left\"><div class=\"news-link-container\"><div class=\"news-link-left\"><a class=\"tab-link-news\" href=\"https://finance.yahoo.com/video/stocks-end-day-green-investors-201049688.html\" target=\"_blank\">Stocks end the day in the green as investors eye Russia-Ukraine negotiations</a></div><div class=\"news-link-right\"><span style=\"color:#aa6dc0;font-size:9px\"> Yahoo Finance Video</span></div></div></td></tr>\n",
              " <tr><td align=\"right\" width=\"130\">03:41PM  </td><td align=\"left\"><div class=\"news-link-container\"><div class=\"news-link-left\"><a class=\"tab-link-news\" href=\"https://www.barrons.com/articles/tesla-stock-deliveries-what-to-expect-51648562278?siteid=yhoof2\" target=\"_blank\">Tesla Deliveries Are Coming. Heres What to Expect.</a></div><div class=\"news-link-right\"><span style=\"color:#aa6dc0;font-size:9px\"> Barrons.com</span></div></div></td></tr>\n",
              " <tr><td align=\"right\" width=\"130\">02:31PM  </td><td align=\"left\"><div class=\"news-link-container\"><div class=\"news-link-left\"><a class=\"tab-link-news\" href=\"https://finance.yahoo.com/news/1-vietnams-vinfast-sets-u-183100174.html\" target=\"_blank\">UPDATE 1-Vietnam's VinFast sets up U.S. manufacturing plant, eyes investment of at least $2 bln</a></div><div class=\"news-link-right\"><span style=\"color:#aa6dc0;font-size:9px\"> Reuters</span></div></div></td></tr>\n",
              " <tr><td align=\"right\" width=\"130\">02:30PM  </td><td align=\"left\"><div class=\"news-link-container\"><div class=\"news-link-left\"><a class=\"tab-link-news\" href=\"https://www.barrons.com/articles/tesla-stock-split-51648464480?siteid=yhoof2\" target=\"_blank\">Tesla Stock Jumped. The EV Maker Is Planning Another Split.</a></div><div class=\"news-link-right\"><span style=\"color:#aa6dc0;font-size:9px\"> Barrons.com</span></div></div></td></tr>\n",
              " <tr><td align=\"right\" width=\"130\">02:28PM  </td><td align=\"left\"><div class=\"news-link-container\"><div class=\"news-link-left\"><a class=\"tab-link-news\" href=\"https://finance.yahoo.com/news/vietnam-car-maker-vinfast-selects-182850699.html\" target=\"_blank\">Vietnam's VinFast sets up U.S. manufacturing plant, eyes investment of at least $2 bln</a></div><div class=\"news-link-right\"><span style=\"color:#aa6dc0;font-size:9px\"> Reuters</span></div></div></td></tr>\n",
              " <tr><td align=\"right\" width=\"130\">02:10PM  </td><td align=\"left\"><div class=\"news-link-container\"><div class=\"news-link-left\"><a class=\"tab-link-news\" href=\"https://finance.yahoo.com/news/volkswagens-vwagy-porsche-joins-quantumscape-181006061.html\" target=\"_blank\">Volkswagen's (VWAGY) Porsche Joins QuantumScape for Electric 911</a></div><div class=\"news-link-right\"><span style=\"color:#aa6dc0;font-size:9px\"> Zacks</span></div></div></td></tr>\n",
              " <tr><td align=\"right\" width=\"130\">02:03PM  </td><td align=\"left\"><div class=\"news-link-container\"><div class=\"news-link-left\"><a class=\"tab-link-news\" href=\"https://www.thestreet.com/investing/elizabeth-warren-takes-shots-at-elon-musk?puc=yahoo&amp;cm_ven=YAHOO\" target=\"_blank\">Elizabeth Warren Enjoys Being Elon Musk's Arch Nemesis</a></div><div class=\"news-link-right\"><span style=\"color:#aa6dc0;font-size:9px\"> TheStreet.com</span></div></div></td></tr>\n",
              " <tr><td align=\"right\" width=\"130\">01:54PM  </td><td align=\"left\"><div class=\"news-link-container\"><div class=\"news-link-left\"><a class=\"tab-link-news\" href=\"https://www.barrons.com/articles/bitcoin-cryptocurrency-mining-climate-environmental-impact-51648575791?siteid=yhoof2\" target=\"_blank\">Bitcoins Climate Impact Is Under New Scrutiny. Heres What to Know.</a></div><div class=\"news-link-right\"><span style=\"color:#aa6dc0;font-size:9px\"> Barrons.com</span></div></div></td></tr>\n",
              " <tr><td align=\"right\" width=\"130\">01:00PM  </td><td align=\"left\"><div class=\"news-link-container\"><div class=\"news-link-left\"><a class=\"tab-link-news\" href=\"https://finance.yahoo.com/news/will-a-billionaires-tax-happen-170006192.html\" target=\"_blank\">Will a billionaire's tax happen?</a></div><div class=\"news-link-right\"><span style=\"color:#aa6dc0;font-size:9px\"> Yahoo Finance</span></div></div></td></tr>\n",
              " <tr><td align=\"right\" width=\"130\">12:47PM  </td><td align=\"left\"><div class=\"news-link-container\"><div class=\"news-link-left\"><a class=\"tab-link-news\" href=\"https://finance.yahoo.com/news/greenpeace-crypto-billionaire-lobby-change-030000412.html\" target=\"_blank\">Greenpeace, Crypto Billionaire Lobby to Change Bitcoin Code</a></div><div class=\"news-link-right\"><span style=\"color:#aa6dc0;font-size:9px\"> Bloomberg</span></div></div></td></tr>\n",
              " <tr><td align=\"right\" width=\"130\">11:54AM  </td><td align=\"left\"><div class=\"news-link-container\"><div class=\"news-link-left\"><a class=\"tab-link-news\" href=\"https://www.thestreet.com/technology/musk-has-a-new-line-of-attack-against-archrival-bezos?puc=yahoo&amp;cm_ven=YAHOO\" target=\"_blank\">Musk Has a New Line of Attack Against Archrival Bezos (With a Z)</a></div><div class=\"news-link-right\"><span style=\"color:#aa6dc0;font-size:9px\"> TheStreet.com</span></div></div></td></tr>\n",
              " <tr><td align=\"right\" width=\"130\">11:31AM  </td><td align=\"left\"><div class=\"news-link-container\"><div class=\"news-link-left\"><a class=\"tab-link-news\" href=\"https://finance.yahoo.com/news/tesla-stock-split-strength-dan-ives-153139209.html\" target=\"_blank\">Tesla stock split indicates 'a massive position of strength,' Dan Ives says</a></div><div class=\"news-link-right\"><span style=\"color:#aa6dc0;font-size:9px\"> Yahoo Finance</span></div></div></td></tr>\n",
              " <tr><td align=\"right\" width=\"130\">11:01AM  </td><td align=\"left\"><div class=\"news-link-container\"><div class=\"news-link-left\"><a class=\"tab-link-news\" href=\"https://www.fool.com/investing/2022/03/29/top-electric-vehicle-stocks-to-buy-for-long-haul/?source=eptyholnk0000202&amp;utm_source=yahoo-host&amp;utm_medium=feed&amp;utm_campaign=article\" target=\"_blank\">3 Top Electric Vehicle Stocks to Buy for the Long Haul</a></div><div class=\"news-link-right\"><span style=\"color:#aa6dc0;font-size:9px\"> Motley Fool</span></div></div></td></tr>\n",
              " <tr><td align=\"right\" width=\"130\">10:29AM  </td><td align=\"left\"><div class=\"news-link-container\"><div class=\"news-link-left\"><a class=\"tab-link-news\" href=\"https://finance.yahoo.com/news/general-motors-gm-works-organization-142902590.html\" target=\"_blank\">General Motors (GM) Works on Organization &amp; Leadership Change</a></div><div class=\"news-link-right\"><span style=\"color:#aa6dc0;font-size:9px\"> Zacks</span></div></div></td></tr>\n",
              " <tr><td align=\"right\" width=\"130\">10:25AM  </td><td align=\"left\"><div class=\"news-link-container\"><div class=\"news-link-left\"><a class=\"tab-link-news\" href=\"https://finance.yahoo.com/news/tesla-amazon-stock-splits-trigger-101308244.html\" target=\"_blank\">Tesla, Amazon Stock Splits Trigger Retail Stampede</a></div><div class=\"news-link-right\"><span style=\"color:#aa6dc0;font-size:9px\"> Bloomberg</span></div></div></td></tr>\n",
              " <tr><td align=\"right\" width=\"130\">10:12AM  </td><td align=\"left\"><div class=\"news-link-container\"><div class=\"news-link-left\"><a class=\"tab-link-news\" href=\"https://finance.yahoo.com/news/elon-musk-invokes-rapper-eminem-141252568.html\" target=\"_blank\">Elon Musk invokes rapper Eminem in opposing SEC decree</a></div><div class=\"news-link-right\"><span style=\"color:#aa6dc0;font-size:9px\"> Reuters</span></div></div></td></tr>\n",
              " <tr><td align=\"right\" width=\"130\">10:03AM  </td><td align=\"left\"><div class=\"news-link-container\"><div class=\"news-link-left\"><a class=\"tab-link-news\" href=\"https://finance.yahoo.com/video/market-check-stocks-charge-higher-140352763.html\" target=\"_blank\">Market check: Stocks charge higher at open</a></div><div class=\"news-link-right\"><span style=\"color:#aa6dc0;font-size:9px\"> Yahoo Finance Video</span></div></div></td></tr>\n",
              " <tr><td align=\"right\" width=\"130\">09:57AM  </td><td align=\"left\"><div class=\"news-link-container\"><div class=\"news-link-left\"><a class=\"tab-link-news\" href=\"https://www.investors.com/market-trend/stock-market-today/dow-jones-gains-russia-ukraine-cease-fire-talks-on-deck-tesla-stock-surges/?src=A00220\" target=\"_blank\">Dow Jones Opens Higher As Russia, Ukraine Hold Cease-Fire Talks; Apple, Tesla Gain</a></div><div class=\"news-link-right\"><span style=\"color:#aa6dc0;font-size:9px\"> Investor's Business Daily</span></div></div></td></tr>\n",
              " <tr><td align=\"right\" width=\"130\">09:45AM  </td><td align=\"left\"><div class=\"news-link-container\"><div class=\"news-link-left\"><a class=\"tab-link-news\" href=\"https://finance.yahoo.com/news/elon-musk-claims-sec-misconduct-134550252.html\" target=\"_blank\">Elon Musk Claims SEC Misconduct as Tesla CEO Seeks End to Limits on Tweets</a></div><div class=\"news-link-right\"><span style=\"color:#aa6dc0;font-size:9px\"> Bloomberg</span></div></div></td></tr>\n",
              " <tr><td align=\"right\" width=\"130\">09:16AM  </td><td align=\"left\"><div class=\"news-link-container\"><div class=\"news-link-left\"><a class=\"tab-link-news\" href=\"https://www.thestreet.com/investing/tesla-gets-a-big-win-that-may-cost-legacy-carmakers-millions?puc=yahoo&amp;cm_ven=YAHOO\" target=\"_blank\">Tesla Gets a Big Win That May Cost Legacy Carmakers Millions</a></div><div class=\"news-link-right\"><span style=\"color:#aa6dc0;font-size:9px\"> TheStreet.com</span></div></div></td></tr>\n",
              " <tr><td align=\"right\" width=\"130\">09:13AM  </td><td align=\"left\"><div class=\"news-link-container\"><div class=\"news-link-left\"><a class=\"tab-link-news\" href=\"https://finance.yahoo.com/news/2-auto-manufacturers-scramble-shanghai-131327248.html\" target=\"_blank\">UPDATE 2-Auto manufacturers scramble as Shanghai locks down</a></div><div class=\"news-link-right\"><span style=\"color:#aa6dc0;font-size:9px\"> Reuters</span></div></div></td></tr>\n",
              " <tr><td align=\"right\" width=\"130\">09:03AM  </td><td align=\"left\"><div class=\"news-link-container\"><div class=\"news-link-left\"><a class=\"tab-link-news\" href=\"https://finance.yahoo.com/news/exclusive-tesla-supplier-aptiv-stops-130352272.html\" target=\"_blank\">Exclusive-Tesla supplier Aptiv stops some production in Shanghai over COVID issues - sources</a></div><div class=\"news-link-right\"><span style=\"color:#aa6dc0;font-size:9px\"> Reuters</span></div></div></td></tr>\n",
              " <tr><td align=\"right\" width=\"130\">09:01AM  </td><td align=\"left\"><div class=\"news-link-container\"><div class=\"news-link-left\"><a class=\"tab-link-news\" href=\"https://www.investors.com/market-trend/stock-market-today/dow-jones-futures-russia-ukraine-cease-fire-talks-on-deck-tesla-stock-surges-near-buy-point/?src=A00220\" target=\"_blank\">Dow Jones Futures Rally As Russia, Ukraine Hold Cease-Fire Talks; Apple, Tesla Eye Buy Points</a></div><div class=\"news-link-right\"><span style=\"color:#aa6dc0;font-size:9px\"> Investor's Business Daily</span></div></div></td></tr>\n",
              " <tr><td align=\"right\" width=\"130\">07:38AM  </td><td align=\"left\"><div class=\"news-link-container\"><div class=\"news-link-left\"><a class=\"tab-link-news\" href=\"https://finance.yahoo.com/news/us-stocks-futures-rise-russia-113846024.html\" target=\"_blank\">US STOCKS-Futures rise as Russia, Ukraine hold peace talks</a></div><div class=\"news-link-right\"><span style=\"color:#aa6dc0;font-size:9px\"> Reuters</span></div></div></td></tr>\n",
              " <tr><td align=\"right\" width=\"130\">07:29AM  </td><td align=\"left\"><div class=\"news-link-container\"><div class=\"news-link-left\"><a class=\"tab-link-news\" href=\"https://www.marketwatch.com/story/tesla-stock-pops-after-plans-to-enable-another-stock-split-11648468196?siteid=yhoof2\" target=\"_blank\">Tesla stock surges after plans to enable stock split were disclosed</a></div><div class=\"news-link-right\"><span style=\"color:#aa6dc0;font-size:9px\"> MarketWatch</span></div></div></td></tr>\n",
              " <tr><td align=\"right\" width=\"130\">07:07AM  </td><td align=\"left\"><div class=\"news-link-container\"><div class=\"news-link-left\"><a class=\"tab-link-news\" href=\"https://www.fool.com/investing/2022/03/29/7-things-every-nio-investor-must-know/?source=eptyholnk0000202&amp;utm_source=yahoo-host&amp;utm_medium=feed&amp;utm_campaign=article\" target=\"_blank\">7 Things Every Nio Investor Must Know</a></div><div class=\"news-link-right\"><span style=\"color:#aa6dc0;font-size:9px\"> Motley Fool</span></div></div></td></tr>\n",
              " <tr><td align=\"right\" width=\"130\">06:45AM  </td><td align=\"left\"><div class=\"news-link-container\"><div class=\"news-link-left\"><a class=\"tab-link-news\" href=\"https://finance.yahoo.com/news/elon-musk-changes-narrative-tesla-104502351.html\" target=\"_blank\">Elon Musk Changes the Narrative to Teslas Advantage Yet Again</a></div><div class=\"news-link-right\"><span style=\"color:#aa6dc0;font-size:9px\"> Bloomberg</span></div></div></td></tr>\n",
              " <tr><td align=\"right\" width=\"130\">06:25AM  </td><td align=\"left\"><div class=\"news-link-container\"><div class=\"news-link-left\"><a class=\"tab-link-news\" href=\"https://www.barrons.com/articles/things-to-know-today-51648543123?siteid=yhoof2\" target=\"_blank\">Meme Stocks Are Back. Is It the Last Dance?</a></div><div class=\"news-link-right\"><span style=\"color:#aa6dc0;font-size:9px\"> Barrons.com</span></div></div></td></tr>\n",
              " <tr><td align=\"right\" width=\"130\">01:00AM  </td><td align=\"left\"><div class=\"news-link-container\"><div class=\"news-link-left\"><a class=\"tab-link-news\" href=\"https://finance.yahoo.com/news/rpt-graphic-tesla-adds-wave-050000399.html\" target=\"_blank\">RPT-GRAPHIC-Tesla adds to wave of megacap stock splits</a></div><div class=\"news-link-right\"><span style=\"color:#aa6dc0;font-size:9px\"> Reuters</span></div></div></td></tr>\n",
              " <tr><td align=\"right\" style=\"white-space:nowrap\" width=\"130\">Mar-28-22 06:10PM  </td><td align=\"left\"><div class=\"news-link-container\"><div class=\"news-link-left\"><a class=\"tab-link-news\" href=\"https://www.fool.com/investing/2022/03/28/will-tesla-finally-put-an-auto-stock-back-in-the-d/?source=eptyholnk0000202&amp;utm_source=yahoo-host&amp;utm_medium=feed&amp;utm_campaign=article\" target=\"_blank\">Will Tesla Finally Put an Auto Stock Back in the Dow?</a></div><div class=\"news-link-right\"><span style=\"color:#aa6dc0;font-size:9px\"> Motley Fool</span> <span class=\"body-table-news-gain\">+8.03%</span></div></div></td></tr>\n",
              " <tr><td align=\"right\" width=\"130\">06:08PM  </td><td align=\"left\"><div class=\"news-link-container\"><div class=\"news-link-left\"><a class=\"tab-link-news\" href=\"https://www.barrons.com/articles/tesla-alphabet-amazon-stock-splits-dow-jones-industrial-average-51648498693?siteid=yhoof2\" target=\"_blank\">Tesla, Alphabet, and Amazon Are Planning Stock Splits. Will That Help Them Join the Dow?</a></div><div class=\"news-link-right\"><span style=\"color:#aa6dc0;font-size:9px\"> Barrons.com</span></div></div></td></tr>\n",
              " <tr><td align=\"right\" width=\"130\">06:00PM  </td><td align=\"left\"><div class=\"news-link-container\"><div class=\"news-link-left\"><a class=\"tab-link-news\" href=\"https://finance.yahoo.com/news/tesla-tsla-helps-nasdaq-move-220010093.html\" target=\"_blank\">Tesla (TSLA) Helps Nasdaq Move Higher; FDX Gets New CEO</a></div><div class=\"news-link-right\"><span style=\"color:#aa6dc0;font-size:9px\"> Zacks</span></div></div></td></tr>\n",
              " <tr><td align=\"right\" width=\"130\">05:44PM  </td><td align=\"left\"><div class=\"news-link-container\"><div class=\"news-link-left\"><a class=\"tab-link-news\" href=\"https://www.wsj.com/articles/tesla-to-request-shareholder-approval-for-stock-split-11648464264?mod=itp_wsj\" target=\"_blank\">Tesla to Request Shareholder Approval for Stock Split</a></div><div class=\"news-link-right\"><span style=\"color:#aa6dc0;font-size:9px\"> The Wall Street Journal</span></div></div></td></tr>\n",
              " <tr><td align=\"right\" width=\"130\">04:53PM  </td><td align=\"left\"><div class=\"news-link-container\"><div class=\"news-link-left\"><a class=\"tab-link-news\" href=\"https://finance.yahoo.com/video/tesla-shares-end-day-8-205307612.html\" target=\"_blank\">Tesla shares end the day up 8% amid news of stock split, Elon Musk social media platform</a></div><div class=\"news-link-right\"><span style=\"color:#aa6dc0;font-size:9px\"> Yahoo Finance Video</span></div></div></td></tr>\n",
              " <tr><td align=\"right\" width=\"130\">04:43PM  </td><td align=\"left\"><div class=\"news-link-container\"><div class=\"news-link-left\"><a class=\"tab-link-news\" href=\"https://www.investors.com/market-trend/stock-market-today/dow-jones-erases-early-losses-to-close-higher-nasdaq-rallies-while-apple-tesla-move-toward-buy-points/?src=A00220\" target=\"_blank\">Dow Jones Erases Early Losses To Close Higher; Nasdaq Rallies While Apple, Tesla Move Toward Buy Points</a></div><div class=\"news-link-right\"><span style=\"color:#aa6dc0;font-size:9px\"> Investor's Business Daily</span></div></div></td></tr>\n",
              " <tr><td align=\"right\" width=\"130\">04:32PM  </td><td align=\"left\"><div class=\"news-link-container\"><div class=\"news-link-left\"><a class=\"tab-link-news\" href=\"https://www.barrons.com/articles/-should-the-dow-take-tesla-google-or-amazon-51648498693?siteid=yhoof2\" target=\"_blank\">Which Stock Belongs in the Dow? Tesla, Alphabet,  Amazon?</a></div><div class=\"news-link-right\"><span style=\"color:#aa6dc0;font-size:9px\"> Barrons.com</span></div></div></td></tr>\n",
              " <tr><td align=\"right\" width=\"130\">04:26PM  </td><td align=\"left\"><div class=\"news-link-container\"><div class=\"news-link-left\"><a class=\"tab-link-news\" href=\"https://www.investors.com/news/3-top-sp-500-stock-market-gainers-today-tesla-soars/?src=A00220\" target=\"_blank\">3 Top S&amp;P 500 Stock Market Gainers Today: Tesla Soars</a></div><div class=\"news-link-right\"><span style=\"color:#aa6dc0;font-size:9px\"> Investor's Business Daily</span></div></div></td></tr>\n",
              " <tr><td align=\"right\" width=\"130\">04:19PM  </td><td align=\"left\"><div class=\"news-link-container\"><div class=\"news-link-left\"><a class=\"tab-link-news\" href=\"https://finance.yahoo.com/news/us-stocks-p-500-climbs-201955105.html\" target=\"_blank\">US STOCKS-S&amp;P 500 climbs for third straight day as Tesla leads</a></div><div class=\"news-link-right\"><span style=\"color:#aa6dc0;font-size:9px\"> Reuters</span></div></div></td></tr>\n",
              " <tr><td align=\"right\" width=\"130\">04:17PM  </td><td align=\"left\"><div class=\"news-link-container\"><div class=\"news-link-left\"><a class=\"tab-link-news\" href=\"https://finance.yahoo.com/video/tesla-second-stock-split-two-201742897.html\" target=\"_blank\">Teslas second stock split in two years is a high-class problem of a four-digit stock: analyst</a></div><div class=\"news-link-right\"><span style=\"color:#aa6dc0;font-size:9px\"> Yahoo Finance Video</span></div></div></td></tr>\n",
              " <tr><td align=\"right\" width=\"130\">04:15PM  </td><td align=\"left\"><div class=\"news-link-container\"><div class=\"news-link-left\"><a class=\"tab-link-news\" href=\"https://finance.yahoo.com/news/tesla-looks-add-85-billion-150958545.html\" target=\"_blank\">Tesla Adds $84 Billion to Valuation on Stock-Split Signal</a></div><div class=\"news-link-right\"><span style=\"color:#aa6dc0;font-size:9px\"> Bloomberg</span></div></div></td></tr>\n",
              " <tr><td align=\"right\" width=\"130\">04:12PM  </td><td align=\"left\"><div class=\"news-link-container\"><div class=\"news-link-left\"><a class=\"tab-link-news\" href=\"https://finance.yahoo.com/video/stocks-end-day-green-led-201203200.html\" target=\"_blank\">Stocks end the day in the green, led by mega cap stocks</a></div><div class=\"news-link-right\"><span style=\"color:#aa6dc0;font-size:9px\"> Yahoo Finance Video</span></div></div></td></tr>\n",
              " <tr><td align=\"right\" width=\"130\">04:00PM  </td><td align=\"left\"><div class=\"news-link-container\"><div class=\"news-link-left\"><a class=\"tab-link-news\" href=\"https://finance.yahoo.com/news/us-stocks-p-500-climbs-200030425.html\" target=\"_blank\">US STOCKS-S&amp;P 500 climbs for third straight day as Tesla leads</a></div><div class=\"news-link-right\"><span style=\"color:#aa6dc0;font-size:9px\"> Reuters</span></div></div></td></tr>\n",
              " <tr><td align=\"right\" width=\"130\">03:54PM  </td><td align=\"left\"><div class=\"news-link-container\"><div class=\"news-link-left\"><a class=\"tab-link-news\" href=\"https://finance.yahoo.com/news/why-10-stocks-trending-monday-195449093.html\" target=\"_blank\">Why These 10 Stocks Are Trending on Monday</a></div><div class=\"news-link-right\"><span style=\"color:#aa6dc0;font-size:9px\"> Insider Monkey</span></div></div></td></tr>\n",
              " <tr><td align=\"right\" width=\"130\">03:54PM  </td><td align=\"left\"><div class=\"news-link-container\"><div class=\"news-link-left\"><a class=\"tab-link-news\" href=\"https://www.investors.com/news/tesla-stock-spikes-as-it-plans-stock-split-china-plant-shuts-down-due-to-covid/?src=A00220\" target=\"_blank\">Tesla Stock Spikes As It Plans Stock Split; China Plant Shuts Down Due To Covid</a></div><div class=\"news-link-right\"><span style=\"color:#aa6dc0;font-size:9px\"> Investor's Business Daily</span></div></div></td></tr>\n",
              " <tr><td align=\"right\" width=\"130\">03:52PM  </td><td align=\"left\"><div class=\"news-link-container\"><div class=\"news-link-left\"><a class=\"tab-link-news\" href=\"https://www.bizjournals.com/austin/news/2022/03/28/tesla-shares-soar-after-stock-split-news.html?ana=yahoo\" target=\"_blank\">Tesla snaps necks on Wall Street</a></div><div class=\"news-link-right\"><span style=\"color:#aa6dc0;font-size:9px\"> American City Business Journals</span></div></div></td></tr>\n",
              " <tr><td align=\"right\" width=\"130\">03:51PM  </td><td align=\"left\"><div class=\"news-link-container\"><div class=\"news-link-left\"><a class=\"tab-link-news\" href=\"https://www.thestreet.com/investing/tesla-suffers-major-blow-as-musk-attempts-something-new?puc=yahoo&amp;cm_ven=YAHOO\" target=\"_blank\">Tesla Suffers Major Blow as Musk Attempts Something New</a></div><div class=\"news-link-right\"><span style=\"color:#aa6dc0;font-size:9px\"> TheStreet.com</span></div></div></td></tr>\n",
              " <tr><td align=\"right\" width=\"130\">03:36PM  </td><td align=\"left\"><div class=\"news-link-container\"><div class=\"news-link-left\"><a class=\"tab-link-news\" href=\"https://finance.yahoo.com/news/tesla-adds-wave-megacap-stock-193644375.html\" target=\"_blank\">Tesla adds to wave of megacap stock splits</a></div><div class=\"news-link-right\"><span style=\"color:#aa6dc0;font-size:9px\"> Reuters</span></div></div></td></tr>\n",
              " <tr><td align=\"right\" width=\"130\">03:20PM  </td><td align=\"left\"><div class=\"news-link-container\"><div class=\"news-link-left\"><a class=\"tab-link-news\" href=\"https://www.investors.com/market-trend/stock-market-today/dow-jones-falls-as-biden-touts-this-tax-hike-tesla-soars-despite-covid-shutdown-amc-stock-explodes/?src=A00220\" target=\"_blank\">Dow Jones Falls As Biden Touts This Tax Hike; Tesla Soars Despite Covid Shutdown; AMC Stock Explodes</a></div><div class=\"news-link-right\"><span style=\"color:#aa6dc0;font-size:9px\"> Investor's Business Daily</span></div></div></td></tr>\n",
              " <tr><td align=\"right\" width=\"130\">03:20PM  </td><td align=\"left\"><div class=\"news-link-container\"><div class=\"news-link-left\"><a class=\"tab-link-news\" href=\"https://finance.yahoo.com/news/graphic-tesla-adds-wave-megacap-192001994.html\" target=\"_blank\">GRAPHIC-Tesla adds to wave of megacap stock splits</a></div><div class=\"news-link-right\"><span style=\"color:#aa6dc0;font-size:9px\"> Reuters</span></div></div></td></tr>\n",
              " </table>}"
            ]
          },
          "metadata": {},
          "execution_count": 3
        }
      ]
    },
    {
      "cell_type": "code",
      "source": [
        "parsed_data = []\n",
        "\n",
        "for ticker, news_table in news_tables.items():\n",
        "\n",
        "    for row in news_table.findAll('tr'):\n",
        "\n",
        "        title = row.a.text\n",
        "        date_data = row.td.text.split(' ')\n",
        "\n",
        "        if len(date_data) == 1:\n",
        "            time = date_data[0]\n",
        "        else:\n",
        "            date = date_data[0]\n",
        "            time = date_data[1]\n",
        "\n",
        "        parsed_data.append([ticker, date, time, title])"
      ],
      "metadata": {
        "id": "_L_8W3BnqwHi"
      },
      "execution_count": null,
      "outputs": []
    },
    {
      "cell_type": "code",
      "source": [
        "parsed_data[0]"
      ],
      "metadata": {
        "colab": {
          "base_uri": "https://localhost:8080/"
        },
        "id": "X7qqyQsdrbMz",
        "outputId": "e911c9ce-7ad0-4448-bd87-d1a42f7b2b65"
      },
      "execution_count": null,
      "outputs": [
        {
          "output_type": "execute_result",
          "data": {
            "text/plain": [
              "['TSLA',\n",
              " 'Mar-30-22',\n",
              " '10:02PM\\xa0\\xa0',\n",
              " 'Dow Jones Futures Rise, Crude Oil Tumbles As Biden Mulls Huge Strategic Reserves Release']"
            ]
          },
          "metadata": {},
          "execution_count": 5
        }
      ]
    },
    {
      "cell_type": "code",
      "source": [
        "import nltk\n",
        "nltk.download('vader_lexicon')\n",
        "  "
      ],
      "metadata": {
        "colab": {
          "base_uri": "https://localhost:8080/"
        },
        "id": "2VVDb2k0rKDP",
        "outputId": "825b29fe-eb4d-44d7-ba1c-aa7850105030"
      },
      "execution_count": null,
      "outputs": [
        {
          "output_type": "stream",
          "name": "stdout",
          "text": [
            "[nltk_data] Downloading package vader_lexicon to /root/nltk_data...\n"
          ]
        },
        {
          "output_type": "execute_result",
          "data": {
            "text/plain": [
              "True"
            ]
          },
          "metadata": {},
          "execution_count": 6
        }
      ]
    },
    {
      "cell_type": "code",
      "source": [
        "df = pd.DataFrame(parsed_data, columns=['ticker', 'date', 'time', 'title'])\n",
        "\n",
        "vader = SentimentIntensityAnalyzer()\n",
        "\n"
      ],
      "metadata": {
        "id": "g4LXAQfhq05R"
      },
      "execution_count": null,
      "outputs": []
    },
    {
      "cell_type": "code",
      "source": [
        "print(df)"
      ],
      "metadata": {
        "colab": {
          "base_uri": "https://localhost:8080/"
        },
        "id": "Ae6iIvZmrN1w",
        "outputId": "12e79a4b-905a-493b-e9fd-8af446f85d3d"
      },
      "execution_count": null,
      "outputs": [
        {
          "output_type": "stream",
          "name": "stdout",
          "text": [
            "   ticker       date       time  \\\n",
            "0    TSLA  Mar-30-22  10:02PM     \n",
            "1    TSLA  Mar-30-22  09:06PM     \n",
            "2    TSLA  Mar-30-22  07:46PM     \n",
            "3    TSLA  Mar-30-22  05:31PM     \n",
            "4    TSLA  Mar-30-22  05:24PM     \n",
            "..    ...        ...        ...   \n",
            "95   TSLA  Mar-28-22  03:52PM     \n",
            "96   TSLA  Mar-28-22  03:51PM     \n",
            "97   TSLA  Mar-28-22  03:36PM     \n",
            "98   TSLA  Mar-28-22  03:20PM     \n",
            "99   TSLA  Mar-28-22  03:20PM     \n",
            "\n",
            "                                                title  \n",
            "0   Dow Jones Futures Rise, Crude Oil Tumbles As B...  \n",
            "1   Dow Jones Futures: Market Rally Gets What It N...  \n",
            "2   EV Checkpoint: Your GM Electric Hummer Pickup ...  \n",
            "3   Nio Stock Rallies To Key Level After Ark Inves...  \n",
            "4   Millennial And Gen Z Stock Picks From Tesla To...  \n",
            "..                                                ...  \n",
            "95                   Tesla snaps necks on Wall Street  \n",
            "96  Tesla Suffers Major Blow as Musk Attempts Some...  \n",
            "97         Tesla adds to wave of megacap stock splits  \n",
            "98  Dow Jones Falls As Biden Touts This Tax Hike; ...  \n",
            "99  GRAPHIC-Tesla adds to wave of megacap stock sp...  \n",
            "\n",
            "[100 rows x 4 columns]\n"
          ]
        }
      ]
    },
    {
      "cell_type": "code",
      "source": [
        "f = lambda title: vader.polarity_scores(title)['compound']\n",
        "df['compound'] = df['title'].apply(f)\n",
        "df['date'] = pd.to_datetime(df.date).dt.date"
      ],
      "metadata": {
        "id": "GvXB4fVOfyG4"
      },
      "execution_count": null,
      "outputs": []
    },
    {
      "cell_type": "code",
      "source": [
        "print(df)"
      ],
      "metadata": {
        "colab": {
          "base_uri": "https://localhost:8080/"
        },
        "id": "QLy0Qs7WfzgE",
        "outputId": "335925f1-9b30-4867-8da1-4d9ff8f24161"
      },
      "execution_count": null,
      "outputs": [
        {
          "output_type": "stream",
          "name": "stdout",
          "text": [
            "   ticker        date       time  \\\n",
            "0    TSLA  2022-03-30  10:02PM     \n",
            "1    TSLA  2022-03-30  09:06PM     \n",
            "2    TSLA  2022-03-30  07:46PM     \n",
            "3    TSLA  2022-03-30  05:31PM     \n",
            "4    TSLA  2022-03-30  05:24PM     \n",
            "..    ...         ...        ...   \n",
            "95   TSLA  2022-03-28  03:52PM     \n",
            "96   TSLA  2022-03-28  03:51PM     \n",
            "97   TSLA  2022-03-28  03:36PM     \n",
            "98   TSLA  2022-03-28  03:20PM     \n",
            "99   TSLA  2022-03-28  03:20PM     \n",
            "\n",
            "                                                title  compound  \n",
            "0   Dow Jones Futures Rise, Crude Oil Tumbles As B...   -0.3400  \n",
            "1   Dow Jones Futures: Market Rally Gets What It N...   -0.0572  \n",
            "2   EV Checkpoint: Your GM Electric Hummer Pickup ...    0.0000  \n",
            "3   Nio Stock Rallies To Key Level After Ark Inves...    0.0000  \n",
            "4   Millennial And Gen Z Stock Picks From Tesla To...    0.0000  \n",
            "..                                                ...       ...  \n",
            "95                   Tesla snaps necks on Wall Street    0.0000  \n",
            "96  Tesla Suffers Major Blow as Musk Attempts Some...   -0.4767  \n",
            "97         Tesla adds to wave of megacap stock splits    0.0000  \n",
            "98  Dow Jones Falls As Biden Touts This Tax Hike; ...   -0.0258  \n",
            "99  GRAPHIC-Tesla adds to wave of megacap stock sp...    0.0000  \n",
            "\n",
            "[100 rows x 5 columns]\n"
          ]
        }
      ]
    },
    {
      "cell_type": "code",
      "source": [
        "plt.figure(figsize=(15,4))\n",
        "mean_df = df.groupby(['ticker', 'date']).mean().unstack()\n",
        "mean_df = mean_df.xs('compound', axis=\"columns\")\n",
        "mean_df.plot(kind='bar')\n",
        "plt.show()"
      ],
      "metadata": {
        "colab": {
          "base_uri": "https://localhost:8080/",
          "height": 311
        },
        "id": "q4vwlqmSq1v2",
        "outputId": "5940a9cb-e3a5-43b9-8e2e-8d78c0f8e205"
      },
      "execution_count": null,
      "outputs": [
        {
          "output_type": "display_data",
          "data": {
            "text/plain": [
              "<Figure size 1080x288 with 0 Axes>"
            ]
          },
          "metadata": {}
        },
        {
          "output_type": "display_data",
          "data": {
            "text/plain": [
              "<Figure size 432x288 with 1 Axes>"
            ],
            "image/png": "[encoded data removed]"
          },
          "metadata": {
            "needs_background": "light"
          }
        }
      ]
    },
    {
      "cell_type": "code",
      "source": [
        ""
      ],
      "metadata": {
        "id": "ZPKQXSe7iofh"
      },
      "execution_count": null,
      "outputs": []
    },
    {
      "cell_type": "code",
      "source": [
        "pip install sweetviz"
      ],
      "metadata": {
        "colab": {
          "base_uri": "https://localhost:8080/"
        },
        "id": "x90arbPte5y7",
        "outputId": "6fff844d-5ec5-46e5-c901-a72b88cdd3e8"
      },
      "execution_count": null,
      "outputs": [
        {
          "output_type": "stream",
          "name": "stdout",
          "text": [
            "Collecting sweetviz\n",
            "  Downloading sweetviz-2.1.3-py3-none-any.whl (15.1 MB)\n",
            "\u001b[K     |████████████████████████████████| 15.1 MB 4.1 MB/s \n",
            "\u001b[?25hRequirement already satisfied: importlib-resources>=1.2.0 in /usr/local/lib/python3.7/dist-packages (from sweetviz) (5.4.0)\n",
            "Requirement already satisfied: tqdm>=4.43.0 in /usr/local/lib/python3.7/dist-packages (from sweetviz) (4.63.0)\n",
            "Requirement already satisfied: pandas!=1.0.0,!=1.0.1,!=1.0.2,>=0.25.3 in /usr/local/lib/python3.7/dist-packages (from sweetviz) (1.3.5)\n",
            "Requirement already satisfied: numpy>=1.16.0 in /usr/local/lib/python3.7/dist-packages (from sweetviz) (1.21.5)\n",
            "Requirement already satisfied: scipy>=1.3.2 in /usr/local/lib/python3.7/dist-packages (from sweetviz) (1.4.1)\n",
            "Requirement already satisfied: matplotlib>=3.1.3 in /usr/local/lib/python3.7/dist-packages (from sweetviz) (3.2.2)\n",
            "Requirement already satisfied: jinja2>=2.11.1 in /usr/local/lib/python3.7/dist-packages (from sweetviz) (2.11.3)\n",
            "Requirement already satisfied: zipp>=3.1.0 in /usr/local/lib/python3.7/dist-packages (from importlib-resources>=1.2.0->sweetviz) (3.7.0)\n",
            "Requirement already satisfied: MarkupSafe>=0.23 in /usr/local/lib/python3.7/dist-packages (from jinja2>=2.11.1->sweetviz) (2.0.1)\n",
            "Requirement already satisfied: pyparsing!=2.0.4,!=2.1.2,!=2.1.6,>=2.0.1 in /usr/local/lib/python3.7/dist-packages (from matplotlib>=3.1.3->sweetviz) (3.0.7)\n",
            "Requirement already satisfied: python-dateutil>=2.1 in /usr/local/lib/python3.7/dist-packages (from matplotlib>=3.1.3->sweetviz) (2.8.2)\n",
            "Requirement already satisfied: kiwisolver>=1.0.1 in /usr/local/lib/python3.7/dist-packages (from matplotlib>=3.1.3->sweetviz) (1.4.0)\n",
            "Requirement already satisfied: cycler>=0.10 in /usr/local/lib/python3.7/dist-packages (from matplotlib>=3.1.3->sweetviz) (0.11.0)\n",
            "Requirement already satisfied: typing-extensions in /usr/local/lib/python3.7/dist-packages (from kiwisolver>=1.0.1->matplotlib>=3.1.3->sweetviz) (3.10.0.2)\n",
            "Requirement already satisfied: pytz>=2017.3 in /usr/local/lib/python3.7/dist-packages (from pandas!=1.0.0,!=1.0.1,!=1.0.2,>=0.25.3->sweetviz) (2018.9)\n",
            "Requirement already satisfied: six>=1.5 in /usr/local/lib/python3.7/dist-packages (from python-dateutil>=2.1->matplotlib>=3.1.3->sweetviz) (1.15.0)\n",
            "Installing collected packages: sweetviz\n",
            "Successfully installed sweetviz-2.1.3\n"
          ]
        }
      ]
    },
    {
      "cell_type": "code",
      "source": [
        "import sweetviz "
      ],
      "metadata": {
        "id": "EtgwAnO5hHKU"
      },
      "execution_count": null,
      "outputs": []
    },
    {
      "cell_type": "code",
      "source": [
        "my_report = sweetviz.analyze([df, \"EDA\"])"
      ],
      "metadata": {
        "colab": {
          "base_uri": "https://localhost:8080/",
          "height": 49,
          "referenced_widgets": [
            "2becaaeef02e4adcb7609856d1d7d93a",
            "16e3ccec61b74df3a517c10f99633512",
            "77b1c54bd320425c886e54828c7ade36",
            "e057b76fc334439fb454101bddad17f3",
            "343e3f6d6dfc42ee8d03cc8787ea0aeb",
            "d485e4371e68429bbcf9c5b8f6ad5f9e",
            "be64638db7414d6a831d0f2b90014608",
            "bda479f1eb2242e489159f096f6772d5",
            "bf3e11d9baca418f9cda9634f5ca83c9",
            "fdc372fab8f34422980a9ec682d95773",
            "3d1813369ed44c60a34100d620081a29"
          ]
        },
        "id": "YSqIrzKRe48Y",
        "outputId": "34b61ff8-8cde-4369-b02e-3301ee401267"
      },
      "execution_count": null,
      "outputs": [
        {
          "output_type": "display_data",
          "data": {
            "text/plain": [
              "                                             |          | [  0%]   00:00 -> (? left)"
            ],
            "application/vnd.jupyter.widget-view+json": {
              "version_major": 2,
              "version_minor": 0,
              "model_id": "2becaaeef02e4adcb7609856d1d7d93a"
            }
          },
          "metadata": {}
        }
      ]
    },
    {
      "cell_type": "code",
      "source": [
        "my_report.show_html('Report.html')"
      ],
      "metadata": {
        "colab": {
          "base_uri": "https://localhost:8080/"
        },
        "id": "kdFPXxVQhZgH",
        "outputId": "0dddfc07-d900-4164-829b-088399080e00"
      },
      "execution_count": null,
      "outputs": [
        {
          "output_type": "stream",
          "name": "stdout",
          "text": [
            "Report Report.html was generated! NOTEBOOK/COLAB USERS: the web browser MAY not pop up, regardless, the report IS saved in your notebook/colab files.\n"
          ]
        }
      ]
    },
    {
      "cell_type": "code",
      "source": [
        "df"
      ],
      "metadata": {
        "colab": {
          "base_uri": "https://localhost:8080/",
          "height": 423
        },
        "id": "_q5H40v83WWO",
        "outputId": "b4e70466-8e5f-4ac5-a1f9-ea5da441a02a"
      },
      "execution_count": null,
      "outputs": [
        {
          "output_type": "execute_result",
          "data": {
            "text/plain": [
              "   ticker        date       time  \\\n",
              "0    AAPL  2022-03-23  09:52PM     \n",
              "1    AAPL  2022-03-23  08:42PM     \n",
              "2    AAPL  2022-03-23  08:00PM     \n",
              "3    AAPL  2022-03-23  07:28PM     \n",
              "4    AAPL  2022-03-23  07:21PM     \n",
              "..    ...         ...        ...   \n",
              "95   AAPL  2022-03-17  11:05AM     \n",
              "96   AAPL  2022-03-17  10:49AM     \n",
              "97   AAPL  2022-03-17  10:46AM     \n",
              "98   AAPL  2022-03-17  10:26AM     \n",
              "99   AAPL  2022-03-17  09:31AM     \n",
              "\n",
              "                                                title  compound  \n",
              "0   Dow Jones Futures: Stock Market Rally Retreats...    0.0000  \n",
              "1             PRESS DIGEST-Financial Times - March 24    0.0000  \n",
              "2   Apple's Small Fintech Acquisition Could Procee...    0.3818  \n",
              "3   Tim Cook Displays His Difference in Russian In...    0.0000  \n",
              "4   Google Tests Letting Apps Like Spotify Offer O...    0.3612  \n",
              "..                                                ...       ...  \n",
              "95  Overlooked and underfunded: How 2-year HBCUs a...   -0.3400  \n",
              "96  Iridium (IRDM) Satcom Adopted by Japan-Based S...    0.0000  \n",
              "97  Market strategist talks stocks, investing amid...    0.0000  \n",
              "98  Adobe (ADBE) Partners BMW Group for Experience...    0.0000  \n",
              "99  Dow Jones Drops After Stock Market Surge; 5 St...    0.0000  \n",
              "\n",
              "[100 rows x 5 columns]"
            ],
            "text/html": [
              "\n",
              "  <div id=\"df-1bdc31ca-b9de-4171-be0f-5f0b5391aee0\">\n",
              "    <div class=\"colab-df-container\">\n",
              "      <div>\n",
              "<style scoped>\n",
              "    .dataframe tbody tr th:only-of-type {\n",
              "        vertical-align: middle;\n",
              "    }\n",
              "\n",
              "    .dataframe tbody tr th {\n",
              "        vertical-align: top;\n",
              "    }\n",
              "\n",
              "    .dataframe thead th {\n",
              "        text-align: right;\n",
              "    }\n",
              "</style>\n",
              "<table border=\"1\" class=\"dataframe\">\n",
              "  <thead>\n",
              "    <tr style=\"text-align: right;\">\n",
              "      <th></th>\n",
              "      <th>ticker</th>\n",
              "      <th>date</th>\n",
              "      <th>time</th>\n",
              "      <th>title</th>\n",
              "      <th>compound</th>\n",
              "    </tr>\n",
              "  </thead>\n",
              "  <tbody>\n",
              "    <tr>\n",
              "      <th>0</th>\n",
              "      <td>AAPL</td>\n",
              "      <td>2022-03-23</td>\n",
              "      <td>09:52PM</td>\n",
              "      <td>Dow Jones Futures: Stock Market Rally Retreats...</td>\n",
              "      <td>0.0000</td>\n",
              "    </tr>\n",
              "    <tr>\n",
              "      <th>1</th>\n",
              "      <td>AAPL</td>\n",
              "      <td>2022-03-23</td>\n",
              "      <td>08:42PM</td>\n",
              "      <td>PRESS DIGEST-Financial Times - March 24</td>\n",
              "      <td>0.0000</td>\n",
              "    </tr>\n",
              "    <tr>\n",
              "      <th>2</th>\n",
              "      <td>AAPL</td>\n",
              "      <td>2022-03-23</td>\n",
              "      <td>08:00PM</td>\n",
              "      <td>Apple's Small Fintech Acquisition Could Procee...</td>\n",
              "      <td>0.3818</td>\n",
              "    </tr>\n",
              "    <tr>\n",
              "      <th>3</th>\n",
              "      <td>AAPL</td>\n",
              "      <td>2022-03-23</td>\n",
              "      <td>07:28PM</td>\n",
              "      <td>Tim Cook Displays His Difference in Russian In...</td>\n",
              "      <td>0.0000</td>\n",
              "    </tr>\n",
              "    <tr>\n",
              "      <th>4</th>\n",
              "      <td>AAPL</td>\n",
              "      <td>2022-03-23</td>\n",
              "      <td>07:21PM</td>\n",
              "      <td>Google Tests Letting Apps Like Spotify Offer O...</td>\n",
              "      <td>0.3612</td>\n",
              "    </tr>\n",
              "    <tr>\n",
              "      <th>...</th>\n",
              "      <td>...</td>\n",
              "      <td>...</td>\n",
              "      <td>...</td>\n",
              "      <td>...</td>\n",
              "      <td>...</td>\n",
              "    </tr>\n",
              "    <tr>\n",
              "      <th>95</th>\n",
              "      <td>AAPL</td>\n",
              "      <td>2022-03-17</td>\n",
              "      <td>11:05AM</td>\n",
              "      <td>Overlooked and underfunded: How 2-year HBCUs a...</td>\n",
              "      <td>-0.3400</td>\n",
              "    </tr>\n",
              "    <tr>\n",
              "      <th>96</th>\n",
              "      <td>AAPL</td>\n",
              "      <td>2022-03-17</td>\n",
              "      <td>10:49AM</td>\n",
              "      <td>Iridium (IRDM) Satcom Adopted by Japan-Based S...</td>\n",
              "      <td>0.0000</td>\n",
              "    </tr>\n",
              "    <tr>\n",
              "      <th>97</th>\n",
              "      <td>AAPL</td>\n",
              "      <td>2022-03-17</td>\n",
              "      <td>10:46AM</td>\n",
              "      <td>Market strategist talks stocks, investing amid...</td>\n",
              "      <td>0.0000</td>\n",
              "    </tr>\n",
              "    <tr>\n",
              "      <th>98</th>\n",
              "      <td>AAPL</td>\n",
              "      <td>2022-03-17</td>\n",
              "      <td>10:26AM</td>\n",
              "      <td>Adobe (ADBE) Partners BMW Group for Experience...</td>\n",
              "      <td>0.0000</td>\n",
              "    </tr>\n",
              "    <tr>\n",
              "      <th>99</th>\n",
              "      <td>AAPL</td>\n",
              "      <td>2022-03-17</td>\n",
              "      <td>09:31AM</td>\n",
              "      <td>Dow Jones Drops After Stock Market Surge; 5 St...</td>\n",
              "      <td>0.0000</td>\n",
              "    </tr>\n",
              "  </tbody>\n",
              "</table>\n",
              "<p>100 rows × 5 columns</p>\n",
              "</div>\n",
              "      <button class=\"colab-df-convert\" onclick=\"convertToInteractive('df-1bdc31ca-b9de-4171-be0f-5f0b5391aee0')\"\n",
              "              title=\"Convert this dataframe to an interactive table.\"\n",
              "              style=\"display:none;\">\n",
              "        \n",
              "  <svg xmlns=\"http://www.w3.org/2000/svg\" height=\"24px\"viewBox=\"0 0 24 24\"\n",
              "       width=\"24px\">\n",
              "    <path d=\"M0 0h24v24H0V0z\" fill=\"none\"/>\n",
              "    <path d=\"M18.56 5.44l.94 2.06.94-2.06 2.06-.94-2.06-.94-.94-2.06-.94 2.06-2.06.94zm-11 1L8.5 8.5l.94-2.06 2.06-.94-2.06-.94L8.5 2.5l-.94 2.06-2.06.94zm10 10l.94 2.06.94-2.06 2.06-.94-2.06-.94-.94-2.06-.94 2.06-2.06.94z\"/><path d=\"M17.41 7.96l-1.37-1.37c-.4-.4-.92-.59-1.43-.59-.52 0-1.04.2-1.43.59L10.3 9.45l-7.72 7.72c-.78.78-.78 2.05 0 2.83L4 21.41c.39.39.9.59 1.41.59.51 0 1.02-.2 1.41-.59l7.78-7.78 2.81-2.81c.8-.78.8-2.07 0-2.86zM5.41 20L4 18.59l7.72-7.72 1.47 1.35L5.41 20z\"/>\n",
              "  </svg>\n",
              "      </button>\n",
              "      \n",
              "  <style>\n",
              "    .colab-df-container {\n",
              "      display:flex;\n",
              "      flex-wrap:wrap;\n",
              "      gap: 12px;\n",
              "    }\n",
              "\n",
              "    .colab-df-convert {\n",
              "      background-color: #E8F0FE;\n",
              "      border: none;\n",
              "      border-radius: 50%;\n",
              "      cursor: pointer;\n",
              "      display: none;\n",
              "      fill: #1967D2;\n",
              "      height: 32px;\n",
              "      padding: 0 0 0 0;\n",
              "      width: 32px;\n",
              "    }\n",
              "\n",
              "    .colab-df-convert:hover {\n",
              "      background-color: #E2EBFA;\n",
              "      box-shadow: 0px 1px 2px rgba(60, 64, 67, 0.3), 0px 1px 3px 1px rgba(60, 64, 67, 0.15);\n",
              "      fill: #174EA6;\n",
              "    }\n",
              "\n",
              "    [theme=dark] .colab-df-convert {\n",
              "      background-color: #3B4455;\n",
              "      fill: #D2E3FC;\n",
              "    }\n",
              "\n",
              "    [theme=dark] .colab-df-convert:hover {\n",
              "      background-color: #434B5C;\n",
              "      box-shadow: 0px 1px 3px 1px rgba(0, 0, 0, 0.15);\n",
              "      filter: drop-shadow(0px 1px 2px rgba(0, 0, 0, 0.3));\n",
              "      fill: #FFFFFF;\n",
              "    }\n",
              "  </style>\n",
              "\n",
              "      <script>\n",
              "        const buttonEl =\n",
              "          document.querySelector('#df-1bdc31ca-b9de-4171-be0f-5f0b5391aee0 button.colab-df-convert');\n",
              "        buttonEl.style.display =\n",
              "          google.colab.kernel.accessAllowed ? 'block' : 'none';\n",
              "\n",
              "        async function convertToInteractive(key) {\n",
              "          const element = document.querySelector('#df-1bdc31ca-b9de-4171-be0f-5f0b5391aee0');\n",
              "          const dataTable =\n",
              "            await google.colab.kernel.invokeFunction('convertToInteractive',\n",
              "                                                     [key], {});\n",
              "          if (!dataTable) return;\n",
              "\n",
              "          const docLinkHtml = 'Like what you see? Visit the ' +\n",
              "            '<a target=\"_blank\" href=https://colab.research.google.com/notebooks/data_table.ipynb>data table notebook</a>'\n",
              "            + ' to learn more about interactive tables.';\n",
              "          element.innerHTML = '';\n",
              "          dataTable['output_type'] = 'display_data';\n",
              "          await google.colab.output.renderOutput(dataTable, element);\n",
              "          const docLink = document.createElement('div');\n",
              "          docLink.innerHTML = docLinkHtml;\n",
              "          element.appendChild(docLink);\n",
              "        }\n",
              "      </script>\n",
              "    </div>\n",
              "  </div>\n",
              "  "
            ]
          },
          "metadata": {},
          "execution_count": 17
        }
      ]
    },
    {
      "cell_type": "code",
      "source": [
        ""
      ],
      "metadata": {
        "id": "HuETaeYYr6L7"
      },
      "execution_count": null,
      "outputs": []
    },
    {
      "cell_type": "code",
      "source": [
        ""
      ],
      "metadata": {
        "id": "MrTL0Xeto_3K"
      },
      "execution_count": null,
      "outputs": []
    }
  ]
}