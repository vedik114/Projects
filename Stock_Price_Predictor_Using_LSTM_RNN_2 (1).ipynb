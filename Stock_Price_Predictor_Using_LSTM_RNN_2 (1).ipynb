{
 "cells": [
  {
   "cell_type": "code",
   "execution_count": 67,
   "metadata": {},
   "outputs": [],
   "source": [
    "import pandas_datareader.data as web\n",
    "import pandas as pd\n",
    "import numpy as np\n",
    "import datetime as dt"
   ]
  },
  {
   "cell_type": "code",
   "execution_count": 68,
   "metadata": {},
   "outputs": [
    {
     "name": "stdout",
     "output_type": "stream",
     "text": [
      "Enter the code of the stock:FB\n"
     ]
    }
   ],
   "source": [
    "symbol = input(\"Enter the code of the stock:\")"
   ]
  },
  {
   "cell_type": "code",
   "execution_count": 69,
   "metadata": {},
   "outputs": [],
   "source": [
    "df = web.DataReader(symbol , 'yahoo', start='2021-01-02', end='2022-03-23')"
   ]
  },
  {
   "cell_type": "code",
   "execution_count": 70,
   "metadata": {},
   "outputs": [
    {
     "data": {
      "text/html": [
       "<div>\n",
       "<style scoped>\n",
       "    .dataframe tbody tr th:only-of-type {\n",
       "        vertical-align: middle;\n",
       "    }\n",
       "\n",
       "    .dataframe tbody tr th {\n",
       "        vertical-align: top;\n",
       "    }\n",
       "\n",
       "    .dataframe thead th {\n",
       "        text-align: right;\n",
       "    }\n",
       "</style>\n",
       "<table border=\"1\" class=\"dataframe\">\n",
       "  <thead>\n",
       "    <tr style=\"text-align: right;\">\n",
       "      <th></th>\n",
       "      <th>High</th>\n",
       "      <th>Low</th>\n",
       "      <th>Open</th>\n",
       "      <th>Close</th>\n",
       "      <th>Volume</th>\n",
       "      <th>Adj Close</th>\n",
       "    </tr>\n",
       "    <tr>\n",
       "      <th>Date</th>\n",
       "      <th></th>\n",
       "      <th></th>\n",
       "      <th></th>\n",
       "      <th></th>\n",
       "      <th></th>\n",
       "      <th></th>\n",
       "    </tr>\n",
       "  </thead>\n",
       "  <tbody>\n",
       "    <tr>\n",
       "      <th>2021-01-04</th>\n",
       "      <td>275.000000</td>\n",
       "      <td>265.200012</td>\n",
       "      <td>274.779999</td>\n",
       "      <td>268.940002</td>\n",
       "      <td>15106100</td>\n",
       "      <td>268.940002</td>\n",
       "    </tr>\n",
       "    <tr>\n",
       "      <th>2021-01-05</th>\n",
       "      <td>272.399994</td>\n",
       "      <td>268.209991</td>\n",
       "      <td>268.290009</td>\n",
       "      <td>270.970001</td>\n",
       "      <td>9871600</td>\n",
       "      <td>270.970001</td>\n",
       "    </tr>\n",
       "    <tr>\n",
       "      <th>2021-01-06</th>\n",
       "      <td>267.750000</td>\n",
       "      <td>260.010010</td>\n",
       "      <td>262.000000</td>\n",
       "      <td>263.309998</td>\n",
       "      <td>24354100</td>\n",
       "      <td>263.309998</td>\n",
       "    </tr>\n",
       "    <tr>\n",
       "      <th>2021-01-07</th>\n",
       "      <td>271.609985</td>\n",
       "      <td>264.779999</td>\n",
       "      <td>265.899994</td>\n",
       "      <td>268.739990</td>\n",
       "      <td>15789800</td>\n",
       "      <td>268.739990</td>\n",
       "    </tr>\n",
       "    <tr>\n",
       "      <th>2021-01-08</th>\n",
       "      <td>268.950012</td>\n",
       "      <td>263.179993</td>\n",
       "      <td>268.309998</td>\n",
       "      <td>267.570007</td>\n",
       "      <td>18528300</td>\n",
       "      <td>267.570007</td>\n",
       "    </tr>\n",
       "  </tbody>\n",
       "</table>\n",
       "</div>"
      ],
      "text/plain": [
       "                  High         Low        Open       Close    Volume  \\\n",
       "Date                                                                   \n",
       "2021-01-04  275.000000  265.200012  274.779999  268.940002  15106100   \n",
       "2021-01-05  272.399994  268.209991  268.290009  270.970001   9871600   \n",
       "2021-01-06  267.750000  260.010010  262.000000  263.309998  24354100   \n",
       "2021-01-07  271.609985  264.779999  265.899994  268.739990  15789800   \n",
       "2021-01-08  268.950012  263.179993  268.309998  267.570007  18528300   \n",
       "\n",
       "             Adj Close  \n",
       "Date                    \n",
       "2021-01-04  268.940002  \n",
       "2021-01-05  270.970001  \n",
       "2021-01-06  263.309998  \n",
       "2021-01-07  268.739990  \n",
       "2021-01-08  267.570007  "
      ]
     },
     "execution_count": 70,
     "metadata": {},
     "output_type": "execute_result"
    }
   ],
   "source": [
    "df.head()"
   ]
  },
  {
   "cell_type": "code",
   "execution_count": 71,
   "metadata": {},
   "outputs": [],
   "source": [
    "df1 =  df.reset_index()['Open']"
   ]
  },
  {
   "cell_type": "code",
   "execution_count": 72,
   "metadata": {},
   "outputs": [
    {
     "data": {
      "text/plain": [
       "0    274.779999\n",
       "1    268.290009\n",
       "2    262.000000\n",
       "3    265.899994\n",
       "4    268.309998\n",
       "Name: Open, dtype: float64"
      ]
     },
     "execution_count": 72,
     "metadata": {},
     "output_type": "execute_result"
    }
   ],
   "source": [
    "df1.head()"
   ]
  },
  {
   "cell_type": "code",
   "execution_count": 73,
   "metadata": {},
   "outputs": [
    {
     "data": {
      "text/plain": [
       "(308,)"
      ]
     },
     "execution_count": 73,
     "metadata": {},
     "output_type": "execute_result"
    }
   ],
   "source": [
    "df1.shape"
   ]
  },
  {
   "cell_type": "code",
   "execution_count": 74,
   "metadata": {},
   "outputs": [
    {
     "data": {
      "text/plain": [
       "[<matplotlib.lines.Line2D at 0x2432c985850>]"
      ]
     },
     "execution_count": 74,
     "metadata": {},
     "output_type": "execute_result"
    },
    {
     "data": {
      "image/png": "[encoded data removed]",
      "text/plain": [
       "<Figure size 432x288 with 1 Axes>"
      ]
     },
     "metadata": {
      "needs_background": "light"
     },
     "output_type": "display_data"
    }
   ],
   "source": [
    "import matplotlib.pyplot as plt\n",
    "plt.plot(df1)"
   ]
  },
  {
   "cell_type": "code",
   "execution_count": 75,
   "metadata": {},
   "outputs": [
    {
     "data": {
      "text/plain": [
       "<matplotlib.axes._subplots.AxesSubplot at 0x2432dc8b940>"
      ]
     },
     "execution_count": 75,
     "metadata": {},
     "output_type": "execute_result"
    },
    {
     "data": {
      "image/png": "[encoded data removed]",
      "text/plain": [
       "<Figure size 864x288 with 1 Axes>"
      ]
     },
     "metadata": {
      "needs_background": "light"
     },
     "output_type": "display_data"
    }
   ],
   "source": [
    "df['Open'].plot(xlim=['2021-01-02','2022-03-23'],ylim=[0,450],figsize=(12,4),color='c',ls='-')"
   ]
  },
  {
   "cell_type": "markdown",
   "metadata": {},
   "source": [
    "### LSTM are sensitive to the scale of the data. so we apply MinMax scaler "
   ]
  },
  {
   "cell_type": "code",
   "execution_count": 76,
   "metadata": {},
   "outputs": [
    {
     "data": {
      "text/plain": [
       "0      274.779999\n",
       "1      268.290009\n",
       "2      262.000000\n",
       "3      265.899994\n",
       "4      268.309998\n",
       "          ...    \n",
       "303    201.699997\n",
       "304    206.699997\n",
       "305    214.500000\n",
       "306    211.369995\n",
       "307    213.330002\n",
       "Name: Open, Length: 308, dtype: float64"
      ]
     },
     "execution_count": 76,
     "metadata": {},
     "output_type": "execute_result"
    }
   ],
   "source": [
    "df1\n"
   ]
  },
  {
   "cell_type": "code",
   "execution_count": 77,
   "metadata": {},
   "outputs": [],
   "source": [
    "from sklearn.preprocessing import MinMaxScaler\n",
    "scaler = MinMaxScaler(feature_range=(0,1))\n",
    "df1 = scaler.fit_transform(np.array(df1).reshape(-1,1))"
   ]
  },
  {
   "cell_type": "code",
   "execution_count": 78,
   "metadata": {},
   "outputs": [
    {
     "data": {
      "text/plain": [
       "(308, 1)"
      ]
     },
     "execution_count": 78,
     "metadata": {},
     "output_type": "execute_result"
    }
   ],
   "source": [
    "df1.shape"
   ]
  },
  {
   "cell_type": "code",
   "execution_count": 79,
   "metadata": {},
   "outputs": [],
   "source": [
    "##Splitting dataset into train and test\n",
    "training_size = int(len(df1)*0.65)\n",
    "test_size = len(df1) - training_size\n",
    "train_data,test_data = df1[0:training_size,:],df1[training_size:len(df1),:1]"
   ]
  },
  {
   "cell_type": "code",
   "execution_count": 80,
   "metadata": {},
   "outputs": [
    {
     "data": {
      "text/plain": [
       "308"
      ]
     },
     "execution_count": 80,
     "metadata": {},
     "output_type": "execute_result"
    }
   ],
   "source": [
    "len(df1)"
   ]
  },
  {
   "cell_type": "code",
   "execution_count": 81,
   "metadata": {},
   "outputs": [
    {
     "data": {
      "text/plain": [
       "200"
      ]
     },
     "execution_count": 81,
     "metadata": {},
     "output_type": "execute_result"
    }
   ],
   "source": [
    "len(train_data)"
   ]
  },
  {
   "cell_type": "code",
   "execution_count": 82,
   "metadata": {},
   "outputs": [
    {
     "data": {
      "text/plain": [
       "108"
      ]
     },
     "execution_count": 82,
     "metadata": {},
     "output_type": "execute_result"
    }
   ],
   "source": [
    "len(test_data)"
   ]
  },
  {
   "cell_type": "code",
   "execution_count": 83,
   "metadata": {},
   "outputs": [
    {
     "data": {
      "text/plain": [
       "(200, 108)"
      ]
     },
     "execution_count": 83,
     "metadata": {},
     "output_type": "execute_result"
    }
   ],
   "source": [
    "training_size,test_size"
   ]
  },
  {
   "cell_type": "code",
   "execution_count": 84,
   "metadata": {},
   "outputs": [],
   "source": [
    "# convert an array of values into a dataset matrix\n",
    "def create_dataset(dataset, time_step=1):\n",
    "\tdataX, dataY = [], []\n",
    "\tfor i in range(len(dataset)-time_step-1):\n",
    "\t\ta = dataset[i:(i+time_step), 0]   ###i=0, 0,1,2,3-----99   100 \n",
    "\t\tdataX.append(a)\n",
    "\t\tdataY.append(dataset[i + time_step, 0])\n",
    "\treturn numpy.array(dataX), numpy.array(dataY)"
   ]
  },
  {
   "cell_type": "code",
   "execution_count": 85,
   "metadata": {},
   "outputs": [],
   "source": [
    "# reshape into X=t,t+1,t+2,t+3 and Y=t+4\n",
    "import numpy \n",
    "time_step = 7\n",
    "X_train, y_train = create_dataset(train_data, time_step)\n",
    "X_test, ytest = create_dataset(test_data, time_step)"
   ]
  },
  {
   "cell_type": "code",
   "execution_count": 86,
   "metadata": {},
   "outputs": [
    {
     "name": "stdout",
     "output_type": "stream",
     "text": [
      "[[0.45080916 0.41746731 0.38515286 ... 0.41757    0.37734403 0.3575649 ]\n",
      " [0.41746731 0.38515286 0.40518879 ... 0.37734403 0.3575649  0.33146677]\n",
      " [0.38515286 0.40518879 0.41757    ... 0.3575649  0.33146677 0.34097096]\n",
      " ...\n",
      " [0.76290781 0.72720263 0.73316206 ... 0.74225541 0.72232217 0.69868998]\n",
      " [0.72720263 0.73316206 0.77045983 ... 0.72232217 0.69868998 0.71893145]\n",
      " [0.73316206 0.77045983 0.74225541 ... 0.69868998 0.71893145 0.72607239]]\n"
     ]
    }
   ],
   "source": [
    "print(X_train)"
   ]
  },
  {
   "cell_type": "code",
   "execution_count": 87,
   "metadata": {},
   "outputs": [
    {
     "name": "stdout",
     "output_type": "stream",
     "text": [
      "(192, 7)\n",
      "(192,)\n"
     ]
    },
    {
     "data": {
      "text/plain": [
       "(None, None)"
      ]
     },
     "execution_count": 87,
     "metadata": {},
     "output_type": "execute_result"
    }
   ],
   "source": [
    "print(X_train.shape), print(y_train.shape)"
   ]
  },
  {
   "cell_type": "code",
   "execution_count": 88,
   "metadata": {},
   "outputs": [
    {
     "name": "stdout",
     "output_type": "stream",
     "text": [
      "(100, 7)\n",
      "(100,)\n"
     ]
    },
    {
     "data": {
      "text/plain": [
       "(None, None)"
      ]
     },
     "execution_count": 88,
     "metadata": {},
     "output_type": "execute_result"
    }
   ],
   "source": [
    "print(X_test.shape), print(ytest.shape)"
   ]
  },
  {
   "cell_type": "code",
   "execution_count": 89,
   "metadata": {},
   "outputs": [],
   "source": [
    "# reshape input to be [samples, time steps, features] which is required for LSTM\n",
    "X_train =X_train.reshape(X_train.shape[0],X_train.shape[1] , 1)\n",
    "X_test = X_test.reshape(X_test.shape[0],X_test.shape[1] , 1)"
   ]
  },
  {
   "cell_type": "code",
   "execution_count": 90,
   "metadata": {},
   "outputs": [],
   "source": [
    "### Create the Stacked LSTM model\n",
    "from tensorflow.keras.models import Sequential\n",
    "from tensorflow.keras.layers import Dense\n",
    "from tensorflow.keras.layers import LSTM"
   ]
  },
  {
   "cell_type": "code",
   "execution_count": 91,
   "metadata": {},
   "outputs": [],
   "source": [
    "model=Sequential()\n",
    "model.add(LSTM(50,return_sequences=True,input_shape=(7,1)))\n",
    "model.add(LSTM(50,return_sequences=True))\n",
    "model.add(LSTM(50))\n",
    "model.add(Dense(1))\n",
    "model.compile(loss='mean_squared_error',metrics='mse',optimizer='adam')"
   ]
  },
  {
   "cell_type": "code",
   "execution_count": 92,
   "metadata": {},
   "outputs": [
    {
     "name": "stdout",
     "output_type": "stream",
     "text": [
      "Model: \"sequential_1\"\n",
      "_________________________________________________________________\n",
      "Layer (type)                 Output Shape              Param #   \n",
      "=================================================================\n",
      "lstm_3 (LSTM)                (None, 7, 50)             10400     \n",
      "_________________________________________________________________\n",
      "lstm_4 (LSTM)                (None, 7, 50)             20200     \n",
      "_________________________________________________________________\n",
      "lstm_5 (LSTM)                (None, 50)                20200     \n",
      "_________________________________________________________________\n",
      "dense_1 (Dense)              (None, 1)                 51        \n",
      "=================================================================\n",
      "Total params: 50,851\n",
      "Trainable params: 50,851\n",
      "Non-trainable params: 0\n",
      "_________________________________________________________________\n"
     ]
    }
   ],
   "source": [
    "model.summary()"
   ]
  },
  {
   "cell_type": "code",
   "execution_count": 93,
   "metadata": {},
   "outputs": [
    {
     "name": "stdout",
     "output_type": "stream",
     "text": [
      "Epoch 1/100\n",
      "3/3 [==============================] - 4s 552ms/step - loss: 0.4599 - mse: 0.4599 - val_loss: 0.2700 - val_mse: 0.2700\n",
      "Epoch 2/100\n",
      "3/3 [==============================] - 0s 23ms/step - loss: 0.3383 - mse: 0.3383 - val_loss: 0.1742 - val_mse: 0.1742\n",
      "Epoch 3/100\n",
      "3/3 [==============================] - 0s 23ms/step - loss: 0.2017 - mse: 0.2017 - val_loss: 0.0764 - val_mse: 0.0764\n",
      "Epoch 4/100\n",
      "3/3 [==============================] - 0s 24ms/step - loss: 0.0652 - mse: 0.0652 - val_loss: 0.0265 - val_mse: 0.0265\n",
      "Epoch 5/100\n",
      "3/3 [==============================] - 0s 25ms/step - loss: 0.0168 - mse: 0.0168 - val_loss: 0.1032 - val_mse: 0.1032\n",
      "Epoch 6/100\n",
      "3/3 [==============================] - 0s 23ms/step - loss: 0.0628 - mse: 0.0628 - val_loss: 0.0770 - val_mse: 0.0770\n",
      "Epoch 7/100\n",
      "3/3 [==============================] - 0s 22ms/step - loss: 0.0244 - mse: 0.0244 - val_loss: 0.0325 - val_mse: 0.0325\n",
      "Epoch 8/100\n",
      "3/3 [==============================] - 0s 23ms/step - loss: 0.0102 - mse: 0.0102 - val_loss: 0.0280 - val_mse: 0.0280\n",
      "Epoch 9/100\n",
      "3/3 [==============================] - 0s 22ms/step - loss: 0.0208 - mse: 0.0208 - val_loss: 0.0304 - val_mse: 0.0304\n",
      "Epoch 10/100\n",
      "3/3 [==============================] - 0s 22ms/step - loss: 0.0227 - mse: 0.0227 - val_loss: 0.0282 - val_mse: 0.0282\n",
      "Epoch 11/100\n",
      "3/3 [==============================] - 0s 22ms/step - loss: 0.0145 - mse: 0.0145 - val_loss: 0.0282 - val_mse: 0.0282\n",
      "Epoch 12/100\n",
      "3/3 [==============================] - 0s 23ms/step - loss: 0.0079 - mse: 0.0079 - val_loss: 0.0355 - val_mse: 0.0355\n",
      "Epoch 13/100\n",
      "3/3 [==============================] - 0s 27ms/step - loss: 0.0093 - mse: 0.0093 - val_loss: 0.0420 - val_mse: 0.0420\n",
      "Epoch 14/100\n",
      "3/3 [==============================] - 0s 27ms/step - loss: 0.0114 - mse: 0.0114 - val_loss: 0.0389 - val_mse: 0.0389\n",
      "Epoch 15/100\n",
      "3/3 [==============================] - 0s 25ms/step - loss: 0.0088 - mse: 0.0088 - val_loss: 0.0311 - val_mse: 0.0311\n",
      "Epoch 16/100\n",
      "3/3 [==============================] - 0s 28ms/step - loss: 0.0069 - mse: 0.0069 - val_loss: 0.0269 - val_mse: 0.0269\n",
      "Epoch 17/100\n",
      "3/3 [==============================] - 0s 28ms/step - loss: 0.0077 - mse: 0.0077 - val_loss: 0.0255 - val_mse: 0.0255\n",
      "Epoch 18/100\n",
      "3/3 [==============================] - 0s 26ms/step - loss: 0.0078 - mse: 0.0078 - val_loss: 0.0256 - val_mse: 0.0256\n",
      "Epoch 19/100\n",
      "3/3 [==============================] - 0s 26ms/step - loss: 0.0066 - mse: 0.0066 - val_loss: 0.0270 - val_mse: 0.0270\n",
      "Epoch 20/100\n",
      "3/3 [==============================] - 0s 26ms/step - loss: 0.0060 - mse: 0.0060 - val_loss: 0.0287 - val_mse: 0.0287\n",
      "Epoch 21/100\n",
      "3/3 [==============================] - 0s 25ms/step - loss: 0.0062 - mse: 0.0062 - val_loss: 0.0284 - val_mse: 0.0284\n",
      "Epoch 22/100\n",
      "3/3 [==============================] - 0s 26ms/step - loss: 0.0058 - mse: 0.0058 - val_loss: 0.0263 - val_mse: 0.0263\n",
      "Epoch 23/100\n",
      "3/3 [==============================] - 0s 31ms/step - loss: 0.0053 - mse: 0.0053 - val_loss: 0.0238 - val_mse: 0.0238\n",
      "Epoch 24/100\n",
      "3/3 [==============================] - 0s 29ms/step - loss: 0.0052 - mse: 0.0052 - val_loss: 0.0224 - val_mse: 0.0224\n",
      "Epoch 25/100\n",
      "3/3 [==============================] - 0s 25ms/step - loss: 0.0051 - mse: 0.0051 - val_loss: 0.0222 - val_mse: 0.0222\n",
      "Epoch 26/100\n",
      "3/3 [==============================] - 0s 27ms/step - loss: 0.0047 - mse: 0.0047 - val_loss: 0.0224 - val_mse: 0.0224\n",
      "Epoch 27/100\n",
      "3/3 [==============================] - 0s 25ms/step - loss: 0.0045 - mse: 0.0045 - val_loss: 0.0223 - val_mse: 0.0223\n",
      "Epoch 28/100\n",
      "3/3 [==============================] - 0s 26ms/step - loss: 0.0044 - mse: 0.0044 - val_loss: 0.0215 - val_mse: 0.0215\n",
      "Epoch 29/100\n",
      "3/3 [==============================] - 0s 29ms/step - loss: 0.0042 - mse: 0.0042 - val_loss: 0.0205 - val_mse: 0.0205\n",
      "Epoch 30/100\n",
      "3/3 [==============================] - 0s 28ms/step - loss: 0.0040 - mse: 0.0040 - val_loss: 0.0195 - val_mse: 0.0195\n",
      "Epoch 31/100\n",
      "3/3 [==============================] - 0s 27ms/step - loss: 0.0039 - mse: 0.0039 - val_loss: 0.0190 - val_mse: 0.0190\n",
      "Epoch 32/100\n",
      "3/3 [==============================] - 0s 24ms/step - loss: 0.0038 - mse: 0.0038 - val_loss: 0.0185 - val_mse: 0.0185\n",
      "Epoch 33/100\n",
      "3/3 [==============================] - 0s 25ms/step - loss: 0.0036 - mse: 0.0036 - val_loss: 0.0183 - val_mse: 0.0183\n",
      "Epoch 34/100\n",
      "3/3 [==============================] - 0s 30ms/step - loss: 0.0035 - mse: 0.0035 - val_loss: 0.0179 - val_mse: 0.0179\n",
      "Epoch 35/100\n",
      "3/3 [==============================] - 0s 31ms/step - loss: 0.0034 - mse: 0.0034 - val_loss: 0.0174 - val_mse: 0.0174\n",
      "Epoch 36/100\n",
      "3/3 [==============================] - 0s 32ms/step - loss: 0.0034 - mse: 0.0034 - val_loss: 0.0167 - val_mse: 0.0167\n",
      "Epoch 37/100\n",
      "3/3 [==============================] - 0s 34ms/step - loss: 0.0033 - mse: 0.0033 - val_loss: 0.0164 - val_mse: 0.0164\n",
      "Epoch 38/100\n",
      "3/3 [==============================] - 0s 39ms/step - loss: 0.0032 - mse: 0.0032 - val_loss: 0.0163 - val_mse: 0.0163\n",
      "Epoch 39/100\n",
      "3/3 [==============================] - 0s 43ms/step - loss: 0.0032 - mse: 0.0032 - val_loss: 0.0160 - val_mse: 0.0160\n",
      "Epoch 40/100\n",
      "3/3 [==============================] - 0s 38ms/step - loss: 0.0032 - mse: 0.0032 - val_loss: 0.0156 - val_mse: 0.0156\n",
      "Epoch 41/100\n",
      "3/3 [==============================] - 0s 40ms/step - loss: 0.0031 - mse: 0.0031 - val_loss: 0.0151 - val_mse: 0.0151\n",
      "Epoch 42/100\n",
      "3/3 [==============================] - 0s 31ms/step - loss: 0.0031 - mse: 0.0031 - val_loss: 0.0150 - val_mse: 0.0150\n",
      "Epoch 43/100\n",
      "3/3 [==============================] - 0s 34ms/step - loss: 0.0031 - mse: 0.0031 - val_loss: 0.0152 - val_mse: 0.0152\n",
      "Epoch 44/100\n",
      "3/3 [==============================] - 0s 35ms/step - loss: 0.0031 - mse: 0.0031 - val_loss: 0.0150 - val_mse: 0.0150\n",
      "Epoch 45/100\n",
      "3/3 [==============================] - 0s 30ms/step - loss: 0.0031 - mse: 0.0031 - val_loss: 0.0144 - val_mse: 0.0144\n",
      "Epoch 46/100\n",
      "3/3 [==============================] - 0s 30ms/step - loss: 0.0031 - mse: 0.0031 - val_loss: 0.0142 - val_mse: 0.0142\n",
      "Epoch 47/100\n",
      "3/3 [==============================] - 0s 28ms/step - loss: 0.0031 - mse: 0.0031 - val_loss: 0.0144 - val_mse: 0.0144\n",
      "Epoch 48/100\n",
      "3/3 [==============================] - 0s 28ms/step - loss: 0.0030 - mse: 0.0030 - val_loss: 0.0144 - val_mse: 0.0144\n",
      "Epoch 49/100\n",
      "3/3 [==============================] - 0s 33ms/step - loss: 0.0031 - mse: 0.0031 - val_loss: 0.0142 - val_mse: 0.0142\n",
      "Epoch 50/100\n",
      "3/3 [==============================] - 0s 34ms/step - loss: 0.0030 - mse: 0.0030 - val_loss: 0.0141 - val_mse: 0.0141\n",
      "Epoch 51/100\n",
      "3/3 [==============================] - 0s 33ms/step - loss: 0.0030 - mse: 0.0030 - val_loss: 0.0140 - val_mse: 0.0140\n",
      "Epoch 52/100\n",
      "3/3 [==============================] - 0s 33ms/step - loss: 0.0030 - mse: 0.0030 - val_loss: 0.0139 - val_mse: 0.0139\n",
      "Epoch 53/100\n",
      "3/3 [==============================] - 0s 34ms/step - loss: 0.0031 - mse: 0.0031 - val_loss: 0.0136 - val_mse: 0.0136\n",
      "Epoch 54/100\n",
      "3/3 [==============================] - 0s 31ms/step - loss: 0.0030 - mse: 0.0030 - val_loss: 0.0140 - val_mse: 0.0140\n",
      "Epoch 55/100\n",
      "3/3 [==============================] - 0s 33ms/step - loss: 0.0031 - mse: 0.0031 - val_loss: 0.0142 - val_mse: 0.0142\n",
      "Epoch 56/100\n",
      "3/3 [==============================] - 0s 32ms/step - loss: 0.0030 - mse: 0.0030 - val_loss: 0.0138 - val_mse: 0.0138\n",
      "Epoch 57/100\n",
      "3/3 [==============================] - 0s 33ms/step - loss: 0.0030 - mse: 0.0030 - val_loss: 0.0135 - val_mse: 0.0135\n",
      "Epoch 58/100\n",
      "3/3 [==============================] - 0s 45ms/step - loss: 0.0030 - mse: 0.0030 - val_loss: 0.0136 - val_mse: 0.0136\n",
      "Epoch 59/100\n",
      "3/3 [==============================] - 0s 43ms/step - loss: 0.0030 - mse: 0.0030 - val_loss: 0.0138 - val_mse: 0.0138\n",
      "Epoch 60/100\n",
      "3/3 [==============================] - 0s 35ms/step - loss: 0.0030 - mse: 0.0030 - val_loss: 0.0140 - val_mse: 0.0140\n",
      "Epoch 61/100\n",
      "3/3 [==============================] - 0s 34ms/step - loss: 0.0030 - mse: 0.0030 - val_loss: 0.0137 - val_mse: 0.0137\n",
      "Epoch 62/100\n",
      "3/3 [==============================] - 0s 31ms/step - loss: 0.0030 - mse: 0.0030 - val_loss: 0.0136 - val_mse: 0.0136\n",
      "Epoch 63/100\n",
      "3/3 [==============================] - 0s 30ms/step - loss: 0.0030 - mse: 0.0030 - val_loss: 0.0136 - val_mse: 0.0136\n",
      "Epoch 64/100\n",
      "3/3 [==============================] - 0s 27ms/step - loss: 0.0030 - mse: 0.0030 - val_loss: 0.0138 - val_mse: 0.0138\n",
      "Epoch 65/100\n",
      "3/3 [==============================] - 0s 32ms/step - loss: 0.0030 - mse: 0.0030 - val_loss: 0.0139 - val_mse: 0.0139\n",
      "Epoch 66/100\n",
      "3/3 [==============================] - 0s 29ms/step - loss: 0.0030 - mse: 0.0030 - val_loss: 0.0137 - val_mse: 0.0137\n",
      "Epoch 67/100\n",
      "3/3 [==============================] - 0s 35ms/step - loss: 0.0030 - mse: 0.0030 - val_loss: 0.0137 - val_mse: 0.0137\n",
      "Epoch 68/100\n",
      "3/3 [==============================] - 0s 40ms/step - loss: 0.0030 - mse: 0.0030 - val_loss: 0.0136 - val_mse: 0.0136\n",
      "Epoch 69/100\n",
      "3/3 [==============================] - 0s 35ms/step - loss: 0.0030 - mse: 0.0030 - val_loss: 0.0138 - val_mse: 0.0138\n",
      "Epoch 70/100\n",
      "3/3 [==============================] - 0s 36ms/step - loss: 0.0030 - mse: 0.0030 - val_loss: 0.0140 - val_mse: 0.0140\n",
      "Epoch 71/100\n",
      "3/3 [==============================] - 0s 34ms/step - loss: 0.0030 - mse: 0.0030 - val_loss: 0.0137 - val_mse: 0.0137\n",
      "Epoch 72/100\n",
      "3/3 [==============================] - 0s 33ms/step - loss: 0.0030 - mse: 0.0030 - val_loss: 0.0136 - val_mse: 0.0136\n",
      "Epoch 73/100\n",
      "3/3 [==============================] - 0s 37ms/step - loss: 0.0030 - mse: 0.0030 - val_loss: 0.0136 - val_mse: 0.0136\n",
      "Epoch 74/100\n",
      "3/3 [==============================] - 0s 34ms/step - loss: 0.0030 - mse: 0.0030 - val_loss: 0.0138 - val_mse: 0.0138\n",
      "Epoch 75/100\n",
      "3/3 [==============================] - 0s 35ms/step - loss: 0.0030 - mse: 0.0030 - val_loss: 0.0138 - val_mse: 0.0138\n",
      "Epoch 76/100\n",
      "3/3 [==============================] - 0s 39ms/step - loss: 0.0031 - mse: 0.0031 - val_loss: 0.0135 - val_mse: 0.0135\n",
      "Epoch 77/100\n",
      "3/3 [==============================] - 0s 38ms/step - loss: 0.0030 - mse: 0.0030 - val_loss: 0.0138 - val_mse: 0.0138\n",
      "Epoch 78/100\n",
      "3/3 [==============================] - 0s 35ms/step - loss: 0.0030 - mse: 0.0030 - val_loss: 0.0138 - val_mse: 0.0138\n",
      "Epoch 79/100\n",
      "3/3 [==============================] - 0s 32ms/step - loss: 0.0031 - mse: 0.0031 - val_loss: 0.0137 - val_mse: 0.0137\n",
      "Epoch 80/100\n",
      "3/3 [==============================] - 0s 33ms/step - loss: 0.0030 - mse: 0.0030 - val_loss: 0.0133 - val_mse: 0.0133\n",
      "Epoch 81/100\n",
      "3/3 [==============================] - 0s 34ms/step - loss: 0.0031 - mse: 0.0031 - val_loss: 0.0134 - val_mse: 0.0134\n",
      "Epoch 82/100\n",
      "3/3 [==============================] - 0s 32ms/step - loss: 0.0030 - mse: 0.0030 - val_loss: 0.0141 - val_mse: 0.0141\n",
      "Epoch 83/100\n",
      "3/3 [==============================] - 0s 31ms/step - loss: 0.0030 - mse: 0.0030 - val_loss: 0.0138 - val_mse: 0.0138\n",
      "Epoch 84/100\n",
      "3/3 [==============================] - 0s 30ms/step - loss: 0.0030 - mse: 0.0030 - val_loss: 0.0136 - val_mse: 0.0136\n",
      "Epoch 85/100\n",
      "3/3 [==============================] - 0s 30ms/step - loss: 0.0030 - mse: 0.0030 - val_loss: 0.0134 - val_mse: 0.0134\n",
      "Epoch 86/100\n",
      "3/3 [==============================] - 0s 30ms/step - loss: 0.0030 - mse: 0.0030 - val_loss: 0.0139 - val_mse: 0.0139\n",
      "Epoch 87/100\n",
      "3/3 [==============================] - 0s 28ms/step - loss: 0.0031 - mse: 0.0031 - val_loss: 0.0139 - val_mse: 0.0139\n",
      "Epoch 88/100\n",
      "3/3 [==============================] - 0s 32ms/step - loss: 0.0030 - mse: 0.0030 - val_loss: 0.0133 - val_mse: 0.0133\n",
      "Epoch 89/100\n",
      "3/3 [==============================] - 0s 31ms/step - loss: 0.0031 - mse: 0.0031 - val_loss: 0.0133 - val_mse: 0.0133\n",
      "Epoch 90/100\n",
      "3/3 [==============================] - 0s 27ms/step - loss: 0.0030 - mse: 0.0030 - val_loss: 0.0140 - val_mse: 0.0140\n",
      "Epoch 91/100\n",
      "3/3 [==============================] - 0s 33ms/step - loss: 0.0030 - mse: 0.0030 - val_loss: 0.0137 - val_mse: 0.0137\n",
      "Epoch 92/100\n",
      "3/3 [==============================] - 0s 33ms/step - loss: 0.0030 - mse: 0.0030 - val_loss: 0.0132 - val_mse: 0.0132\n",
      "Epoch 93/100\n",
      "3/3 [==============================] - 0s 30ms/step - loss: 0.0030 - mse: 0.0030 - val_loss: 0.0133 - val_mse: 0.0133\n",
      "Epoch 94/100\n",
      "3/3 [==============================] - 0s 32ms/step - loss: 0.0030 - mse: 0.0030 - val_loss: 0.0138 - val_mse: 0.0138\n",
      "Epoch 95/100\n",
      "3/3 [==============================] - 0s 30ms/step - loss: 0.0030 - mse: 0.0030 - val_loss: 0.0135 - val_mse: 0.0135\n",
      "Epoch 96/100\n",
      "3/3 [==============================] - 0s 33ms/step - loss: 0.0030 - mse: 0.0030 - val_loss: 0.0135 - val_mse: 0.0135\n",
      "Epoch 97/100\n",
      "3/3 [==============================] - 0s 31ms/step - loss: 0.0030 - mse: 0.0030 - val_loss: 0.0135 - val_mse: 0.0135\n",
      "Epoch 98/100\n",
      "3/3 [==============================] - 0s 29ms/step - loss: 0.0030 - mse: 0.0030 - val_loss: 0.0136 - val_mse: 0.0136\n",
      "Epoch 99/100\n",
      "3/3 [==============================] - 0s 29ms/step - loss: 0.0030 - mse: 0.0030 - val_loss: 0.0137 - val_mse: 0.0137\n",
      "Epoch 100/100\n",
      "3/3 [==============================] - 0s 28ms/step - loss: 0.0030 - mse: 0.0030 - val_loss: 0.0134 - val_mse: 0.0134\n"
     ]
    },
    {
     "data": {
      "text/plain": [
       "<keras.callbacks.History at 0x2432dab39d0>"
      ]
     },
     "execution_count": 93,
     "metadata": {},
     "output_type": "execute_result"
    }
   ],
   "source": [
    "model.fit(X_train,y_train,validation_data=(X_test,ytest),epochs=100,batch_size=64,verbose=1)"
   ]
  },
  {
   "cell_type": "code",
   "execution_count": 94,
   "metadata": {},
   "outputs": [
    {
     "name": "stdout",
     "output_type": "stream",
     "text": [
      "4/4 [==============================] - 0s 5ms/step - loss: 0.0134 - mse: 0.0134\n"
     ]
    },
    {
     "data": {
      "text/plain": [
       "[0.013443737290799618, 0.013443737290799618]"
      ]
     },
     "execution_count": 94,
     "metadata": {},
     "output_type": "execute_result"
    }
   ],
   "source": [
    "model.evaluate(X_test,ytest)"
   ]
  },
  {
   "cell_type": "code",
   "execution_count": 95,
   "metadata": {},
   "outputs": [],
   "source": [
    "### Lets Do the prediction and check performance metrics\n",
    "train_predict=model.predict(X_train)\n",
    "test_predict=model.predict(X_test)"
   ]
  },
  {
   "cell_type": "code",
   "execution_count": 96,
   "metadata": {},
   "outputs": [],
   "source": [
    "##Transformback to original form\n",
    "train_predict=scaler.inverse_transform(train_predict)\n",
    "test_predict=scaler.inverse_transform(test_predict)"
   ]
  },
  {
   "cell_type": "code",
   "execution_count": 97,
   "metadata": {},
   "outputs": [
    {
     "data": {
      "text/plain": [
       "321.0234057140261"
      ]
     },
     "execution_count": 97,
     "metadata": {},
     "output_type": "execute_result"
    }
   ],
   "source": [
    "### Calculate RMSE performance metrics\n",
    "import math\n",
    "from sklearn.metrics import mean_squared_error\n",
    "math.sqrt(mean_squared_error(y_train,train_predict))"
   ]
  },
  {
   "cell_type": "code",
   "execution_count": 98,
   "metadata": {},
   "outputs": [
    {
     "data": {
      "text/plain": [
       "303.26273304602574"
      ]
     },
     "execution_count": 98,
     "metadata": {},
     "output_type": "execute_result"
    }
   ],
   "source": [
    "### Test Data RMSE\n",
    "math.sqrt(mean_squared_error(ytest,test_predict))"
   ]
  },
  {
   "cell_type": "code",
   "execution_count": 99,
   "metadata": {},
   "outputs": [
    {
     "data": {
      "image/png": "[encoded data removed]",
      "text/plain": [
       "<Figure size 1152x648 with 1 Axes>"
      ]
     },
     "metadata": {
      "needs_background": "light"
     },
     "output_type": "display_data"
    }
   ],
   "source": [
    "### Plotting \n",
    "# shift train predictions for plotting\n",
    "look_back=7\n",
    "trainPredictPlot = numpy.empty_like(df1)\n",
    "trainPredictPlot[:, :] = np.nan\n",
    "trainPredictPlot[look_back:len(train_predict)+look_back, :] = train_predict\n",
    "# shift test predictions for plotting\n",
    "testPredictPlot = numpy.empty_like(df1)\n",
    "testPredictPlot[:, :] = numpy.nan\n",
    "testPredictPlot[len(train_predict)+(look_back*2)+1:len(df1)-1, :] = test_predict\n",
    "# plot baseline and predictions\n",
    "plt.figure(figsize=(16,9))\n",
    "plt.xlabel('No. of Days')\n",
    "plt.ylabel('Prices')\n",
    "plt.plot(scaler.inverse_transform(df1))\n",
    "plt.plot(trainPredictPlot)\n",
    "plt.plot(testPredictPlot)\n",
    "plt.legend(['Original Prices','Training Data','Test Data'])\n",
    "plt.show()"
   ]
  },
  {
   "cell_type": "code",
   "execution_count": 100,
   "metadata": {},
   "outputs": [
    {
     "data": {
      "text/plain": [
       "108"
      ]
     },
     "execution_count": 100,
     "metadata": {},
     "output_type": "execute_result"
    }
   ],
   "source": [
    "len(test_data)"
   ]
  },
  {
   "cell_type": "code",
   "execution_count": 101,
   "metadata": {},
   "outputs": [
    {
     "data": {
      "text/plain": [
       "101"
      ]
     },
     "execution_count": 101,
     "metadata": {},
     "output_type": "execute_result"
    }
   ],
   "source": [
    "108-7 ## here we see that since for predicting the open price of 19thJan 2022,we will use past 100 records to predict the price on jan 19th\n"
   ]
  },
  {
   "cell_type": "code",
   "execution_count": 102,
   "metadata": {},
   "outputs": [
    {
     "data": {
      "text/plain": [
       "(1, 7)"
      ]
     },
     "execution_count": 102,
     "metadata": {},
     "output_type": "execute_result"
    }
   ],
   "source": [
    "x_input=test_data[101:].reshape(1,-1)\n",
    "x_input.shape\n"
   ]
  },
  {
   "cell_type": "code",
   "execution_count": 103,
   "metadata": {},
   "outputs": [],
   "source": [
    "temp_input=list(x_input)\n",
    "temp_input=temp_input[0].tolist()"
   ]
  },
  {
   "cell_type": "code",
   "execution_count": 104,
   "metadata": {},
   "outputs": [
    {
     "data": {
      "text/plain": [
       "[0.01936811914037795,\n",
       " 0.03940405039531758,\n",
       " 0.07536603456944813,\n",
       " 0.10105316612239867,\n",
       " 0.14112510702318215,\n",
       " 0.12504493758594581,\n",
       " 0.13511432764670028]"
      ]
     },
     "execution_count": 104,
     "metadata": {},
     "output_type": "execute_result"
    }
   ],
   "source": [
    "temp_input"
   ]
  },
  {
   "cell_type": "code",
   "execution_count": 105,
   "metadata": {},
   "outputs": [
    {
     "name": "stdout",
     "output_type": "stream",
     "text": [
      "[0.16373748]\n",
      "8\n",
      "1 day input [0.03940405 0.07536603 0.10105317 0.14112511 0.12504494 0.13511433\n",
      " 0.16373748]\n",
      "1 day output [[0.18082757]]\n",
      "2 day input [0.07536603 0.10105317 0.14112511 0.12504494 0.13511433 0.16373748\n",
      " 0.18082757]\n",
      "2 day output [[0.19782986]]\n",
      "3 day input [0.10105317 0.14112511 0.12504494 0.13511433 0.16373748 0.18082757\n",
      " 0.19782986]\n",
      "3 day output [[0.21147557]]\n",
      "4 day input [0.14112511 0.12504494 0.13511433 0.16373748 0.18082757 0.19782986\n",
      " 0.21147557]\n",
      "4 day output [[0.22339477]]\n",
      "5 day input [0.12504494 0.13511433 0.16373748 0.18082757 0.19782986 0.21147557\n",
      " 0.22339477]\n",
      "5 day output [[0.23056422]]\n",
      "6 day input [0.13511433 0.16373748 0.18082757 0.19782986 0.21147557 0.22339477\n",
      " 0.23056422]\n",
      "6 day output [[0.24366674]]\n",
      "[[0.1637374758720398], [0.1808275729417801], [0.19782985746860504], [0.21147556602954865], [0.22339476644992828], [0.23056422173976898], [0.24366673827171326]]\n"
     ]
    }
   ],
   "source": [
    "# demonstrate prediction for next 7 days since we have previous sentiments for past one week scrapped from the live data\n",
    "from numpy import array\n",
    "\n",
    "lst_output=[]\n",
    "n_steps=7\n",
    "i=0\n",
    "while(i<7):\n",
    "    \n",
    "    if(len(temp_input)>7):\n",
    "        #print(temp_input)\n",
    "        x_input=np.array(temp_input[1:])\n",
    "        print(\"{} day input {}\".format(i,x_input))\n",
    "        x_input=x_input.reshape(1,-1)\n",
    "        x_input = x_input.reshape((1, n_steps, 1))\n",
    "        #print(x_input)\n",
    "        yhat = model.predict(x_input, verbose=0)\n",
    "        print(\"{} day output {}\".format(i,yhat))\n",
    "        temp_input.extend(yhat[0].tolist())\n",
    "        temp_input=temp_input[1:]\n",
    "        #print(temp_input)\n",
    "        lst_output.extend(yhat.tolist())\n",
    "        i=i+1\n",
    "    else:\n",
    "        x_input = x_input.reshape((1, n_steps,1))\n",
    "        yhat = model.predict(x_input, verbose=0)\n",
    "        print(yhat[0])\n",
    "        temp_input.extend(yhat[0].tolist())\n",
    "        print(len(temp_input))\n",
    "        lst_output.extend(yhat.tolist())\n",
    "        i=i+1\n",
    "    \n",
    "\n",
    "print(lst_output)"
   ]
  },
  {
   "cell_type": "code",
   "execution_count": 106,
   "metadata": {},
   "outputs": [],
   "source": [
    "day_new=np.arange(1,8)\n",
    "day_pred=np.arange(8,15)"
   ]
  },
  {
   "cell_type": "code",
   "execution_count": 107,
   "metadata": {},
   "outputs": [
    {
     "data": {
      "text/plain": [
       "(7,)"
      ]
     },
     "execution_count": 107,
     "metadata": {},
     "output_type": "execute_result"
    }
   ],
   "source": [
    "day_new.shape"
   ]
  },
  {
   "cell_type": "code",
   "execution_count": 108,
   "metadata": {},
   "outputs": [],
   "source": [
    "import matplotlib.pyplot as plt"
   ]
  },
  {
   "cell_type": "code",
   "execution_count": 109,
   "metadata": {},
   "outputs": [
    {
     "data": {
      "text/plain": [
       "308"
      ]
     },
     "execution_count": 109,
     "metadata": {},
     "output_type": "execute_result"
    }
   ],
   "source": [
    "len(df1)"
   ]
  },
  {
   "cell_type": "code",
   "execution_count": 110,
   "metadata": {},
   "outputs": [
    {
     "data": {
      "text/plain": [
       "301"
      ]
     },
     "execution_count": 110,
     "metadata": {},
     "output_type": "execute_result"
    }
   ],
   "source": [
    "308-7 ##since we are predicting 7 day prices ,based on previous 7 records"
   ]
  },
  {
   "cell_type": "code",
   "execution_count": 111,
   "metadata": {},
   "outputs": [
    {
     "data": {
      "image/png": "[encoded data removed]",
      "text/plain": [
       "<Figure size 432x288 with 1 Axes>"
      ]
     },
     "metadata": {
      "needs_background": "light"
     },
     "output_type": "display_data"
    }
   ],
   "source": [
    "plt.plot(day_new,scaler.inverse_transform(df1[301:]))\n",
    "plt.plot(day_pred,scaler.inverse_transform(lst_output))\n",
    "plt.legend(['Real Data','Predicted Data'])\n",
    "plt.show()"
   ]
  },
  {
   "cell_type": "code",
   "execution_count": 112,
   "metadata": {},
   "outputs": [],
   "source": [
    "## After combining both the actual data and the predicted data just to smoothen the graph,"
   ]
  },
  {
   "cell_type": "code",
   "execution_count": 113,
   "metadata": {},
   "outputs": [
    {
     "data": {
      "image/png": "[encoded data removed]",
      "text/plain": [
       "<Figure size 432x288 with 1 Axes>"
      ]
     },
     "metadata": {
      "needs_background": "light"
     },
     "output_type": "display_data"
    }
   ],
   "source": [
    "df3=df1.tolist()\n",
    "df3.extend(lst_output)\n",
    "plt.plot(df3[300:])\n",
    "\n",
    "plt.show()\n"
   ]
  },
  {
   "cell_type": "code",
   "execution_count": null,
   "metadata": {},
   "outputs": [],
   "source": []
  },
  {
   "cell_type": "code",
   "execution_count": null,
   "metadata": {},
   "outputs": [],
   "source": []
  }
 ],
 "metadata": {
  "kernelspec": {
   "display_name": "Python 3",
   "language": "python",
   "name": "python3"
  },
  "language_info": {
   "codemirror_mode": {
    "name": "ipython",
    "version": 3
   },
   "file_extension": ".py",
   "mimetype": "text/x-python",
   "name": "python",
   "nbconvert_exporter": "python",
   "pygments_lexer": "ipython3",
   "version": "3.8.3"
  }
 },
 "nbformat": 4,
 "nbformat_minor": 4
}
